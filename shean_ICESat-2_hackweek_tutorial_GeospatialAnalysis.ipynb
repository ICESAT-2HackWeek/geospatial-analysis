{
 "cells": [
  {
   "cell_type": "markdown",
   "metadata": {},
   "source": [
    "# Geospatial Data Exploration, Analysis, and Visualization\n",
    "### Some core concepts and geospatial data science approaches for ICESat data analysis*\n",
    "*Not intended for billions of ATL03 points\n",
    "\n",
    "ICESat-2 hackweek  \n",
    "June 12, 2020  \n",
    "David Shean"
   ]
  },
  {
   "cell_type": "markdown",
   "metadata": {},
   "source": [
    "You've used the NSIDC API, pulled your granules, extracted the relevant records and fields, and done some initial QA/QC.  Now what?  \n",
    "\n",
    "Let's work through some Python geospatial data science tools that can help with analysis and visualization of these point data, enabling exploratory data analysis and data-driven discovery.  "
   ]
  },
  {
   "cell_type": "markdown",
   "metadata": {},
   "source": [
    "# Objectives\n",
    "\n",
    "* Review commong fundamental concepts in geospatial analysis (e.g. coordinate systems, projections, datums, geometry types)\n",
    "* Learn basic geospatial data manipulation and exploration with a relatively small, clean ICESat GLAS dataset\n",
    "* Use modern data science tools (pandas) for basic data exploration, interpretation, and visualization\n",
    "* Explore different approaches for spatial aggregation of points - groupby attribute, spatial join by polygon, hex bins\n",
    "* Learn how to sample a raster at point locations\n",
    "* Analyze elevation change using sparse laser altimetry data over mountain glaciers"
   ]
  },
  {
   "cell_type": "markdown",
   "metadata": {},
   "source": [
    "# Tutorial prep\n",
    "\n",
    "1. Log on to the event Jupyterhub: https://icesat-2.hackweek.io\n",
    "\n",
    "1. Open a terminal in Jupyterlab (\"+\" icon in upper left corner, then click on the terminal icon)\n",
    "\n",
    "1. Navigate to local directory where you want to store tutorial material (home directory by default):  \n",
    "`cd ~/tutorials`\n",
    "\n",
    "1. If you haven't dont so, clone the repo:  \n",
    "`git clone https://github.com/ICESAT-2HackWeek/geospatial-analysis.git`\n",
    "\n",
    "1. Enter the tutorial directory:  \n",
    "`cd geospatial-analysis`\n",
    "\n",
    "    1. If you cloned earlier in the week, you will need to pull latest changes:\n",
    "`git pull`\n",
    "\n",
    "**Remeber to post all questions to the `#questions` channel on the Slack workspace**"
   ]
  },
  {
   "cell_type": "markdown",
   "metadata": {},
   "source": [
    "# Introduction"
   ]
  },
  {
   "cell_type": "markdown",
   "metadata": {},
   "source": [
    "## Quick Zoom poll:\n",
    "In the Zoom Participants panel, use the Yes (green) or No (red) response to answer the following question: \n",
    "\n",
    "**Have you ever taken a GIS course?**"
   ]
  },
  {
   "cell_type": "markdown",
   "metadata": {},
   "source": [
    "## GIS Basics\n",
    ">A geographic information system (GIS) is a framework for gathering, managing, and analyzing data. Rooted in the science of geography, GIS integrates many types of data. It analyzes spatial location and organizes layers of information into visualizations using maps and 3D scenes. ​With this unique capability, GIS reveals deeper insights into data, such as patterns, relationships, and situations—helping users make smarter decisions.\n",
    "\n",
    "https://www.esri.com/en-us/what-is-gis/overview\n",
    "\n",
    "Primary data types:\n",
    "* Vector - points, lines, polygons; shapefiles\n",
    "    * https://automating-gis-processes.github.io/site/notebooks/L1/geometric-objects.html\n",
    "* Raster - images, gridded data; GeoTiff\n",
    "\n",
    "Concepts (with specific geopandas doc):\n",
    "* Coordinate Systems - map projection and datum: https://geopandas.org/projections.html\n",
    "* Geometry manipulation/operations: \n",
    "    * https://geopandas.org/geometric_manipulations.html\n",
    "    * https://geopandas.org/set_operations.html"
   ]
  },
  {
   "cell_type": "markdown",
   "metadata": {},
   "source": [
    "## The Scientific Python landscape\n",
    "\n",
    "* Python\n",
    "* Jupyter/iPython\n",
    "* NumPy, Pandas, Matplotlib, SciPy\n",
    "* xarray, scikit-learn\n",
    "\n",
    "One (aging) interpretation of this stack:\n",
    "\n",
    "![2017 Scientific Python Stack](https://devopedia.org/images/article/60/7938.1587985662.jpg)\n",
    "Slide from Jake VanderPlas’s presentation at PyCon 2017, entitled “The Unexpected Effectiveness of Python in Science.”"
   ]
  },
  {
   "cell_type": "markdown",
   "metadata": {},
   "source": [
    "## The Geospatial Python landscape\n",
    "* GDAL/OGR, GEOS, PROJ\n",
    "* shapely, fiona, pyproj\n",
    "* xarray, geopandas, rasterio, cartopy\n",
    "* rioxarray/salem, PDAL\n",
    "\n",
    "[Insert shiny new figure here]"
   ]
  },
  {
   "cell_type": "markdown",
   "metadata": {},
   "source": [
    "## Complementary approaches for ICESat-2 data\n",
    "\n",
    "1. Efficient, scalable processing of huge point datasets\n",
    "    * Mostly NumPy\n",
    "    * Basic array manipulations\n",
    "    * Array size limited by memory - can chunk with Dask\n",
    "2. Higher-level data science - *analysis, interpetation, and visualization*\n",
    "    * NumPy under the hood\n",
    "    * Convenience and flexibility comes with small performance hit\n",
    "    * Labels make life easier (don't need to remember integer indices)\n",
    "\n",
    "Here, we're going to explore #2 with an existing dataset.\n",
    "\n",
    "At the end of the day, most applications just need clean (x,y,z,t) points.\n",
    "\n",
    "As with all things in the *nix/open-source/Python world, there are always multiple approaches that can be used to accomplish the same goals.  The user must decide on an approach based on complexity, time constraints, etc."
   ]
  },
  {
   "cell_type": "markdown",
   "metadata": {},
   "source": [
    "# ICESat GLAS Background\n",
    "The NASA Ice Cloud and land Elevation Satellite ([ICESat](https://icesat.gsfc.nasa.gov/icesat/)) was a NASA mission carrying the Geosciences Laser Altimeter System (GLAS) instrument: a space laser, pointed down at the Earth (and unsuspecting Earthlings).  \n",
    "\n",
    "It measured surface elevations by precisely tracking laser pulses emitted from the spacecraft at a rate of 40 Hz (a new pulse every 0.025 seconds).  These pulses traveled through the atmosphere, reflected off the surface, back up through the atmosphere, and into space, where some small fraction of that original energy was received by a telescope on the spacecraft.  The instrument electronics precisely recorded the time when these intrepid photons left the instrument and when they returned.  The position and orientation of the spacecraft was precisely known, so the two-way traveltime (and assumptions about the speed of light and propagation through the atmosphere) allowed for precise forward determination of the spot on the Earth's surface (or cloud tops, as was often the case) where the reflection occurred.  The laser spot size varied during the mission, but was ~70 m in diameter. \n",
    "\n",
    "ICESat collected billions of measurements from 2003 to 2009, and was operating in a \"repeat-track\" mode that sacrificed spatial coverage for more observations along the same ground tracks over time.  One primary science focus involved elevation change over the Earth's ice sheets.  It allowed for early measurements of full Antarctic and Greenland ice sheet elevation change, which offered a detailed look at spatial distribution and rates of mass loss, and total ice sheet contributions to sea level rise.  \n",
    "\n",
    "There were problems with the lasers during the mission, so it operated in short campaigns lasting only a few months to prolong the full mission lifetime.  While the primary measurements focused on the polar regions, many measurements were also collected over lower latitudes, to meet other important science objectives (e.g., estimating biomass in the Earth's forests, observing sea surface height/thickness over time). "
   ]
  },
  {
   "cell_type": "markdown",
   "metadata": {},
   "source": [
    "# Part 1: Sample GLAS dataset for CONUS\n",
    "A few years ago, I wanted to evaluate ICESat coverage of the Continental United States (CONUS).  The primary application was to extract a set of accurate control points to co-register a large set of high-resolution digital elevation modoels (DEMs) derived from satellite stereo imagery.  I wrote some Python/shell scripts to download, filter, and process all of the GLAH14 granules in parallel ([https://github.com/dshean/icesat_tools](https://github.com/dshean/icesat_tools)).\n",
    "\n",
    "The high-level workflow is here: https://github.com/dshean/icesat_tools/blob/master/glas_proc.py#L24.  These tools processed each HDF5 (H5) file and wrote out csv files containing only the “good” points. These csv files were concatenated to prepare the single input csv (`GLAH14_tllz_conus_lulcfilt_demfilt.csv`) that we will use for this tutorial.  \n",
    "\n",
    "The csv contains ICESat GLAS shots that passed the following filters:\n",
    "* Within some buffer (~110 km) of mapped glacier polygons from the [Randolph Glacier Inventory (RGI)](https://www.glims.org/RGI/)\n",
    "* Returns from exposed bare ground (landcover class 31) or snow/ice (12) according to a 30-m Land-use/Land-cover dataset (2011 NLCD, https://www.mrlc.gov/data?f%5B0%5D=category%3Aland%20cover)\n",
    "* Elevation values within some threshold (200 m) of elevations sampled from an external reference DEM (void-filled 1/3-arcsec [30-m] SRTM-GL1, https://lpdaac.usgs.gov/products/srtmgl1v003/), used to remove spurious points and returns from clouds.\n",
    "* Various other ICESat-specific quality flags (see comments in `glas_proc.py` for details)\n",
    "\n",
    "The final file contains a relatively small subset (~65K) of the total shots in the original GLAH14 data granules from the full mission timeline (2003-2009).  The remaining points should represent returns from the Earth's surface with reasonably high quality, and can be used for subsequent analysis."
   ]
  },
  {
   "cell_type": "markdown",
   "metadata": {},
   "source": [
    "## Wait, I thought this was an ICESat-**2** hackweek?\n",
    "\n",
    "Note that we could (and should!) swap similarly processed/filtered ATL06 points over CONUS for this tutorial.  I did not have time to do this before the hackweek, but it would make a great project (nudge).  After opening this updated file with Pandas, it should mostly be a matter of updating field names throughout the notebook."
   ]
  },
  {
   "cell_type": "markdown",
   "metadata": {},
   "source": [
    "# Import necessary modules"
   ]
  },
  {
   "cell_type": "code",
   "execution_count": 1,
   "metadata": {},
   "outputs": [],
   "source": [
    "import os\n",
    "import requests\n",
    "import zipfile"
   ]
  },
  {
   "cell_type": "code",
   "execution_count": 2,
   "metadata": {},
   "outputs": [],
   "source": [
    "import numpy as np\n",
    "import pandas as pd\n",
    "import geopandas as gpd\n",
    "import matplotlib.pyplot as plt\n",
    "from shapely.geometry import Point, Polygon"
   ]
  },
  {
   "cell_type": "code",
   "execution_count": 3,
   "metadata": {},
   "outputs": [],
   "source": [
    "import warnings\n",
    "warnings.filterwarnings('ignore')"
   ]
  },
  {
   "cell_type": "code",
   "execution_count": 4,
   "metadata": {},
   "outputs": [],
   "source": [
    "#Magic function to enable interactive plotting (zoom/pan) in Jupyter notebook\n",
    "#If running locally, this would be `%matplotlib notebook`, but since we're using Juptyerlab, we use widget\n",
    "%matplotlib widget\n",
    "#%matplotlib inline"
   ]
  },
  {
   "cell_type": "code",
   "execution_count": 5,
   "metadata": {},
   "outputs": [],
   "source": [
    "#Define path to sample GLAS data\n",
    "glas_fn = 'GLAH14_tllz_conus_lulcfilt_demfilt.csv'"
   ]
  },
  {
   "cell_type": "code",
   "execution_count": 6,
   "metadata": {},
   "outputs": [
    {
     "name": "stdout",
     "output_type": "stream",
     "text": [
      "decyear,ordinal,lat,lon,glas_z,dem_z,dem_z_std,lulc\n",
      "2003.13957078, 731266.9433448168, 44.157897, -105.356562, 1398.51, 1400.52, 0.33, 31\n",
      "2003.13957081, 731266.9433462636, 44.150175, -105.358116, 1387.11, 1384.64, 0.43, 31\n",
      "2003.13957081, 731266.9433465529, 44.148632, -105.358427, 1392.83, 1383.49, 0.28, 31\n",
      "2003.13957081, 731266.9433468423, 44.147087, -105.358738, 1384.24, 1382.85, 0.84, 31\n",
      "2003.13957081, 731266.9433471316, 44.145542, -105.359048, 1369.21, 1380.24, 1.73, 31\n",
      "2003.13957081, 731266.9433474210, 44.143996, -105.359359, 1366.60, 1375.23, 1.60, 31\n",
      "2003.13957081, 731266.9433506038, 44.126969, -105.362876, 1355.14, 1379.38, 2.17, 31\n",
      "2003.13957084, 731266.9433604418, 44.074358, -105.373549, 1369.53, 1391.71, 2.88, 31\n",
      "2003.13957084, 731266.9433607311, 44.072806, -105.373864, 1380.02, 1387.79, 0.45, 31\n"
     ]
    }
   ],
   "source": [
    "#Quick check of csv file contents\n",
    "!head $glas_fn"
   ]
  },
  {
   "cell_type": "markdown",
   "metadata": {},
   "source": [
    "# Pandas\n",
    "\n",
    "Trust me, you should learn how to use `Pandas`, regardless of your ICESat-2 application.  \n",
    "\n",
    "A significant portion of the Python data science ecosystem is based on Pandas and/or Pandas data models.\n",
    "\n",
    ">pandas is a Python package providing fast, flexible, and expressive data structures designed to make working with \"relational\" or \"labeled\" data both easy and intuitive. It aims to be the fundamental high-level building block for doing practical, real world data analysis in Python. Additionally, it has the broader goal of becoming the most powerful and flexible open source data analysis / manipulation tool available in any language. It is already well on its way towards this goal.\n",
    "\n",
    "https://github.com/pandas-dev/pandas#main-features\n",
    "\n",
    "If you are working with tabular data (rows and columns, like a csv or spreadsheet), especially time series data, please use pandas.\n",
    "* A better way to deal with tabular data, built on top of NumPy arrays\n",
    "* With NumPy, we had to remember which column number (e.g., 3, 4) represented each variable (lat, lon, glas_z, etc)\n",
    "* Pandas allows you to store data with different types, and then reference using more meaningful labels\n",
    "    * NumPy: `glas_np[:,4]`\n",
    "    * Pandas: `glas_df['glas_z']`\n",
    "* A good \"10-minute\" reference with examples: https://pandas.pydata.org/pandas-docs/stable/getting_started/10min.html\n",
    "\n",
    "If you are working with more complex data, like collections of tabular time series data from 100s of met stations or netCDF model output, you can use [`xarray` package](http://xarray.pydata.org/en/stable/), which extends the `pandas` data model to n-dimensions."
   ]
  },
  {
   "cell_type": "markdown",
   "metadata": {},
   "source": [
    "## Load the csv file with Pandas\n",
    "* Note that pandas has excellent readers for most common file formats: https://pandas.pydata.org/pandas-docs/stable/reference/io.html"
   ]
  },
  {
   "cell_type": "code",
   "execution_count": 7,
   "metadata": {},
   "outputs": [],
   "source": [
    "glas_df = pd.read_csv(glas_fn)"
   ]
  },
  {
   "cell_type": "markdown",
   "metadata": {},
   "source": [
    "## That was easy.  Let's inspect the returned `DataFrame` object"
   ]
  },
  {
   "cell_type": "code",
   "execution_count": 8,
   "metadata": {},
   "outputs": [
    {
     "data": {
      "text/html": [
       "<div>\n",
       "<style scoped>\n",
       "    .dataframe tbody tr th:only-of-type {\n",
       "        vertical-align: middle;\n",
       "    }\n",
       "\n",
       "    .dataframe tbody tr th {\n",
       "        vertical-align: top;\n",
       "    }\n",
       "\n",
       "    .dataframe thead th {\n",
       "        text-align: right;\n",
       "    }\n",
       "</style>\n",
       "<table border=\"1\" class=\"dataframe\">\n",
       "  <thead>\n",
       "    <tr style=\"text-align: right;\">\n",
       "      <th></th>\n",
       "      <th>decyear</th>\n",
       "      <th>ordinal</th>\n",
       "      <th>lat</th>\n",
       "      <th>lon</th>\n",
       "      <th>glas_z</th>\n",
       "      <th>dem_z</th>\n",
       "      <th>dem_z_std</th>\n",
       "      <th>lulc</th>\n",
       "    </tr>\n",
       "  </thead>\n",
       "  <tbody>\n",
       "    <tr>\n",
       "      <th>0</th>\n",
       "      <td>2003.139571</td>\n",
       "      <td>731266.943345</td>\n",
       "      <td>44.157897</td>\n",
       "      <td>-105.356562</td>\n",
       "      <td>1398.51</td>\n",
       "      <td>1400.52</td>\n",
       "      <td>0.33</td>\n",
       "      <td>31</td>\n",
       "    </tr>\n",
       "    <tr>\n",
       "      <th>1</th>\n",
       "      <td>2003.139571</td>\n",
       "      <td>731266.943346</td>\n",
       "      <td>44.150175</td>\n",
       "      <td>-105.358116</td>\n",
       "      <td>1387.11</td>\n",
       "      <td>1384.64</td>\n",
       "      <td>0.43</td>\n",
       "      <td>31</td>\n",
       "    </tr>\n",
       "    <tr>\n",
       "      <th>2</th>\n",
       "      <td>2003.139571</td>\n",
       "      <td>731266.943347</td>\n",
       "      <td>44.148632</td>\n",
       "      <td>-105.358427</td>\n",
       "      <td>1392.83</td>\n",
       "      <td>1383.49</td>\n",
       "      <td>0.28</td>\n",
       "      <td>31</td>\n",
       "    </tr>\n",
       "    <tr>\n",
       "      <th>3</th>\n",
       "      <td>2003.139571</td>\n",
       "      <td>731266.943347</td>\n",
       "      <td>44.147087</td>\n",
       "      <td>-105.358738</td>\n",
       "      <td>1384.24</td>\n",
       "      <td>1382.85</td>\n",
       "      <td>0.84</td>\n",
       "      <td>31</td>\n",
       "    </tr>\n",
       "    <tr>\n",
       "      <th>4</th>\n",
       "      <td>2003.139571</td>\n",
       "      <td>731266.943347</td>\n",
       "      <td>44.145542</td>\n",
       "      <td>-105.359048</td>\n",
       "      <td>1369.21</td>\n",
       "      <td>1380.24</td>\n",
       "      <td>1.73</td>\n",
       "      <td>31</td>\n",
       "    </tr>\n",
       "    <tr>\n",
       "      <th>...</th>\n",
       "      <td>...</td>\n",
       "      <td>...</td>\n",
       "      <td>...</td>\n",
       "      <td>...</td>\n",
       "      <td>...</td>\n",
       "      <td>...</td>\n",
       "      <td>...</td>\n",
       "      <td>...</td>\n",
       "    </tr>\n",
       "    <tr>\n",
       "      <th>65231</th>\n",
       "      <td>2009.775995</td>\n",
       "      <td>733691.238340</td>\n",
       "      <td>37.896222</td>\n",
       "      <td>-117.044399</td>\n",
       "      <td>1556.16</td>\n",
       "      <td>1556.43</td>\n",
       "      <td>0.00</td>\n",
       "      <td>31</td>\n",
       "    </tr>\n",
       "    <tr>\n",
       "      <th>65232</th>\n",
       "      <td>2009.775995</td>\n",
       "      <td>733691.238340</td>\n",
       "      <td>37.897769</td>\n",
       "      <td>-117.044675</td>\n",
       "      <td>1556.02</td>\n",
       "      <td>1556.43</td>\n",
       "      <td>0.00</td>\n",
       "      <td>31</td>\n",
       "    </tr>\n",
       "    <tr>\n",
       "      <th>65233</th>\n",
       "      <td>2009.775995</td>\n",
       "      <td>733691.238340</td>\n",
       "      <td>37.899319</td>\n",
       "      <td>-117.044952</td>\n",
       "      <td>1556.19</td>\n",
       "      <td>1556.44</td>\n",
       "      <td>0.00</td>\n",
       "      <td>31</td>\n",
       "    </tr>\n",
       "    <tr>\n",
       "      <th>65234</th>\n",
       "      <td>2009.775995</td>\n",
       "      <td>733691.238340</td>\n",
       "      <td>37.900869</td>\n",
       "      <td>-117.045230</td>\n",
       "      <td>1556.18</td>\n",
       "      <td>1556.44</td>\n",
       "      <td>0.00</td>\n",
       "      <td>31</td>\n",
       "    </tr>\n",
       "    <tr>\n",
       "      <th>65235</th>\n",
       "      <td>2009.775995</td>\n",
       "      <td>733691.238341</td>\n",
       "      <td>37.902420</td>\n",
       "      <td>-117.045508</td>\n",
       "      <td>1556.32</td>\n",
       "      <td>1556.44</td>\n",
       "      <td>0.00</td>\n",
       "      <td>31</td>\n",
       "    </tr>\n",
       "  </tbody>\n",
       "</table>\n",
       "<p>65236 rows × 8 columns</p>\n",
       "</div>"
      ],
      "text/plain": [
       "           decyear        ordinal        lat         lon   glas_z    dem_z  \\\n",
       "0      2003.139571  731266.943345  44.157897 -105.356562  1398.51  1400.52   \n",
       "1      2003.139571  731266.943346  44.150175 -105.358116  1387.11  1384.64   \n",
       "2      2003.139571  731266.943347  44.148632 -105.358427  1392.83  1383.49   \n",
       "3      2003.139571  731266.943347  44.147087 -105.358738  1384.24  1382.85   \n",
       "4      2003.139571  731266.943347  44.145542 -105.359048  1369.21  1380.24   \n",
       "...            ...            ...        ...         ...      ...      ...   \n",
       "65231  2009.775995  733691.238340  37.896222 -117.044399  1556.16  1556.43   \n",
       "65232  2009.775995  733691.238340  37.897769 -117.044675  1556.02  1556.43   \n",
       "65233  2009.775995  733691.238340  37.899319 -117.044952  1556.19  1556.44   \n",
       "65234  2009.775995  733691.238340  37.900869 -117.045230  1556.18  1556.44   \n",
       "65235  2009.775995  733691.238341  37.902420 -117.045508  1556.32  1556.44   \n",
       "\n",
       "       dem_z_std  lulc  \n",
       "0           0.33    31  \n",
       "1           0.43    31  \n",
       "2           0.28    31  \n",
       "3           0.84    31  \n",
       "4           1.73    31  \n",
       "...          ...   ...  \n",
       "65231       0.00    31  \n",
       "65232       0.00    31  \n",
       "65233       0.00    31  \n",
       "65234       0.00    31  \n",
       "65235       0.00    31  \n",
       "\n",
       "[65236 rows x 8 columns]"
      ]
     },
     "execution_count": 8,
     "metadata": {},
     "output_type": "execute_result"
    }
   ],
   "source": [
    "glas_df"
   ]
  },
  {
   "cell_type": "markdown",
   "metadata": {},
   "source": [
    "## Check data types\n",
    "* Can use the DataFrame `info` method"
   ]
  },
  {
   "cell_type": "code",
   "execution_count": 9,
   "metadata": {},
   "outputs": [
    {
     "name": "stdout",
     "output_type": "stream",
     "text": [
      "<class 'pandas.core.frame.DataFrame'>\n",
      "RangeIndex: 65236 entries, 0 to 65235\n",
      "Data columns (total 8 columns):\n",
      " #   Column     Non-Null Count  Dtype  \n",
      "---  ------     --------------  -----  \n",
      " 0   decyear    65236 non-null  float64\n",
      " 1   ordinal    65236 non-null  float64\n",
      " 2   lat        65236 non-null  float64\n",
      " 3   lon        65236 non-null  float64\n",
      " 4   glas_z     65236 non-null  float64\n",
      " 5   dem_z      65236 non-null  float64\n",
      " 6   dem_z_std  65236 non-null  float64\n",
      " 7   lulc       65236 non-null  int64  \n",
      "dtypes: float64(7), int64(1)\n",
      "memory usage: 4.0 MB\n"
     ]
    }
   ],
   "source": [
    "glas_df.info()"
   ]
  },
  {
   "cell_type": "markdown",
   "metadata": {},
   "source": [
    "## Get the column labels\n",
    "* Can use the DataFrame `columns` attribute"
   ]
  },
  {
   "cell_type": "code",
   "execution_count": 10,
   "metadata": {},
   "outputs": [
    {
     "data": {
      "text/plain": [
       "Index(['decyear', 'ordinal', 'lat', 'lon', 'glas_z', 'dem_z', 'dem_z_std',\n",
       "       'lulc'],\n",
       "      dtype='object')"
      ]
     },
     "execution_count": 10,
     "metadata": {},
     "output_type": "execute_result"
    }
   ],
   "source": [
    "glas_df.columns"
   ]
  },
  {
   "cell_type": "markdown",
   "metadata": {},
   "source": [
    "If you are new to Python and object-oriented programming, take a moment during the break to consider the [difference between the methods and attributes](https://stackoverflow.com/questions/46312470/difference-between-methods-and-attributes-in-python) of the DataFrame, and how both are accessed. \n",
    "\n",
    "https://pandas.pydata.org/pandas-docs/stable/reference/api/pandas.DataFrame.html\n",
    "\n",
    "If this is confusing, ask your neighbor or instructor."
   ]
  },
  {
   "cell_type": "markdown",
   "metadata": {},
   "source": [
    "## Preview records using DataFrame `head` and `tail` methods"
   ]
  },
  {
   "cell_type": "code",
   "execution_count": 11,
   "metadata": {},
   "outputs": [
    {
     "data": {
      "text/html": [
       "<div>\n",
       "<style scoped>\n",
       "    .dataframe tbody tr th:only-of-type {\n",
       "        vertical-align: middle;\n",
       "    }\n",
       "\n",
       "    .dataframe tbody tr th {\n",
       "        vertical-align: top;\n",
       "    }\n",
       "\n",
       "    .dataframe thead th {\n",
       "        text-align: right;\n",
       "    }\n",
       "</style>\n",
       "<table border=\"1\" class=\"dataframe\">\n",
       "  <thead>\n",
       "    <tr style=\"text-align: right;\">\n",
       "      <th></th>\n",
       "      <th>decyear</th>\n",
       "      <th>ordinal</th>\n",
       "      <th>lat</th>\n",
       "      <th>lon</th>\n",
       "      <th>glas_z</th>\n",
       "      <th>dem_z</th>\n",
       "      <th>dem_z_std</th>\n",
       "      <th>lulc</th>\n",
       "    </tr>\n",
       "  </thead>\n",
       "  <tbody>\n",
       "    <tr>\n",
       "      <th>0</th>\n",
       "      <td>2003.139571</td>\n",
       "      <td>731266.943345</td>\n",
       "      <td>44.157897</td>\n",
       "      <td>-105.356562</td>\n",
       "      <td>1398.51</td>\n",
       "      <td>1400.52</td>\n",
       "      <td>0.33</td>\n",
       "      <td>31</td>\n",
       "    </tr>\n",
       "    <tr>\n",
       "      <th>1</th>\n",
       "      <td>2003.139571</td>\n",
       "      <td>731266.943346</td>\n",
       "      <td>44.150175</td>\n",
       "      <td>-105.358116</td>\n",
       "      <td>1387.11</td>\n",
       "      <td>1384.64</td>\n",
       "      <td>0.43</td>\n",
       "      <td>31</td>\n",
       "    </tr>\n",
       "    <tr>\n",
       "      <th>2</th>\n",
       "      <td>2003.139571</td>\n",
       "      <td>731266.943347</td>\n",
       "      <td>44.148632</td>\n",
       "      <td>-105.358427</td>\n",
       "      <td>1392.83</td>\n",
       "      <td>1383.49</td>\n",
       "      <td>0.28</td>\n",
       "      <td>31</td>\n",
       "    </tr>\n",
       "    <tr>\n",
       "      <th>3</th>\n",
       "      <td>2003.139571</td>\n",
       "      <td>731266.943347</td>\n",
       "      <td>44.147087</td>\n",
       "      <td>-105.358738</td>\n",
       "      <td>1384.24</td>\n",
       "      <td>1382.85</td>\n",
       "      <td>0.84</td>\n",
       "      <td>31</td>\n",
       "    </tr>\n",
       "    <tr>\n",
       "      <th>4</th>\n",
       "      <td>2003.139571</td>\n",
       "      <td>731266.943347</td>\n",
       "      <td>44.145542</td>\n",
       "      <td>-105.359048</td>\n",
       "      <td>1369.21</td>\n",
       "      <td>1380.24</td>\n",
       "      <td>1.73</td>\n",
       "      <td>31</td>\n",
       "    </tr>\n",
       "  </tbody>\n",
       "</table>\n",
       "</div>"
      ],
      "text/plain": [
       "       decyear        ordinal        lat         lon   glas_z    dem_z  \\\n",
       "0  2003.139571  731266.943345  44.157897 -105.356562  1398.51  1400.52   \n",
       "1  2003.139571  731266.943346  44.150175 -105.358116  1387.11  1384.64   \n",
       "2  2003.139571  731266.943347  44.148632 -105.358427  1392.83  1383.49   \n",
       "3  2003.139571  731266.943347  44.147087 -105.358738  1384.24  1382.85   \n",
       "4  2003.139571  731266.943347  44.145542 -105.359048  1369.21  1380.24   \n",
       "\n",
       "   dem_z_std  lulc  \n",
       "0       0.33    31  \n",
       "1       0.43    31  \n",
       "2       0.28    31  \n",
       "3       0.84    31  \n",
       "4       1.73    31  "
      ]
     },
     "execution_count": 11,
     "metadata": {},
     "output_type": "execute_result"
    }
   ],
   "source": [
    "glas_df.head()"
   ]
  },
  {
   "cell_type": "code",
   "execution_count": 12,
   "metadata": {},
   "outputs": [
    {
     "data": {
      "text/html": [
       "<div>\n",
       "<style scoped>\n",
       "    .dataframe tbody tr th:only-of-type {\n",
       "        vertical-align: middle;\n",
       "    }\n",
       "\n",
       "    .dataframe tbody tr th {\n",
       "        vertical-align: top;\n",
       "    }\n",
       "\n",
       "    .dataframe thead th {\n",
       "        text-align: right;\n",
       "    }\n",
       "</style>\n",
       "<table border=\"1\" class=\"dataframe\">\n",
       "  <thead>\n",
       "    <tr style=\"text-align: right;\">\n",
       "      <th></th>\n",
       "      <th>decyear</th>\n",
       "      <th>ordinal</th>\n",
       "      <th>lat</th>\n",
       "      <th>lon</th>\n",
       "      <th>glas_z</th>\n",
       "      <th>dem_z</th>\n",
       "      <th>dem_z_std</th>\n",
       "      <th>lulc</th>\n",
       "    </tr>\n",
       "  </thead>\n",
       "  <tbody>\n",
       "    <tr>\n",
       "      <th>65231</th>\n",
       "      <td>2009.775995</td>\n",
       "      <td>733691.238340</td>\n",
       "      <td>37.896222</td>\n",
       "      <td>-117.044399</td>\n",
       "      <td>1556.16</td>\n",
       "      <td>1556.43</td>\n",
       "      <td>0.0</td>\n",
       "      <td>31</td>\n",
       "    </tr>\n",
       "    <tr>\n",
       "      <th>65232</th>\n",
       "      <td>2009.775995</td>\n",
       "      <td>733691.238340</td>\n",
       "      <td>37.897769</td>\n",
       "      <td>-117.044675</td>\n",
       "      <td>1556.02</td>\n",
       "      <td>1556.43</td>\n",
       "      <td>0.0</td>\n",
       "      <td>31</td>\n",
       "    </tr>\n",
       "    <tr>\n",
       "      <th>65233</th>\n",
       "      <td>2009.775995</td>\n",
       "      <td>733691.238340</td>\n",
       "      <td>37.899319</td>\n",
       "      <td>-117.044952</td>\n",
       "      <td>1556.19</td>\n",
       "      <td>1556.44</td>\n",
       "      <td>0.0</td>\n",
       "      <td>31</td>\n",
       "    </tr>\n",
       "    <tr>\n",
       "      <th>65234</th>\n",
       "      <td>2009.775995</td>\n",
       "      <td>733691.238340</td>\n",
       "      <td>37.900869</td>\n",
       "      <td>-117.045230</td>\n",
       "      <td>1556.18</td>\n",
       "      <td>1556.44</td>\n",
       "      <td>0.0</td>\n",
       "      <td>31</td>\n",
       "    </tr>\n",
       "    <tr>\n",
       "      <th>65235</th>\n",
       "      <td>2009.775995</td>\n",
       "      <td>733691.238341</td>\n",
       "      <td>37.902420</td>\n",
       "      <td>-117.045508</td>\n",
       "      <td>1556.32</td>\n",
       "      <td>1556.44</td>\n",
       "      <td>0.0</td>\n",
       "      <td>31</td>\n",
       "    </tr>\n",
       "  </tbody>\n",
       "</table>\n",
       "</div>"
      ],
      "text/plain": [
       "           decyear        ordinal        lat         lon   glas_z    dem_z  \\\n",
       "65231  2009.775995  733691.238340  37.896222 -117.044399  1556.16  1556.43   \n",
       "65232  2009.775995  733691.238340  37.897769 -117.044675  1556.02  1556.43   \n",
       "65233  2009.775995  733691.238340  37.899319 -117.044952  1556.19  1556.44   \n",
       "65234  2009.775995  733691.238340  37.900869 -117.045230  1556.18  1556.44   \n",
       "65235  2009.775995  733691.238341  37.902420 -117.045508  1556.32  1556.44   \n",
       "\n",
       "       dem_z_std  lulc  \n",
       "65231        0.0    31  \n",
       "65232        0.0    31  \n",
       "65233        0.0    31  \n",
       "65234        0.0    31  \n",
       "65235        0.0    31  "
      ]
     },
     "execution_count": 12,
     "metadata": {},
     "output_type": "execute_result"
    }
   ],
   "source": [
    "glas_df.tail()"
   ]
  },
  {
   "cell_type": "markdown",
   "metadata": {},
   "source": [
    "## Compute the mean and standard deviation for all values in each column"
   ]
  },
  {
   "cell_type": "code",
   "execution_count": 13,
   "metadata": {},
   "outputs": [
    {
     "data": {
      "text/plain": [
       "decyear        2005.945322\n",
       "ordinal      732291.890372\n",
       "lat              40.946798\n",
       "lon            -115.040612\n",
       "glas_z         1791.494167\n",
       "dem_z          1792.260964\n",
       "dem_z_std         5.504748\n",
       "lulc             30.339444\n",
       "dtype: float64"
      ]
     },
     "execution_count": 13,
     "metadata": {},
     "output_type": "execute_result"
    }
   ],
   "source": [
    "glas_df.mean()"
   ]
  },
  {
   "cell_type": "code",
   "execution_count": 14,
   "metadata": {},
   "outputs": [
    {
     "data": {
      "text/plain": [
       "decyear         1.729573\n",
       "ordinal       631.766682\n",
       "lat             3.590476\n",
       "lon             5.465065\n",
       "glas_z       1037.183482\n",
       "dem_z        1037.925371\n",
       "dem_z_std       7.518558\n",
       "lulc            3.480576\n",
       "dtype: float64"
      ]
     },
     "execution_count": 14,
     "metadata": {},
     "output_type": "execute_result"
    }
   ],
   "source": [
    "glas_df.std()"
   ]
  },
  {
   "cell_type": "markdown",
   "metadata": {},
   "source": [
    "## Apply a custom function to each column\n",
    "* For this example, let's define a function to compute the Normalized Median Absolute Deviation (NMAD)\n",
    "* We will then use the Pandas `apply` method to compute the NMAD for all values in each column\n",
    "* https://en.wikipedia.org/wiki/Median_absolute_deviation\n",
    "* For a normal distribution, this is equivalent to the standard deviation. But for data containing outliers, it is a more robust representation of variability. "
   ]
  },
  {
   "cell_type": "code",
   "execution_count": 15,
   "metadata": {},
   "outputs": [],
   "source": [
    "def nmad(a, c=1.4826):\n",
    "    return np.median(np.fabs(a - np.median(a))) * c"
   ]
  },
  {
   "cell_type": "code",
   "execution_count": 16,
   "metadata": {},
   "outputs": [
    {
     "data": {
      "text/plain": [
       "decyear        2.066488\n",
       "ordinal      755.079010\n",
       "lat            3.885421\n",
       "lon            5.798237\n",
       "glas_z       632.580942\n",
       "dem_z        632.136162\n",
       "dem_z_std      2.001510\n",
       "lulc           0.000000\n",
       "dtype: float64"
      ]
     },
     "execution_count": 16,
     "metadata": {},
     "output_type": "execute_result"
    }
   ],
   "source": [
    "glas_df.apply(nmad)"
   ]
  },
  {
   "cell_type": "markdown",
   "metadata": {},
   "source": [
    "*Note: the NMAD function is now distributed with `scipy.stats`: \n",
    "https://docs.scipy.org/doc/scipy/reference/generated/scipy.stats.median_absolute_deviation.html*\n",
    "\n",
    "Can also use and `apply` functions imported from modules"
   ]
  },
  {
   "cell_type": "code",
   "execution_count": 17,
   "metadata": {},
   "outputs": [],
   "source": [
    "import scipy.stats"
   ]
  },
  {
   "cell_type": "code",
   "execution_count": 18,
   "metadata": {},
   "outputs": [
    {
     "data": {
      "text/plain": [
       "decyear        2.066488\n",
       "ordinal      755.079010\n",
       "lat            3.885421\n",
       "lon            5.798237\n",
       "glas_z       632.580942\n",
       "dem_z        632.136162\n",
       "dem_z_std      2.001510\n",
       "lulc           0.000000\n",
       "dtype: float64"
      ]
     },
     "execution_count": 18,
     "metadata": {},
     "output_type": "execute_result"
    }
   ],
   "source": [
    "glas_df.apply(scipy.stats.median_absolute_deviation)"
   ]
  },
  {
   "cell_type": "markdown",
   "metadata": {},
   "source": [
    "## Print quick stats for entire DataFrame with the `describe` method"
   ]
  },
  {
   "cell_type": "code",
   "execution_count": 19,
   "metadata": {},
   "outputs": [
    {
     "data": {
      "text/html": [
       "<div>\n",
       "<style scoped>\n",
       "    .dataframe tbody tr th:only-of-type {\n",
       "        vertical-align: middle;\n",
       "    }\n",
       "\n",
       "    .dataframe tbody tr th {\n",
       "        vertical-align: top;\n",
       "    }\n",
       "\n",
       "    .dataframe thead th {\n",
       "        text-align: right;\n",
       "    }\n",
       "</style>\n",
       "<table border=\"1\" class=\"dataframe\">\n",
       "  <thead>\n",
       "    <tr style=\"text-align: right;\">\n",
       "      <th></th>\n",
       "      <th>decyear</th>\n",
       "      <th>ordinal</th>\n",
       "      <th>lat</th>\n",
       "      <th>lon</th>\n",
       "      <th>glas_z</th>\n",
       "      <th>dem_z</th>\n",
       "      <th>dem_z_std</th>\n",
       "      <th>lulc</th>\n",
       "    </tr>\n",
       "  </thead>\n",
       "  <tbody>\n",
       "    <tr>\n",
       "      <th>count</th>\n",
       "      <td>65236.000000</td>\n",
       "      <td>65236.000000</td>\n",
       "      <td>65236.000000</td>\n",
       "      <td>65236.000000</td>\n",
       "      <td>65236.000000</td>\n",
       "      <td>65236.000000</td>\n",
       "      <td>65236.000000</td>\n",
       "      <td>65236.000000</td>\n",
       "    </tr>\n",
       "    <tr>\n",
       "      <th>mean</th>\n",
       "      <td>2005.945322</td>\n",
       "      <td>732291.890372</td>\n",
       "      <td>40.946798</td>\n",
       "      <td>-115.040612</td>\n",
       "      <td>1791.494167</td>\n",
       "      <td>1792.260964</td>\n",
       "      <td>5.504748</td>\n",
       "      <td>30.339444</td>\n",
       "    </tr>\n",
       "    <tr>\n",
       "      <th>std</th>\n",
       "      <td>1.729573</td>\n",
       "      <td>631.766682</td>\n",
       "      <td>3.590476</td>\n",
       "      <td>5.465065</td>\n",
       "      <td>1037.183482</td>\n",
       "      <td>1037.925371</td>\n",
       "      <td>7.518558</td>\n",
       "      <td>3.480576</td>\n",
       "    </tr>\n",
       "    <tr>\n",
       "      <th>min</th>\n",
       "      <td>2003.139571</td>\n",
       "      <td>731266.943345</td>\n",
       "      <td>34.999455</td>\n",
       "      <td>-124.482406</td>\n",
       "      <td>-115.550000</td>\n",
       "      <td>-114.570000</td>\n",
       "      <td>0.000000</td>\n",
       "      <td>12.000000</td>\n",
       "    </tr>\n",
       "    <tr>\n",
       "      <th>25%</th>\n",
       "      <td>2004.444817</td>\n",
       "      <td>731743.803182</td>\n",
       "      <td>38.101451</td>\n",
       "      <td>-119.257599</td>\n",
       "      <td>1166.970000</td>\n",
       "      <td>1168.240000</td>\n",
       "      <td>0.070000</td>\n",
       "      <td>31.000000</td>\n",
       "    </tr>\n",
       "    <tr>\n",
       "      <th>50%</th>\n",
       "      <td>2005.846896</td>\n",
       "      <td>732256.116938</td>\n",
       "      <td>39.884541</td>\n",
       "      <td>-115.686241</td>\n",
       "      <td>1555.730000</td>\n",
       "      <td>1556.380000</td>\n",
       "      <td>1.350000</td>\n",
       "      <td>31.000000</td>\n",
       "    </tr>\n",
       "    <tr>\n",
       "      <th>75%</th>\n",
       "      <td>2007.223249</td>\n",
       "      <td>732758.486046</td>\n",
       "      <td>43.453565</td>\n",
       "      <td>-109.816475</td>\n",
       "      <td>2399.355000</td>\n",
       "      <td>2400.072500</td>\n",
       "      <td>9.530000</td>\n",
       "      <td>31.000000</td>\n",
       "    </tr>\n",
       "    <tr>\n",
       "      <th>max</th>\n",
       "      <td>2009.775995</td>\n",
       "      <td>733691.238341</td>\n",
       "      <td>48.999727</td>\n",
       "      <td>-104.052336</td>\n",
       "      <td>4340.310000</td>\n",
       "      <td>4252.940000</td>\n",
       "      <td>49.900000</td>\n",
       "      <td>31.000000</td>\n",
       "    </tr>\n",
       "  </tbody>\n",
       "</table>\n",
       "</div>"
      ],
      "text/plain": [
       "            decyear        ordinal           lat           lon        glas_z  \\\n",
       "count  65236.000000   65236.000000  65236.000000  65236.000000  65236.000000   \n",
       "mean    2005.945322  732291.890372     40.946798   -115.040612   1791.494167   \n",
       "std        1.729573     631.766682      3.590476      5.465065   1037.183482   \n",
       "min     2003.139571  731266.943345     34.999455   -124.482406   -115.550000   \n",
       "25%     2004.444817  731743.803182     38.101451   -119.257599   1166.970000   \n",
       "50%     2005.846896  732256.116938     39.884541   -115.686241   1555.730000   \n",
       "75%     2007.223249  732758.486046     43.453565   -109.816475   2399.355000   \n",
       "max     2009.775995  733691.238341     48.999727   -104.052336   4340.310000   \n",
       "\n",
       "              dem_z     dem_z_std          lulc  \n",
       "count  65236.000000  65236.000000  65236.000000  \n",
       "mean    1792.260964      5.504748     30.339444  \n",
       "std     1037.925371      7.518558      3.480576  \n",
       "min     -114.570000      0.000000     12.000000  \n",
       "25%     1168.240000      0.070000     31.000000  \n",
       "50%     1556.380000      1.350000     31.000000  \n",
       "75%     2400.072500      9.530000     31.000000  \n",
       "max     4252.940000     49.900000     31.000000  "
      ]
     },
     "execution_count": 19,
     "metadata": {},
     "output_type": "execute_result"
    }
   ],
   "source": [
    "glas_df.describe()"
   ]
  },
  {
   "cell_type": "markdown",
   "metadata": {},
   "source": [
    "Useful, huh?  Note that the `50%` statistic is the median."
   ]
  },
  {
   "cell_type": "markdown",
   "metadata": {},
   "source": [
    "## Use the Pandas plotting functionality to create a 2D scatterplot of `glas_z` values\n",
    "* https://pandas.pydata.org/pandas-docs/stable/reference/api/pandas.DataFrame.plot.scatter.html\n",
    "* Note that labels and colorbar are automatically plotted!\n",
    "* Can adjust the size of the points using the `s=1` keyword\n",
    "* Can experiment with different color ramps:\n",
    "    * https://matplotlib.org/examples/color/colormaps_reference.html (I prefer `inferno`)"
   ]
  },
  {
   "cell_type": "markdown",
   "metadata": {},
   "source": [
    "#### Color ramps\n",
    "Information on how to choose a good colormap for your data: https://matplotlib.org/3.1.0/tutorials/colors/colormaps.html  \n",
    "Another great resource (Thanks @fperez!): https://matplotlib.org/cmocean/  \n",
    "**TL;DR** Don't use `jet`, use a perceptually uniform colormap for linear variables like elevation. Use a diverging color ramp for values where sign is important."
   ]
  },
  {
   "cell_type": "code",
   "execution_count": 20,
   "metadata": {},
   "outputs": [
    {
     "data": {
      "application/vnd.jupyter.widget-view+json": {
       "model_id": "3d5f2cf60c47450e9a1cfb03d05155da",
       "version_major": 2,
       "version_minor": 0
      },
      "text/plain": [
       "Canvas(toolbar=Toolbar(toolitems=[('Home', 'Reset original view', 'home', 'home'), ('Back', 'Back to previous …"
      ]
     },
     "metadata": {},
     "output_type": "display_data"
    }
   ],
   "source": [
    "glas_df.plot(x='lon', y='lat', kind='scatter', c='glas_z', s=1, cmap='inferno');"
   ]
  },
  {
   "cell_type": "markdown",
   "metadata": {},
   "source": [
    "## Experiment by changing the variable represented with the color ramp\n",
    "* Try `decyear` or other columns to quickly visualize spatial distribution of these values."
   ]
  },
  {
   "cell_type": "code",
   "execution_count": 21,
   "metadata": {},
   "outputs": [
    {
     "data": {
      "application/vnd.jupyter.widget-view+json": {
       "model_id": "85d5fb87e281498c9d678d15d70a7e5f",
       "version_major": 2,
       "version_minor": 0
      },
      "text/plain": [
       "Canvas(toolbar=Toolbar(toolitems=[('Home', 'Reset original view', 'home', 'home'), ('Back', 'Back to previous …"
      ]
     },
     "metadata": {},
     "output_type": "display_data"
    }
   ],
   "source": [
    "glas_df.plot(x='lon', y='lat', kind='scatter', c='decyear', s=1, cmap='inferno');"
   ]
  },
  {
   "cell_type": "markdown",
   "metadata": {},
   "source": [
    "## Create a histogram that shows the number of points vs time (`decyear`)"
   ]
  },
  {
   "cell_type": "code",
   "execution_count": 22,
   "metadata": {},
   "outputs": [
    {
     "data": {
      "text/plain": [
       "331"
      ]
     },
     "execution_count": 22,
     "metadata": {},
     "output_type": "execute_result"
    }
   ],
   "source": [
    "#Determine number of bins needed to provide weekly resolution\n",
    "nbins = int(50 * np.ptp(glas_df['decyear'].values))\n",
    "nbins"
   ]
  },
  {
   "cell_type": "code",
   "execution_count": 23,
   "metadata": {},
   "outputs": [
    {
     "data": {
      "application/vnd.jupyter.widget-view+json": {
       "model_id": "b2d24aa273a34483ac48def326ec630a",
       "version_major": 2,
       "version_minor": 0
      },
      "text/plain": [
       "Canvas(toolbar=Toolbar(toolitems=[('Home', 'Reset original view', 'home', 'home'), ('Back', 'Back to previous …"
      ]
     },
     "metadata": {},
     "output_type": "display_data"
    }
   ],
   "source": [
    "ax = glas_df.hist('decyear', bins=nbins)[0,0]\n",
    "ax.set_ylabel('Number of ICESat points')\n",
    "ax.set_title('Weekly usable ICESat point count over CONUS');"
   ]
  },
  {
   "cell_type": "markdown",
   "metadata": {},
   "source": [
    "Note that we can resolve the distinct campaigns during the ICESat mission (each ~1-2 months long)."
   ]
  },
  {
   "cell_type": "markdown",
   "metadata": {},
   "source": [
    "## Create a histogram of all `glas_z` elevation values"
   ]
  },
  {
   "cell_type": "code",
   "execution_count": 24,
   "metadata": {},
   "outputs": [
    {
     "data": {
      "text/plain": [
       "222"
      ]
     },
     "execution_count": 24,
     "metadata": {},
     "output_type": "execute_result"
    }
   ],
   "source": [
    "#Determine number of bins needed for 20 m elevation bins\n",
    "binwidth = 20\n",
    "nbins = int(np.ptp(glas_df['glas_z'].values)/binwidth)\n",
    "nbins"
   ]
  },
  {
   "cell_type": "code",
   "execution_count": 25,
   "metadata": {},
   "outputs": [
    {
     "data": {
      "application/vnd.jupyter.widget-view+json": {
       "model_id": "e27acd910b874486b52a9e0d03601c8d",
       "version_major": 2,
       "version_minor": 0
      },
      "text/plain": [
       "Canvas(toolbar=Toolbar(toolitems=[('Home', 'Reset original view', 'home', 'home'), ('Back', 'Back to previous …"
      ]
     },
     "metadata": {},
     "output_type": "display_data"
    }
   ],
   "source": [
    "glas_df.hist('glas_z', bins=nbins);"
   ]
  },
  {
   "cell_type": "markdown",
   "metadata": {},
   "source": [
    "## Wait a minute...negative elevations!?  Who calibrated this thing? C'mon NASA."
   ]
  },
  {
   "cell_type": "markdown",
   "metadata": {},
   "source": [
    "## A note on vertical datums\n",
    "\n",
    "Note that some elevations are less than 0 m.  How can this be?\n",
    "\n",
    "The `glas_z` values are height above (or below) the WGS84 ellipsoid. This is not the same vertical datum as mean sea level (roughly approximated by a geoid model).\n",
    "\n",
    "A good resource explaining the details: https://vdatum.noaa.gov/docs/datums.html"
   ]
  },
  {
   "cell_type": "markdown",
   "metadata": {},
   "source": [
    "## How many GLAS points have a negative `glas_z` value?"
   ]
  },
  {
   "cell_type": "code",
   "execution_count": 26,
   "metadata": {},
   "outputs": [
    {
     "data": {
      "text/plain": [
       "0        False\n",
       "1        False\n",
       "2        False\n",
       "3        False\n",
       "4        False\n",
       "         ...  \n",
       "65231    False\n",
       "65232    False\n",
       "65233    False\n",
       "65234    False\n",
       "65235    False\n",
       "Name: glas_z, Length: 65236, dtype: bool"
      ]
     },
     "execution_count": 26,
     "metadata": {},
     "output_type": "execute_result"
    }
   ],
   "source": [
    "glas_df['glas_z'] < 0"
   ]
  },
  {
   "cell_type": "code",
   "execution_count": 27,
   "metadata": {},
   "outputs": [
    {
     "data": {
      "text/plain": [
       "False    62136\n",
       "True      3100\n",
       "Name: glas_z, dtype: int64"
      ]
     },
     "execution_count": 27,
     "metadata": {},
     "output_type": "execute_result"
    }
   ],
   "source": [
    "(glas_df['glas_z'] < 0).value_counts()"
   ]
  },
  {
   "cell_type": "markdown",
   "metadata": {},
   "source": [
    "## Check spatial distribution of points below 0 (height above WGS84 ellipsoid)\n",
    "* Create a scatterplot only using points with negative values\n",
    "* Adjust the color ramp bounds to bring out more detail for these points\n",
    "    * hint: see the `vmin` and `vmax` arguments for the `plot` function\n",
    "* What do you notice about these points? (may be tough without more context, like coastlines and state boundaries or a tiled basemap - we'll learn how to incorporate these later)"
   ]
  },
  {
   "cell_type": "code",
   "execution_count": 28,
   "metadata": {},
   "outputs": [
    {
     "data": {
      "text/html": [
       "<div>\n",
       "<style scoped>\n",
       "    .dataframe tbody tr th:only-of-type {\n",
       "        vertical-align: middle;\n",
       "    }\n",
       "\n",
       "    .dataframe tbody tr th {\n",
       "        vertical-align: top;\n",
       "    }\n",
       "\n",
       "    .dataframe thead th {\n",
       "        text-align: right;\n",
       "    }\n",
       "</style>\n",
       "<table border=\"1\" class=\"dataframe\">\n",
       "  <thead>\n",
       "    <tr style=\"text-align: right;\">\n",
       "      <th></th>\n",
       "      <th>decyear</th>\n",
       "      <th>ordinal</th>\n",
       "      <th>lat</th>\n",
       "      <th>lon</th>\n",
       "      <th>glas_z</th>\n",
       "      <th>dem_z</th>\n",
       "      <th>dem_z_std</th>\n",
       "      <th>lulc</th>\n",
       "    </tr>\n",
       "  </thead>\n",
       "  <tbody>\n",
       "    <tr>\n",
       "      <th>465</th>\n",
       "      <td>2003.143756</td>\n",
       "      <td>731268.470836</td>\n",
       "      <td>46.279402</td>\n",
       "      <td>-124.035117</td>\n",
       "      <td>-23.42</td>\n",
       "      <td>-22.25</td>\n",
       "      <td>0.81</td>\n",
       "      <td>31</td>\n",
       "    </tr>\n",
       "    <tr>\n",
       "      <th>466</th>\n",
       "      <td>2003.143756</td>\n",
       "      <td>731268.470836</td>\n",
       "      <td>46.282470</td>\n",
       "      <td>-124.035774</td>\n",
       "      <td>-23.39</td>\n",
       "      <td>-21.81</td>\n",
       "      <td>0.52</td>\n",
       "      <td>31</td>\n",
       "    </tr>\n",
       "    <tr>\n",
       "      <th>467</th>\n",
       "      <td>2003.143756</td>\n",
       "      <td>731268.470838</td>\n",
       "      <td>46.291775</td>\n",
       "      <td>-124.037745</td>\n",
       "      <td>-23.44</td>\n",
       "      <td>-23.53</td>\n",
       "      <td>0.00</td>\n",
       "      <td>31</td>\n",
       "    </tr>\n",
       "    <tr>\n",
       "      <th>468</th>\n",
       "      <td>2003.143756</td>\n",
       "      <td>731268.470838</td>\n",
       "      <td>46.293329</td>\n",
       "      <td>-124.038072</td>\n",
       "      <td>-23.11</td>\n",
       "      <td>-23.54</td>\n",
       "      <td>0.00</td>\n",
       "      <td>31</td>\n",
       "    </tr>\n",
       "    <tr>\n",
       "      <th>469</th>\n",
       "      <td>2003.143756</td>\n",
       "      <td>731268.470838</td>\n",
       "      <td>46.294880</td>\n",
       "      <td>-124.038399</td>\n",
       "      <td>-23.98</td>\n",
       "      <td>-22.78</td>\n",
       "      <td>0.26</td>\n",
       "      <td>31</td>\n",
       "    </tr>\n",
       "    <tr>\n",
       "      <th>...</th>\n",
       "      <td>...</td>\n",
       "      <td>...</td>\n",
       "      <td>...</td>\n",
       "      <td>...</td>\n",
       "      <td>...</td>\n",
       "      <td>...</td>\n",
       "      <td>...</td>\n",
       "      <td>...</td>\n",
       "    </tr>\n",
       "    <tr>\n",
       "      <th>65068</th>\n",
       "      <td>2009.771999</td>\n",
       "      <td>733689.779542</td>\n",
       "      <td>46.391823</td>\n",
       "      <td>-123.960255</td>\n",
       "      <td>-23.53</td>\n",
       "      <td>-23.78</td>\n",
       "      <td>0.00</td>\n",
       "      <td>31</td>\n",
       "    </tr>\n",
       "    <tr>\n",
       "      <th>65069</th>\n",
       "      <td>2009.771999</td>\n",
       "      <td>733689.779542</td>\n",
       "      <td>46.390275</td>\n",
       "      <td>-123.960584</td>\n",
       "      <td>-23.23</td>\n",
       "      <td>-23.79</td>\n",
       "      <td>0.00</td>\n",
       "      <td>31</td>\n",
       "    </tr>\n",
       "    <tr>\n",
       "      <th>65070</th>\n",
       "      <td>2009.771999</td>\n",
       "      <td>733689.779543</td>\n",
       "      <td>46.387179</td>\n",
       "      <td>-123.961247</td>\n",
       "      <td>-22.80</td>\n",
       "      <td>-23.79</td>\n",
       "      <td>0.00</td>\n",
       "      <td>31</td>\n",
       "    </tr>\n",
       "    <tr>\n",
       "      <th>65071</th>\n",
       "      <td>2009.771999</td>\n",
       "      <td>733689.779543</td>\n",
       "      <td>46.385631</td>\n",
       "      <td>-123.961580</td>\n",
       "      <td>-23.14</td>\n",
       "      <td>-23.80</td>\n",
       "      <td>0.00</td>\n",
       "      <td>31</td>\n",
       "    </tr>\n",
       "    <tr>\n",
       "      <th>65072</th>\n",
       "      <td>2009.771999</td>\n",
       "      <td>733689.779543</td>\n",
       "      <td>46.384082</td>\n",
       "      <td>-123.961913</td>\n",
       "      <td>-22.67</td>\n",
       "      <td>-23.80</td>\n",
       "      <td>0.00</td>\n",
       "      <td>31</td>\n",
       "    </tr>\n",
       "  </tbody>\n",
       "</table>\n",
       "<p>3100 rows × 8 columns</p>\n",
       "</div>"
      ],
      "text/plain": [
       "           decyear        ordinal        lat         lon  glas_z  dem_z  \\\n",
       "465    2003.143756  731268.470836  46.279402 -124.035117  -23.42 -22.25   \n",
       "466    2003.143756  731268.470836  46.282470 -124.035774  -23.39 -21.81   \n",
       "467    2003.143756  731268.470838  46.291775 -124.037745  -23.44 -23.53   \n",
       "468    2003.143756  731268.470838  46.293329 -124.038072  -23.11 -23.54   \n",
       "469    2003.143756  731268.470838  46.294880 -124.038399  -23.98 -22.78   \n",
       "...            ...            ...        ...         ...     ...    ...   \n",
       "65068  2009.771999  733689.779542  46.391823 -123.960255  -23.53 -23.78   \n",
       "65069  2009.771999  733689.779542  46.390275 -123.960584  -23.23 -23.79   \n",
       "65070  2009.771999  733689.779543  46.387179 -123.961247  -22.80 -23.79   \n",
       "65071  2009.771999  733689.779543  46.385631 -123.961580  -23.14 -23.80   \n",
       "65072  2009.771999  733689.779543  46.384082 -123.961913  -22.67 -23.80   \n",
       "\n",
       "       dem_z_std  lulc  \n",
       "465         0.81    31  \n",
       "466         0.52    31  \n",
       "467         0.00    31  \n",
       "468         0.00    31  \n",
       "469         0.26    31  \n",
       "...          ...   ...  \n",
       "65068       0.00    31  \n",
       "65069       0.00    31  \n",
       "65070       0.00    31  \n",
       "65071       0.00    31  \n",
       "65072       0.00    31  \n",
       "\n",
       "[3100 rows x 8 columns]"
      ]
     },
     "execution_count": 28,
     "metadata": {},
     "output_type": "execute_result"
    }
   ],
   "source": [
    "glas_df[glas_df['glas_z'] < 0]"
   ]
  },
  {
   "cell_type": "code",
   "execution_count": 29,
   "metadata": {},
   "outputs": [
    {
     "data": {
      "application/vnd.jupyter.widget-view+json": {
       "model_id": "f5deea03e61544cc926a87deb1127af9",
       "version_major": 2,
       "version_minor": 0
      },
      "text/plain": [
       "Canvas(toolbar=Toolbar(toolitems=[('Home', 'Reset original view', 'home', 'home'), ('Back', 'Back to previous …"
      ]
     },
     "metadata": {},
     "output_type": "display_data"
    }
   ],
   "source": [
    "glas_df[glas_df['glas_z'] < 0].plot(x='lon', y='lat', kind='scatter', c='dem_z', s=1, cmap='inferno', vmin=-30, vmax=0);"
   ]
  },
  {
   "cell_type": "markdown",
   "metadata": {},
   "source": [
    "## Geoid offset grids\n",
    "PROJ and GDAL use raster grids of the horizontal and vertical offsets between the WGS84 ellipsoid and different geoid models.\n",
    "\n",
    "These grids are now hosted on the cloud: https://cdn.proj.org/, which enables on-the-fly transformations with GDAL!\n",
    "\n",
    "Here's the EGM96 offset grid.  It shows the height differene between the WGS84 ellipsoid (simple shape model of the Earth) and the EGM96 geoid, which approximates a geopotential (gravitational) surface, approximately euivalent to mean sea level \n",
    "\n",
    "![EGM96 geoid offset grid](https://raw.githubusercontent.com/UW-GDA/gda_course_2020/master/resources/sample_img/egm96_offset.png)  \n",
    "(Source GeoTiff: https://cdn.proj.org/us_nga_egm96_15.tif)\n",
    "\n",
    "\n",
    "Note values for CONUS.  \n",
    "\n",
    "A lot of the points with elevation < 0 m in the above plot are near coastal sites, roughly near mean sea level.  We see that the geoid offset (difference between WGS84 ellipsoid and EGM96 geoid in this case) for CONUS is roughly -20 m.  So the ICESat GLAS point elevations near the coast are roughly -20 m relative to the ellipsoid, even though they are 0 m relative to the geoid (approximately mean sea level).  These concepts around datums can be a bit confusing, so please ask questions.\n",
    "\n",
    "Note that ICESat-2 includes elevation values relative to the EGM2008 geoid model to provide orthometric heights - a more recent, more accurate, more detailed geoid model compared to EGM96."
   ]
  },
  {
   "cell_type": "markdown",
   "metadata": {},
   "source": [
    "# Part 2: More Pandas, Outlier Removal, Groupby"
   ]
  },
  {
   "cell_type": "markdown",
   "metadata": {},
   "source": [
    "## Compute the elevation difference between ICESat `glas_z` and SRTM `dem_z` values\n",
    "\n",
    "Earlier, I mentioned that I had sampled the SRTM DEM for each GLAS shot.  Let's compute the difference and store in a new column in our DataFrame called `glas_srtm_dh`\n",
    "\n",
    "Remember the order of this calculation (if the difference values are negative, which dataset is higher elevation?)"
   ]
  },
  {
   "cell_type": "code",
   "execution_count": 30,
   "metadata": {},
   "outputs": [
    {
     "data": {
      "text/html": [
       "<div>\n",
       "<style scoped>\n",
       "    .dataframe tbody tr th:only-of-type {\n",
       "        vertical-align: middle;\n",
       "    }\n",
       "\n",
       "    .dataframe tbody tr th {\n",
       "        vertical-align: top;\n",
       "    }\n",
       "\n",
       "    .dataframe thead th {\n",
       "        text-align: right;\n",
       "    }\n",
       "</style>\n",
       "<table border=\"1\" class=\"dataframe\">\n",
       "  <thead>\n",
       "    <tr style=\"text-align: right;\">\n",
       "      <th></th>\n",
       "      <th>decyear</th>\n",
       "      <th>ordinal</th>\n",
       "      <th>lat</th>\n",
       "      <th>lon</th>\n",
       "      <th>glas_z</th>\n",
       "      <th>dem_z</th>\n",
       "      <th>dem_z_std</th>\n",
       "      <th>lulc</th>\n",
       "      <th>glas_srtm_dh</th>\n",
       "    </tr>\n",
       "  </thead>\n",
       "  <tbody>\n",
       "    <tr>\n",
       "      <th>0</th>\n",
       "      <td>2003.139571</td>\n",
       "      <td>731266.943345</td>\n",
       "      <td>44.157897</td>\n",
       "      <td>-105.356562</td>\n",
       "      <td>1398.51</td>\n",
       "      <td>1400.52</td>\n",
       "      <td>0.33</td>\n",
       "      <td>31</td>\n",
       "      <td>-2.01</td>\n",
       "    </tr>\n",
       "    <tr>\n",
       "      <th>1</th>\n",
       "      <td>2003.139571</td>\n",
       "      <td>731266.943346</td>\n",
       "      <td>44.150175</td>\n",
       "      <td>-105.358116</td>\n",
       "      <td>1387.11</td>\n",
       "      <td>1384.64</td>\n",
       "      <td>0.43</td>\n",
       "      <td>31</td>\n",
       "      <td>2.47</td>\n",
       "    </tr>\n",
       "    <tr>\n",
       "      <th>2</th>\n",
       "      <td>2003.139571</td>\n",
       "      <td>731266.943347</td>\n",
       "      <td>44.148632</td>\n",
       "      <td>-105.358427</td>\n",
       "      <td>1392.83</td>\n",
       "      <td>1383.49</td>\n",
       "      <td>0.28</td>\n",
       "      <td>31</td>\n",
       "      <td>9.34</td>\n",
       "    </tr>\n",
       "    <tr>\n",
       "      <th>3</th>\n",
       "      <td>2003.139571</td>\n",
       "      <td>731266.943347</td>\n",
       "      <td>44.147087</td>\n",
       "      <td>-105.358738</td>\n",
       "      <td>1384.24</td>\n",
       "      <td>1382.85</td>\n",
       "      <td>0.84</td>\n",
       "      <td>31</td>\n",
       "      <td>1.39</td>\n",
       "    </tr>\n",
       "    <tr>\n",
       "      <th>4</th>\n",
       "      <td>2003.139571</td>\n",
       "      <td>731266.943347</td>\n",
       "      <td>44.145542</td>\n",
       "      <td>-105.359048</td>\n",
       "      <td>1369.21</td>\n",
       "      <td>1380.24</td>\n",
       "      <td>1.73</td>\n",
       "      <td>31</td>\n",
       "      <td>-11.03</td>\n",
       "    </tr>\n",
       "  </tbody>\n",
       "</table>\n",
       "</div>"
      ],
      "text/plain": [
       "       decyear        ordinal        lat         lon   glas_z    dem_z  \\\n",
       "0  2003.139571  731266.943345  44.157897 -105.356562  1398.51  1400.52   \n",
       "1  2003.139571  731266.943346  44.150175 -105.358116  1387.11  1384.64   \n",
       "2  2003.139571  731266.943347  44.148632 -105.358427  1392.83  1383.49   \n",
       "3  2003.139571  731266.943347  44.147087 -105.358738  1384.24  1382.85   \n",
       "4  2003.139571  731266.943347  44.145542 -105.359048  1369.21  1380.24   \n",
       "\n",
       "   dem_z_std  lulc  glas_srtm_dh  \n",
       "0       0.33    31         -2.01  \n",
       "1       0.43    31          2.47  \n",
       "2       0.28    31          9.34  \n",
       "3       0.84    31          1.39  \n",
       "4       1.73    31        -11.03  "
      ]
     },
     "execution_count": 30,
     "metadata": {},
     "output_type": "execute_result"
    }
   ],
   "source": [
    "glas_df['glas_srtm_dh'] = glas_df['glas_z'] - glas_df['dem_z']\n",
    "glas_df.head()"
   ]
  },
  {
   "cell_type": "markdown",
   "metadata": {},
   "source": [
    "## Compute the time difference between ICESat point timestamp and the SRTM timestamp\n",
    "* Store in a new column named `glas_srtm_dt`\n",
    "* The SRTM data were collected between February 11-22, 2000\n",
    "    * Can assume a constant decimal year value of 2000.112 for now"
   ]
  },
  {
   "cell_type": "code",
   "execution_count": 31,
   "metadata": {},
   "outputs": [
    {
     "data": {
      "text/html": [
       "<div>\n",
       "<style scoped>\n",
       "    .dataframe tbody tr th:only-of-type {\n",
       "        vertical-align: middle;\n",
       "    }\n",
       "\n",
       "    .dataframe tbody tr th {\n",
       "        vertical-align: top;\n",
       "    }\n",
       "\n",
       "    .dataframe thead th {\n",
       "        text-align: right;\n",
       "    }\n",
       "</style>\n",
       "<table border=\"1\" class=\"dataframe\">\n",
       "  <thead>\n",
       "    <tr style=\"text-align: right;\">\n",
       "      <th></th>\n",
       "      <th>decyear</th>\n",
       "      <th>ordinal</th>\n",
       "      <th>lat</th>\n",
       "      <th>lon</th>\n",
       "      <th>glas_z</th>\n",
       "      <th>dem_z</th>\n",
       "      <th>dem_z_std</th>\n",
       "      <th>lulc</th>\n",
       "      <th>glas_srtm_dh</th>\n",
       "      <th>glas_srtm_dt</th>\n",
       "    </tr>\n",
       "  </thead>\n",
       "  <tbody>\n",
       "    <tr>\n",
       "      <th>0</th>\n",
       "      <td>2003.139571</td>\n",
       "      <td>731266.943345</td>\n",
       "      <td>44.157897</td>\n",
       "      <td>-105.356562</td>\n",
       "      <td>1398.51</td>\n",
       "      <td>1400.52</td>\n",
       "      <td>0.33</td>\n",
       "      <td>31</td>\n",
       "      <td>-2.01</td>\n",
       "      <td>3.027571</td>\n",
       "    </tr>\n",
       "    <tr>\n",
       "      <th>1</th>\n",
       "      <td>2003.139571</td>\n",
       "      <td>731266.943346</td>\n",
       "      <td>44.150175</td>\n",
       "      <td>-105.358116</td>\n",
       "      <td>1387.11</td>\n",
       "      <td>1384.64</td>\n",
       "      <td>0.43</td>\n",
       "      <td>31</td>\n",
       "      <td>2.47</td>\n",
       "      <td>3.027571</td>\n",
       "    </tr>\n",
       "    <tr>\n",
       "      <th>2</th>\n",
       "      <td>2003.139571</td>\n",
       "      <td>731266.943347</td>\n",
       "      <td>44.148632</td>\n",
       "      <td>-105.358427</td>\n",
       "      <td>1392.83</td>\n",
       "      <td>1383.49</td>\n",
       "      <td>0.28</td>\n",
       "      <td>31</td>\n",
       "      <td>9.34</td>\n",
       "      <td>3.027571</td>\n",
       "    </tr>\n",
       "    <tr>\n",
       "      <th>3</th>\n",
       "      <td>2003.139571</td>\n",
       "      <td>731266.943347</td>\n",
       "      <td>44.147087</td>\n",
       "      <td>-105.358738</td>\n",
       "      <td>1384.24</td>\n",
       "      <td>1382.85</td>\n",
       "      <td>0.84</td>\n",
       "      <td>31</td>\n",
       "      <td>1.39</td>\n",
       "      <td>3.027571</td>\n",
       "    </tr>\n",
       "    <tr>\n",
       "      <th>4</th>\n",
       "      <td>2003.139571</td>\n",
       "      <td>731266.943347</td>\n",
       "      <td>44.145542</td>\n",
       "      <td>-105.359048</td>\n",
       "      <td>1369.21</td>\n",
       "      <td>1380.24</td>\n",
       "      <td>1.73</td>\n",
       "      <td>31</td>\n",
       "      <td>-11.03</td>\n",
       "      <td>3.027571</td>\n",
       "    </tr>\n",
       "  </tbody>\n",
       "</table>\n",
       "</div>"
      ],
      "text/plain": [
       "       decyear        ordinal        lat         lon   glas_z    dem_z  \\\n",
       "0  2003.139571  731266.943345  44.157897 -105.356562  1398.51  1400.52   \n",
       "1  2003.139571  731266.943346  44.150175 -105.358116  1387.11  1384.64   \n",
       "2  2003.139571  731266.943347  44.148632 -105.358427  1392.83  1383.49   \n",
       "3  2003.139571  731266.943347  44.147087 -105.358738  1384.24  1382.85   \n",
       "4  2003.139571  731266.943347  44.145542 -105.359048  1369.21  1380.24   \n",
       "\n",
       "   dem_z_std  lulc  glas_srtm_dh  glas_srtm_dt  \n",
       "0       0.33    31         -2.01      3.027571  \n",
       "1       0.43    31          2.47      3.027571  \n",
       "2       0.28    31          9.34      3.027571  \n",
       "3       0.84    31          1.39      3.027571  \n",
       "4       1.73    31        -11.03      3.027571  "
      ]
     },
     "execution_count": 31,
     "metadata": {},
     "output_type": "execute_result"
    }
   ],
   "source": [
    "#February 11-22, 2000\n",
    "srtm_decyear = 2000.112\n",
    "glas_df['glas_srtm_dt'] = glas_df['decyear'] - srtm_decyear\n",
    "glas_df.head()"
   ]
  },
  {
   "cell_type": "markdown",
   "metadata": {},
   "source": [
    "## Compute *apparent* annualized elevation change rate ($\\frac{dh}{dt}$ in meters per year) from these new columns\n",
    "* This will be rate of change between the SRTM timestamp (2000) and each GLAS point timestamp (2003-2009)"
   ]
  },
  {
   "cell_type": "code",
   "execution_count": 32,
   "metadata": {},
   "outputs": [
    {
     "data": {
      "text/html": [
       "<div>\n",
       "<style scoped>\n",
       "    .dataframe tbody tr th:only-of-type {\n",
       "        vertical-align: middle;\n",
       "    }\n",
       "\n",
       "    .dataframe tbody tr th {\n",
       "        vertical-align: top;\n",
       "    }\n",
       "\n",
       "    .dataframe thead th {\n",
       "        text-align: right;\n",
       "    }\n",
       "</style>\n",
       "<table border=\"1\" class=\"dataframe\">\n",
       "  <thead>\n",
       "    <tr style=\"text-align: right;\">\n",
       "      <th></th>\n",
       "      <th>decyear</th>\n",
       "      <th>ordinal</th>\n",
       "      <th>lat</th>\n",
       "      <th>lon</th>\n",
       "      <th>glas_z</th>\n",
       "      <th>dem_z</th>\n",
       "      <th>dem_z_std</th>\n",
       "      <th>lulc</th>\n",
       "      <th>glas_srtm_dh</th>\n",
       "      <th>glas_srtm_dt</th>\n",
       "      <th>glas_srtm_dhdt</th>\n",
       "    </tr>\n",
       "  </thead>\n",
       "  <tbody>\n",
       "    <tr>\n",
       "      <th>0</th>\n",
       "      <td>2003.139571</td>\n",
       "      <td>731266.943345</td>\n",
       "      <td>44.157897</td>\n",
       "      <td>-105.356562</td>\n",
       "      <td>1398.51</td>\n",
       "      <td>1400.52</td>\n",
       "      <td>0.33</td>\n",
       "      <td>31</td>\n",
       "      <td>-2.01</td>\n",
       "      <td>3.027571</td>\n",
       "      <td>-0.663899</td>\n",
       "    </tr>\n",
       "    <tr>\n",
       "      <th>1</th>\n",
       "      <td>2003.139571</td>\n",
       "      <td>731266.943346</td>\n",
       "      <td>44.150175</td>\n",
       "      <td>-105.358116</td>\n",
       "      <td>1387.11</td>\n",
       "      <td>1384.64</td>\n",
       "      <td>0.43</td>\n",
       "      <td>31</td>\n",
       "      <td>2.47</td>\n",
       "      <td>3.027571</td>\n",
       "      <td>0.815836</td>\n",
       "    </tr>\n",
       "    <tr>\n",
       "      <th>2</th>\n",
       "      <td>2003.139571</td>\n",
       "      <td>731266.943347</td>\n",
       "      <td>44.148632</td>\n",
       "      <td>-105.358427</td>\n",
       "      <td>1392.83</td>\n",
       "      <td>1383.49</td>\n",
       "      <td>0.28</td>\n",
       "      <td>31</td>\n",
       "      <td>9.34</td>\n",
       "      <td>3.027571</td>\n",
       "      <td>3.084982</td>\n",
       "    </tr>\n",
       "    <tr>\n",
       "      <th>3</th>\n",
       "      <td>2003.139571</td>\n",
       "      <td>731266.943347</td>\n",
       "      <td>44.147087</td>\n",
       "      <td>-105.358738</td>\n",
       "      <td>1384.24</td>\n",
       "      <td>1382.85</td>\n",
       "      <td>0.84</td>\n",
       "      <td>31</td>\n",
       "      <td>1.39</td>\n",
       "      <td>3.027571</td>\n",
       "      <td>0.459114</td>\n",
       "    </tr>\n",
       "    <tr>\n",
       "      <th>4</th>\n",
       "      <td>2003.139571</td>\n",
       "      <td>731266.943347</td>\n",
       "      <td>44.145542</td>\n",
       "      <td>-105.359048</td>\n",
       "      <td>1369.21</td>\n",
       "      <td>1380.24</td>\n",
       "      <td>1.73</td>\n",
       "      <td>31</td>\n",
       "      <td>-11.03</td>\n",
       "      <td>3.027571</td>\n",
       "      <td>-3.643185</td>\n",
       "    </tr>\n",
       "  </tbody>\n",
       "</table>\n",
       "</div>"
      ],
      "text/plain": [
       "       decyear        ordinal        lat         lon   glas_z    dem_z  \\\n",
       "0  2003.139571  731266.943345  44.157897 -105.356562  1398.51  1400.52   \n",
       "1  2003.139571  731266.943346  44.150175 -105.358116  1387.11  1384.64   \n",
       "2  2003.139571  731266.943347  44.148632 -105.358427  1392.83  1383.49   \n",
       "3  2003.139571  731266.943347  44.147087 -105.358738  1384.24  1382.85   \n",
       "4  2003.139571  731266.943347  44.145542 -105.359048  1369.21  1380.24   \n",
       "\n",
       "   dem_z_std  lulc  glas_srtm_dh  glas_srtm_dt  glas_srtm_dhdt  \n",
       "0       0.33    31         -2.01      3.027571       -0.663899  \n",
       "1       0.43    31          2.47      3.027571        0.815836  \n",
       "2       0.28    31          9.34      3.027571        3.084982  \n",
       "3       0.84    31          1.39      3.027571        0.459114  \n",
       "4       1.73    31        -11.03      3.027571       -3.643185  "
      ]
     },
     "execution_count": 32,
     "metadata": {},
     "output_type": "execute_result"
    }
   ],
   "source": [
    "glas_df['glas_srtm_dhdt'] = glas_df['glas_srtm_dh']/glas_df['glas_srtm_dt']\n",
    "glas_df.head()"
   ]
  },
  {
   "cell_type": "markdown",
   "metadata": {},
   "source": [
    "## Create a scatterplot of the difference values\n",
    "* Use a symmetrical `RdBu` (Red to Blue) color ramp\n",
    "* Set the color ramp limits using `vmin` and `vmax` keyword arguments to be symmetrical about 0 z"
   ]
  },
  {
   "cell_type": "code",
   "execution_count": 33,
   "metadata": {},
   "outputs": [
    {
     "data": {
      "application/vnd.jupyter.widget-view+json": {
       "model_id": "87806beeb9944bc69f9810f305908afd",
       "version_major": 2,
       "version_minor": 0
      },
      "text/plain": [
       "Canvas(toolbar=Toolbar(toolitems=[('Home', 'Reset original view', 'home', 'home'), ('Back', 'Back to previous …"
      ]
     },
     "metadata": {},
     "output_type": "display_data"
    }
   ],
   "source": [
    "ax = glas_df.plot(x='lon', y='lat', kind='scatter', c='glas_srtm_dh', s=1, cmap='RdBu', vmin=-10, vmax=10)\n",
    "ax.set_ylabel('latitude');"
   ]
  },
  {
   "cell_type": "code",
   "execution_count": 34,
   "metadata": {},
   "outputs": [
    {
     "data": {
      "application/vnd.jupyter.widget-view+json": {
       "model_id": "cb40bdc1b4964b6e88e289a8325ac92e",
       "version_major": 2,
       "version_minor": 0
      },
      "text/plain": [
       "Canvas(toolbar=Toolbar(toolitems=[('Home', 'Reset original view', 'home', 'home'), ('Back', 'Back to previous …"
      ]
     },
     "metadata": {},
     "output_type": "display_data"
    }
   ],
   "source": [
    "ax = glas_df.plot(x='lon', y='lat', kind='scatter', c='glas_srtm_dh', s=1, cmap='RdBu', vmin=-50, vmax=50)"
   ]
  },
  {
   "cell_type": "markdown",
   "metadata": {},
   "source": [
    "## Compute some descriptive statistics\n",
    "* Why might we have a non-zero mean/median difference?"
   ]
  },
  {
   "cell_type": "code",
   "execution_count": 35,
   "metadata": {},
   "outputs": [
    {
     "name": "stdout",
     "output_type": "stream",
     "text": [
      "-0.7667968606291014\n",
      "12.36334152209537\n"
     ]
    }
   ],
   "source": [
    "print(glas_df['glas_srtm_dh'].mean())\n",
    "print(glas_df['glas_srtm_dh'].std())"
   ]
  },
  {
   "cell_type": "code",
   "execution_count": 36,
   "metadata": {},
   "outputs": [
    {
     "name": "stdout",
     "output_type": "stream",
     "text": [
      "-0.7999999999999545\n",
      "2.4314640000001484\n"
     ]
    }
   ],
   "source": [
    "print(glas_df['glas_srtm_dh'].median())\n",
    "print(nmad(glas_df['glas_srtm_dh']))"
   ]
  },
  {
   "cell_type": "markdown",
   "metadata": {},
   "source": [
    "## Create a histogram of the difference values"
   ]
  },
  {
   "cell_type": "code",
   "execution_count": 37,
   "metadata": {},
   "outputs": [
    {
     "data": {
      "application/vnd.jupyter.widget-view+json": {
       "model_id": "d5d73bf346b6411c8cd55b24487700be",
       "version_major": 2,
       "version_minor": 0
      },
      "text/plain": [
       "Canvas(toolbar=Toolbar(toolitems=[('Home', 'Reset original view', 'home', 'home'), ('Back', 'Back to previous …"
      ]
     },
     "metadata": {},
     "output_type": "display_data"
    }
   ],
   "source": [
    "f, ax = plt.subplots()\n",
    "glas_df.hist('glas_srtm_dh', ax=ax, bins=128, range=(-10,10));\n",
    "ax.axvline(0, color='k')\n",
    "ax.axvline(glas_df['glas_srtm_dh'].median(), color='r');"
   ]
  },
  {
   "cell_type": "markdown",
   "metadata": {},
   "source": [
    "## Create a scatterplot of elevation difference `glas_srtm_dh` values vs elevation values\n",
    "* `glas_srtm_dh` should be on the y-axis\n",
    "* `glas_z` values on the x-axis"
   ]
  },
  {
   "cell_type": "code",
   "execution_count": 38,
   "metadata": {},
   "outputs": [
    {
     "data": {
      "application/vnd.jupyter.widget-view+json": {
       "model_id": "60a66b1a0a06433ea6e2938be42fcd93",
       "version_major": 2,
       "version_minor": 0
      },
      "text/plain": [
       "Canvas(toolbar=Toolbar(toolitems=[('Home', 'Reset original view', 'home', 'home'), ('Back', 'Back to previous …"
      ]
     },
     "metadata": {},
     "output_type": "display_data"
    }
   ],
   "source": [
    "ax = glas_df.plot('glas_z', 'glas_srtm_dh', kind='scatter', s=1)\n",
    "#Add a horizontal line at 0\n",
    "ax.axhline(0, color='k', lw=0.5);"
   ]
  },
  {
   "cell_type": "markdown",
   "metadata": {},
   "source": [
    "## Remove outliers\n",
    "The initial filter in `glas_proc.py` removed GLAS points with absolute elevation difference >200 m compared to the SRTM elevations.  We expect most real elevation change signals to be less than this for the given time period.  But clearly some outliers remain.\n",
    "\n",
    "Let's design and apply a simple filter that removes outliers.  One option is to define outliers as values outside some absolute threshold. Can set this threshold as some multiple of the standard deviation (e.g., `3*std`). Can also use quantile or percentile values for this."
   ]
  },
  {
   "cell_type": "code",
   "execution_count": 39,
   "metadata": {},
   "outputs": [
    {
     "name": "stdout",
     "output_type": "stream",
     "text": [
      "Mean difference: -0.7667968606291014\n",
      "3.5 * std: 43.271695327333795\n"
     ]
    }
   ],
   "source": [
    "print(\"Mean difference:\", glas_df['glas_srtm_dh'].mean())\n",
    "thresh = 3.5 * glas_df['glas_srtm_dh'].std()\n",
    "print(\"3.5 * std:\", thresh)"
   ]
  },
  {
   "cell_type": "code",
   "execution_count": 40,
   "metadata": {},
   "outputs": [
    {
     "name": "stdout",
     "output_type": "stream",
     "text": [
      "Number of points before filter: 65236\n",
      "Number of points after filter: 64589\n"
     ]
    }
   ],
   "source": [
    "idx = (glas_df['glas_srtm_dh'] - glas_df['glas_srtm_dh'].mean()).abs() <= thresh\n",
    "glas_df_fltr = glas_df[idx]\n",
    "print(\"Number of points before filter:\", glas_df.shape[0])\n",
    "print(\"Number of points after filter:\", glas_df_fltr.shape[0])"
   ]
  },
  {
   "cell_type": "code",
   "execution_count": 41,
   "metadata": {},
   "outputs": [
    {
     "data": {
      "application/vnd.jupyter.widget-view+json": {
       "model_id": "455728886c2d4a2abb54bc96f3730af5",
       "version_major": 2,
       "version_minor": 0
      },
      "text/plain": [
       "Canvas(toolbar=Toolbar(toolitems=[('Home', 'Reset original view', 'home', 'home'), ('Back', 'Back to previous …"
      ]
     },
     "metadata": {},
     "output_type": "display_data"
    }
   ],
   "source": [
    "clim = thresh\n",
    "f, axa = plt.subplots(1,2, figsize=(10,4))\n",
    "#Outliers plotted in black\n",
    "glas_df.plot(ax=axa[1], x='glas_z', y='glas_srtm_dh', kind='scatter', s=1, color='k', label='Outliers')\n",
    "glas_df_fltr.plot(ax=axa[0], x='lon', y='lat', kind='scatter', c='glas_srtm_dh', s=1, cmap='RdBu', vmin=-clim, vmax=clim)\n",
    "glas_df_fltr.plot(ax=axa[1], x='glas_z', y='glas_srtm_dh', kind='scatter', s=1, c='orange', label='Inliers')\n",
    "glas_df[~idx].plot(ax=axa[0], x='lon', y='lat', kind='scatter', color='k', s=1, legend=False)\n",
    "axa[1].axhline(0,color='k')\n",
    "plt.tight_layout()"
   ]
  },
  {
   "cell_type": "markdown",
   "metadata": {},
   "source": [
    "## Active remote sensing sanity check\n",
    "\n",
    "Even after removing outliers, there are still some big differences between the SRTM and GLAS elevation values.  \n",
    "\n",
    "* Do you see systematic differences between the glas_z and dem_z values?\n",
    "* Any clues from the scatterplot? (e.g., do some tracks (north-south lines of points) display systematic bias?)\n",
    "* Brainstorm some ideas about what might be going on here.  Think about the nature of each sensor:\n",
    "    * ICESat was a Near-IR laser (1064 nm wavelength) with a big ground spot size (~70 m in diameter)\n",
    "        * Timestamps span different seasons between 2003-2009\n",
    "    * SRTM was a C-band radar (5.3 GHz, 5.6 cm wavelength) with approximately 30 m ground sample distance (pixel size)\n",
    "        * Timestamp was February 2000\n",
    "        * Data gaps (e.g., radar shadows, steep slopes) were filled with ASTER GDEM2 composite, which blends DEMs acquired over many years ~2000-2014\n",
    "* Consider different surfaces and how the laser/radar footprint might be affected:\n",
    "    * Flat bedrock surface\n",
    "    * Dry sand dunes\n",
    "    * Steep montain topography like the Front Range in Colorado  \n",
    "    * Dense vegetation of the Hoh Rainforest in Olympic National Park"
   ]
  },
  {
   "cell_type": "markdown",
   "metadata": {},
   "source": [
    "## Let's check to see if differences are due to our land-use/land-cover (LULC) classes\n",
    "* Determine the unique values in the `lulc` column (hint: see the `value_counts` method)\n",
    "* In the introduction, I mentioned that I initially preserved only two classes for these GLAS points (12 - snow/ice, 31 - barren land), so this isn't going to help us over forests:\n",
    "    * https://www.mrlc.gov/data/legends/national-land-cover-database-2011-nlcd2011-legend"
   ]
  },
  {
   "cell_type": "code",
   "execution_count": 42,
   "metadata": {},
   "outputs": [
    {
     "data": {
      "text/plain": [
       "31    62968\n",
       "12     2268\n",
       "Name: lulc, dtype: int64"
      ]
     },
     "execution_count": 42,
     "metadata": {},
     "output_type": "execute_result"
    }
   ],
   "source": [
    "glas_df['lulc'].value_counts()"
   ]
  },
  {
   "cell_type": "markdown",
   "metadata": {},
   "source": [
    "## Use Pandas `groupby` to compute stats for the LULC classes\n",
    "* https://pandas.pydata.org/pandas-docs/stable/user_guide/groupby.html\n",
    "* This is one of the most powerful features in Pandas, efficient grouping and analysis based on attributes\n",
    "* Compute mean, median and std of the difference values (glas_z - dem_z) for each LULC class\n",
    "* Do you see a difference between values over glaciers vs bare rock?"
   ]
  },
  {
   "cell_type": "code",
   "execution_count": 43,
   "metadata": {},
   "outputs": [
    {
     "data": {
      "text/html": [
       "<div>\n",
       "<style scoped>\n",
       "    .dataframe tbody tr th:only-of-type {\n",
       "        vertical-align: middle;\n",
       "    }\n",
       "\n",
       "    .dataframe tbody tr th {\n",
       "        vertical-align: top;\n",
       "    }\n",
       "\n",
       "    .dataframe thead th {\n",
       "        text-align: right;\n",
       "    }\n",
       "</style>\n",
       "<table border=\"1\" class=\"dataframe\">\n",
       "  <thead>\n",
       "    <tr style=\"text-align: right;\">\n",
       "      <th></th>\n",
       "      <th>glas_srtm_dh</th>\n",
       "    </tr>\n",
       "    <tr>\n",
       "      <th>lulc</th>\n",
       "      <th></th>\n",
       "    </tr>\n",
       "  </thead>\n",
       "  <tbody>\n",
       "    <tr>\n",
       "      <th>12</th>\n",
       "      <td>-2.039493</td>\n",
       "    </tr>\n",
       "    <tr>\n",
       "      <th>31</th>\n",
       "      <td>-0.720957</td>\n",
       "    </tr>\n",
       "  </tbody>\n",
       "</table>\n",
       "</div>"
      ],
      "text/plain": [
       "      glas_srtm_dh\n",
       "lulc              \n",
       "12       -2.039493\n",
       "31       -0.720957"
      ]
     },
     "execution_count": 43,
     "metadata": {},
     "output_type": "execute_result"
    }
   ],
   "source": [
    "glas_df[['glas_srtm_dh', 'lulc']].groupby('lulc').mean()"
   ]
  },
  {
   "cell_type": "code",
   "execution_count": 44,
   "metadata": {},
   "outputs": [
    {
     "data": {
      "text/html": [
       "<div>\n",
       "<style scoped>\n",
       "    .dataframe tbody tr th:only-of-type {\n",
       "        vertical-align: middle;\n",
       "    }\n",
       "\n",
       "    .dataframe tbody tr th {\n",
       "        vertical-align: top;\n",
       "    }\n",
       "\n",
       "    .dataframe thead tr th {\n",
       "        text-align: left;\n",
       "    }\n",
       "\n",
       "    .dataframe thead tr:last-of-type th {\n",
       "        text-align: right;\n",
       "    }\n",
       "</style>\n",
       "<table border=\"1\" class=\"dataframe\">\n",
       "  <thead>\n",
       "    <tr>\n",
       "      <th></th>\n",
       "      <th colspan=\"4\" halign=\"left\">glas_srtm_dh</th>\n",
       "    </tr>\n",
       "    <tr>\n",
       "      <th></th>\n",
       "      <th>mean</th>\n",
       "      <th>std</th>\n",
       "      <th>median</th>\n",
       "      <th>nmad</th>\n",
       "    </tr>\n",
       "    <tr>\n",
       "      <th>lulc</th>\n",
       "      <th></th>\n",
       "      <th></th>\n",
       "      <th></th>\n",
       "      <th></th>\n",
       "    </tr>\n",
       "  </thead>\n",
       "  <tbody>\n",
       "    <tr>\n",
       "      <th>12</th>\n",
       "      <td>-2.039493</td>\n",
       "      <td>14.920269</td>\n",
       "      <td>-0.965</td>\n",
       "      <td>7.450065</td>\n",
       "    </tr>\n",
       "    <tr>\n",
       "      <th>31</th>\n",
       "      <td>-0.720957</td>\n",
       "      <td>12.258978</td>\n",
       "      <td>-0.800</td>\n",
       "      <td>2.327682</td>\n",
       "    </tr>\n",
       "  </tbody>\n",
       "</table>\n",
       "</div>"
      ],
      "text/plain": [
       "     glas_srtm_dh                            \n",
       "             mean        std median      nmad\n",
       "lulc                                         \n",
       "12      -2.039493  14.920269 -0.965  7.450065\n",
       "31      -0.720957  12.258978 -0.800  2.327682"
      ]
     },
     "execution_count": 44,
     "metadata": {},
     "output_type": "execute_result"
    }
   ],
   "source": [
    "#Statistics for full dataset\n",
    "glas_df[['glas_srtm_dh', 'lulc']].groupby('lulc').agg(['mean', 'std', 'median', nmad])"
   ]
  },
  {
   "cell_type": "code",
   "execution_count": 45,
   "metadata": {},
   "outputs": [
    {
     "data": {
      "text/html": [
       "<div>\n",
       "<style scoped>\n",
       "    .dataframe tbody tr th:only-of-type {\n",
       "        vertical-align: middle;\n",
       "    }\n",
       "\n",
       "    .dataframe tbody tr th {\n",
       "        vertical-align: top;\n",
       "    }\n",
       "\n",
       "    .dataframe thead tr th {\n",
       "        text-align: left;\n",
       "    }\n",
       "\n",
       "    .dataframe thead tr:last-of-type th {\n",
       "        text-align: right;\n",
       "    }\n",
       "</style>\n",
       "<table border=\"1\" class=\"dataframe\">\n",
       "  <thead>\n",
       "    <tr>\n",
       "      <th></th>\n",
       "      <th colspan=\"4\" halign=\"left\">glas_srtm_dh</th>\n",
       "    </tr>\n",
       "    <tr>\n",
       "      <th></th>\n",
       "      <th>mean</th>\n",
       "      <th>std</th>\n",
       "      <th>median</th>\n",
       "      <th>nmad</th>\n",
       "    </tr>\n",
       "    <tr>\n",
       "      <th>lulc</th>\n",
       "      <th></th>\n",
       "      <th></th>\n",
       "      <th></th>\n",
       "      <th></th>\n",
       "    </tr>\n",
       "  </thead>\n",
       "  <tbody>\n",
       "    <tr>\n",
       "      <th>12</th>\n",
       "      <td>-2.186099</td>\n",
       "      <td>10.140636</td>\n",
       "      <td>-0.915</td>\n",
       "      <td>7.309218</td>\n",
       "    </tr>\n",
       "    <tr>\n",
       "      <th>31</th>\n",
       "      <td>-0.985611</td>\n",
       "      <td>6.577751</td>\n",
       "      <td>-0.800</td>\n",
       "      <td>2.283204</td>\n",
       "    </tr>\n",
       "  </tbody>\n",
       "</table>\n",
       "</div>"
      ],
      "text/plain": [
       "     glas_srtm_dh                            \n",
       "             mean        std median      nmad\n",
       "lulc                                         \n",
       "12      -2.186099  10.140636 -0.915  7.309218\n",
       "31      -0.985611   6.577751 -0.800  2.283204"
      ]
     },
     "execution_count": 45,
     "metadata": {},
     "output_type": "execute_result"
    }
   ],
   "source": [
    "#Statistics for filtered dataframe (after removing outliers)\n",
    "glas_df_fltr[['glas_srtm_dh', 'lulc']].groupby('lulc').agg(['mean', 'std', 'median', nmad])"
   ]
  },
  {
   "cell_type": "code",
   "execution_count": 46,
   "metadata": {},
   "outputs": [
    {
     "data": {
      "application/vnd.jupyter.widget-view+json": {
       "model_id": "776107fe1f4f4beaae006bce0facdf61",
       "version_major": 2,
       "version_minor": 0
      },
      "text/plain": [
       "Canvas(toolbar=Toolbar(toolitems=[('Home', 'Reset original view', 'home', 'home'), ('Back', 'Back to previous …"
      ]
     },
     "metadata": {},
     "output_type": "display_data"
    },
    {
     "data": {
      "application/vnd.jupyter.widget-view+json": {
       "model_id": "ca05c5c243214bb597bd353d9b611584",
       "version_major": 2,
       "version_minor": 0
      },
      "text/plain": [
       "Canvas(toolbar=Toolbar(toolitems=[('Home', 'Reset original view', 'home', 'home'), ('Back', 'Back to previous …"
      ]
     },
     "metadata": {},
     "output_type": "display_data"
    }
   ],
   "source": [
    "for title, group in glas_df_fltr.groupby('lulc'):\n",
    "    group.plot(x='lon', y='lat', kind='scatter', c='glas_srtm_dh', s=1, cmap='RdBu', vmin=-10, vmax=10, title='LULC %i' % title)"
   ]
  },
  {
   "cell_type": "markdown",
   "metadata": {},
   "source": [
    "# Part 3: Geopandas Intro\n",
    "\n",
    "pandas is great, but what if we want to do some geospatial operations - like reproject our points or compute the intersection between Point and Polygon features?\n",
    "\n",
    "Enter Geopandas - all the great things about pandas, plus geo! (http://geopandas.org/).\n",
    "\n",
    ">\"GeoPandas is an open source project to make working with geospatial data in python easier. GeoPandas extends the datatypes used by pandas to allow spatial operations on geometric types. Geometric operations are performed by shapely. Geopandas further depends on fiona for file access and descartes and matplotlib for plotting.\"\n",
    "\n",
    ">\"GeoPandas enables you to easily do operations in python that would otherwise require a spatial database such as PostGIS.\"\n",
    "\n",
    "Under the hood, GeoPandas is `pandas` plus some other core geospatial packages:\n",
    "* `shapely` for geometry operations (https://shapely.readthedocs.io/en/stable/manual.html)\n",
    "* `fiona` for reading/writing GIS file formats (https://fiona.readthedocs.io/en/latest/manual.html)\n",
    "* `pyproj` for projections and coordinate system transformations (http://pyproj4.github.io/pyproj/stable/)\n",
    "\n",
    "Under those hoods are lower-level geospatial libraries (GEOS, GDAL/OGR, PROJ4) that provide a foundation for most GIS software (open-source and commercial).  I encourage you to explore these - I guarantee you will learn something valuable.\n",
    "\n",
    "For now, let's explore some basic geopandas functionality."
   ]
  },
  {
   "cell_type": "markdown",
   "metadata": {},
   "source": [
    "## Convert pandas `DataFrame` to geopandas `GeoDataFrame`\n",
    "To do this, we need to create a new column containing standardized `geometry` objects (e.g., `Point`, `Polygon`) for each record in the DataFrame. \n",
    "\n",
    "https://geopandas.readthedocs.io/en/latest/gallery/create_geopandas_from_pandas.html"
   ]
  },
  {
   "cell_type": "markdown",
   "metadata": {},
   "source": [
    "## Convert the Pandas `DataFrame` to a GeoPandas `GeoDataFrame`\n",
    "* https://geopandas.readthedocs.io/en/latest/gallery/create_geopandas_from_pandas.html\n",
    "* Careful about lon and lat order!\n",
    "* Define coordinate reference system (4326 is geographic lat/lon on WGS84 Ellispoid) \n",
    "* Run a quick `head()` to make sure everything looks good\n",
    "* Note the new `geometry` column of the GeoDataFrame"
   ]
  },
  {
   "cell_type": "code",
   "execution_count": 47,
   "metadata": {},
   "outputs": [],
   "source": [
    "glas_gdf = gpd.GeoDataFrame(glas_df, geometry=gpd.points_from_xy(glas_df['lon'], glas_df['lat']), crs='EPSG:4326')"
   ]
  },
  {
   "cell_type": "code",
   "execution_count": 48,
   "metadata": {},
   "outputs": [
    {
     "data": {
      "text/plain": [
       "geopandas.geodataframe.GeoDataFrame"
      ]
     },
     "execution_count": 48,
     "metadata": {},
     "output_type": "execute_result"
    }
   ],
   "source": [
    "type(glas_gdf)"
   ]
  },
  {
   "cell_type": "code",
   "execution_count": 49,
   "metadata": {},
   "outputs": [
    {
     "data": {
      "text/plain": [
       "pandas.core.frame.DataFrame"
      ]
     },
     "execution_count": 49,
     "metadata": {},
     "output_type": "execute_result"
    }
   ],
   "source": [
    "type(glas_df)"
   ]
  },
  {
   "cell_type": "code",
   "execution_count": 50,
   "metadata": {},
   "outputs": [
    {
     "data": {
      "text/html": [
       "<div>\n",
       "<style scoped>\n",
       "    .dataframe tbody tr th:only-of-type {\n",
       "        vertical-align: middle;\n",
       "    }\n",
       "\n",
       "    .dataframe tbody tr th {\n",
       "        vertical-align: top;\n",
       "    }\n",
       "\n",
       "    .dataframe thead th {\n",
       "        text-align: right;\n",
       "    }\n",
       "</style>\n",
       "<table border=\"1\" class=\"dataframe\">\n",
       "  <thead>\n",
       "    <tr style=\"text-align: right;\">\n",
       "      <th></th>\n",
       "      <th>decyear</th>\n",
       "      <th>ordinal</th>\n",
       "      <th>lat</th>\n",
       "      <th>lon</th>\n",
       "      <th>glas_z</th>\n",
       "      <th>dem_z</th>\n",
       "      <th>dem_z_std</th>\n",
       "      <th>lulc</th>\n",
       "      <th>glas_srtm_dh</th>\n",
       "      <th>glas_srtm_dt</th>\n",
       "      <th>glas_srtm_dhdt</th>\n",
       "      <th>geometry</th>\n",
       "    </tr>\n",
       "  </thead>\n",
       "  <tbody>\n",
       "    <tr>\n",
       "      <th>0</th>\n",
       "      <td>2003.139571</td>\n",
       "      <td>731266.943345</td>\n",
       "      <td>44.157897</td>\n",
       "      <td>-105.356562</td>\n",
       "      <td>1398.51</td>\n",
       "      <td>1400.52</td>\n",
       "      <td>0.33</td>\n",
       "      <td>31</td>\n",
       "      <td>-2.01</td>\n",
       "      <td>3.027571</td>\n",
       "      <td>-0.663899</td>\n",
       "      <td>POINT (-105.35656 44.15790)</td>\n",
       "    </tr>\n",
       "    <tr>\n",
       "      <th>1</th>\n",
       "      <td>2003.139571</td>\n",
       "      <td>731266.943346</td>\n",
       "      <td>44.150175</td>\n",
       "      <td>-105.358116</td>\n",
       "      <td>1387.11</td>\n",
       "      <td>1384.64</td>\n",
       "      <td>0.43</td>\n",
       "      <td>31</td>\n",
       "      <td>2.47</td>\n",
       "      <td>3.027571</td>\n",
       "      <td>0.815836</td>\n",
       "      <td>POINT (-105.35812 44.15017)</td>\n",
       "    </tr>\n",
       "    <tr>\n",
       "      <th>2</th>\n",
       "      <td>2003.139571</td>\n",
       "      <td>731266.943347</td>\n",
       "      <td>44.148632</td>\n",
       "      <td>-105.358427</td>\n",
       "      <td>1392.83</td>\n",
       "      <td>1383.49</td>\n",
       "      <td>0.28</td>\n",
       "      <td>31</td>\n",
       "      <td>9.34</td>\n",
       "      <td>3.027571</td>\n",
       "      <td>3.084982</td>\n",
       "      <td>POINT (-105.35843 44.14863)</td>\n",
       "    </tr>\n",
       "    <tr>\n",
       "      <th>3</th>\n",
       "      <td>2003.139571</td>\n",
       "      <td>731266.943347</td>\n",
       "      <td>44.147087</td>\n",
       "      <td>-105.358738</td>\n",
       "      <td>1384.24</td>\n",
       "      <td>1382.85</td>\n",
       "      <td>0.84</td>\n",
       "      <td>31</td>\n",
       "      <td>1.39</td>\n",
       "      <td>3.027571</td>\n",
       "      <td>0.459114</td>\n",
       "      <td>POINT (-105.35874 44.14709)</td>\n",
       "    </tr>\n",
       "    <tr>\n",
       "      <th>4</th>\n",
       "      <td>2003.139571</td>\n",
       "      <td>731266.943347</td>\n",
       "      <td>44.145542</td>\n",
       "      <td>-105.359048</td>\n",
       "      <td>1369.21</td>\n",
       "      <td>1380.24</td>\n",
       "      <td>1.73</td>\n",
       "      <td>31</td>\n",
       "      <td>-11.03</td>\n",
       "      <td>3.027571</td>\n",
       "      <td>-3.643185</td>\n",
       "      <td>POINT (-105.35905 44.14554)</td>\n",
       "    </tr>\n",
       "  </tbody>\n",
       "</table>\n",
       "</div>"
      ],
      "text/plain": [
       "       decyear        ordinal        lat         lon   glas_z    dem_z  \\\n",
       "0  2003.139571  731266.943345  44.157897 -105.356562  1398.51  1400.52   \n",
       "1  2003.139571  731266.943346  44.150175 -105.358116  1387.11  1384.64   \n",
       "2  2003.139571  731266.943347  44.148632 -105.358427  1392.83  1383.49   \n",
       "3  2003.139571  731266.943347  44.147087 -105.358738  1384.24  1382.85   \n",
       "4  2003.139571  731266.943347  44.145542 -105.359048  1369.21  1380.24   \n",
       "\n",
       "   dem_z_std  lulc  glas_srtm_dh  glas_srtm_dt  glas_srtm_dhdt  \\\n",
       "0       0.33    31         -2.01      3.027571       -0.663899   \n",
       "1       0.43    31          2.47      3.027571        0.815836   \n",
       "2       0.28    31          9.34      3.027571        3.084982   \n",
       "3       0.84    31          1.39      3.027571        0.459114   \n",
       "4       1.73    31        -11.03      3.027571       -3.643185   \n",
       "\n",
       "                      geometry  \n",
       "0  POINT (-105.35656 44.15790)  \n",
       "1  POINT (-105.35812 44.15017)  \n",
       "2  POINT (-105.35843 44.14863)  \n",
       "3  POINT (-105.35874 44.14709)  \n",
       "4  POINT (-105.35905 44.14554)  "
      ]
     },
     "execution_count": 50,
     "metadata": {},
     "output_type": "execute_result"
    }
   ],
   "source": [
    "#Same `head()` method works on a GeoDataFrame! inherited from Pandas DataFrame\n",
    "glas_gdf.head()"
   ]
  },
  {
   "cell_type": "code",
   "execution_count": 51,
   "metadata": {},
   "outputs": [
    {
     "data": {
      "text/plain": [
       "<Geographic 2D CRS: EPSG:4326>\n",
       "Name: WGS 84\n",
       "Axis Info [ellipsoidal]:\n",
       "- Lat[north]: Geodetic latitude (degree)\n",
       "- Lon[east]: Geodetic longitude (degree)\n",
       "Area of Use:\n",
       "- name: World\n",
       "- bounds: (-180.0, -90.0, 180.0, 90.0)\n",
       "Datum: World Geodetic System 1984\n",
       "- Ellipsoid: WGS 84\n",
       "- Prime Meridian: Greenwich"
      ]
     },
     "execution_count": 51,
     "metadata": {},
     "output_type": "execute_result"
    }
   ],
   "source": [
    "#But we have additional attributes/methods in a GeoDataFrame\n",
    "glas_gdf.crs"
   ]
  },
  {
   "cell_type": "markdown",
   "metadata": {},
   "source": [
    "## Create a quick 2D scatterplot\n",
    "\n",
    "Like a Pandas DataFrame, a GeoDataFrame has convenience plotting function that is built on matlplotlib"
   ]
  },
  {
   "cell_type": "code",
   "execution_count": 52,
   "metadata": {},
   "outputs": [
    {
     "data": {
      "application/vnd.jupyter.widget-view+json": {
       "model_id": "8a04289973be476e813e91000468645f",
       "version_major": 2,
       "version_minor": 0
      },
      "text/plain": [
       "Canvas(toolbar=Toolbar(toolitems=[('Home', 'Reset original view', 'home', 'home'), ('Back', 'Back to previous …"
      ]
     },
     "metadata": {},
     "output_type": "display_data"
    }
   ],
   "source": [
    "glas_gdf.plot();"
   ]
  },
  {
   "cell_type": "markdown",
   "metadata": {},
   "source": [
    "OK, looks like a scatterplot.  But let's plot the elevation values with a color ramp.  \n",
    "To do this, just specify the column name as the first argument to `plot`:"
   ]
  },
  {
   "cell_type": "code",
   "execution_count": 53,
   "metadata": {},
   "outputs": [
    {
     "data": {
      "application/vnd.jupyter.widget-view+json": {
       "model_id": "066752b0dd894e7db376acaddb016c02",
       "version_major": 2,
       "version_minor": 0
      },
      "text/plain": [
       "Canvas(toolbar=Toolbar(toolitems=[('Home', 'Reset original view', 'home', 'home'), ('Back', 'Back to previous …"
      ]
     },
     "metadata": {},
     "output_type": "display_data"
    }
   ],
   "source": [
    "glas_gdf.plot('glas_z', markersize=1, cmap='inferno', legend=True);"
   ]
  },
  {
   "cell_type": "markdown",
   "metadata": {},
   "source": [
    "## Load and plot state polygons for context\n"
   ]
  },
  {
   "cell_type": "markdown",
   "metadata": {},
   "source": [
    "Hmmm, let's see.  Two choices:\n",
    "1. We could go to ESRI or the U.S. Census website, identify and download a shapefile, unzip 4+ files, copy/paste the appropriate \\*.shp filename into the notebook.  Wait, how can I download on a remote server?  OK, maybe run something like `wget http://...`, unzip, provide absolute path  \n",
    "*- OR -*\n",
    "2. Give geopandas a url that points to a GeoJSON file somewhere on the web, and read dynamically\n",
    "\n",
    "Yeah, let's go with #2"
   ]
  },
  {
   "cell_type": "markdown",
   "metadata": {},
   "source": [
    "Let's use the US States 5M GeoJSON here: http://eric.clst.org/tech/usgeojson/\n",
    "\n",
    "We've heard GeoJSON mentioned a few times this week.  It's a great format.  If you are unfamiliar: https://en.wikipedia.org/wiki/GeoJSON"
   ]
  },
  {
   "cell_type": "code",
   "execution_count": 54,
   "metadata": {},
   "outputs": [],
   "source": [
    "#1:5000000 scale polygons\n",
    "states_url = 'http://eric.clst.org/assets/wiki/uploads/Stuff/gz_2010_us_040_00_5m.json'\n",
    "#1:500000 scale polygons (larger file, more vertices)\n",
    "#states_url = 'http://eric.clst.org/assets/wiki/uploads/Stuff/gz_2010_us_040_00_500k.json'"
   ]
  },
  {
   "cell_type": "code",
   "execution_count": 55,
   "metadata": {},
   "outputs": [],
   "source": [
    "states_gdf = gpd.read_file(states_url)"
   ]
  },
  {
   "cell_type": "markdown",
   "metadata": {},
   "source": [
    "### Inspect State GeoDataFrame\n",
    "Note that some geometry entries are tuples of POLYGON objects - these are states with islands or rings"
   ]
  },
  {
   "cell_type": "code",
   "execution_count": 56,
   "metadata": {},
   "outputs": [
    {
     "data": {
      "text/html": [
       "<div>\n",
       "<style scoped>\n",
       "    .dataframe tbody tr th:only-of-type {\n",
       "        vertical-align: middle;\n",
       "    }\n",
       "\n",
       "    .dataframe tbody tr th {\n",
       "        vertical-align: top;\n",
       "    }\n",
       "\n",
       "    .dataframe thead th {\n",
       "        text-align: right;\n",
       "    }\n",
       "</style>\n",
       "<table border=\"1\" class=\"dataframe\">\n",
       "  <thead>\n",
       "    <tr style=\"text-align: right;\">\n",
       "      <th></th>\n",
       "      <th>GEO_ID</th>\n",
       "      <th>STATE</th>\n",
       "      <th>NAME</th>\n",
       "      <th>LSAD</th>\n",
       "      <th>CENSUSAREA</th>\n",
       "      <th>geometry</th>\n",
       "    </tr>\n",
       "  </thead>\n",
       "  <tbody>\n",
       "    <tr>\n",
       "      <th>0</th>\n",
       "      <td>0400000US01</td>\n",
       "      <td>01</td>\n",
       "      <td>Alabama</td>\n",
       "      <td></td>\n",
       "      <td>50645.326</td>\n",
       "      <td>MULTIPOLYGON (((-88.12466 30.28364, -88.08681 ...</td>\n",
       "    </tr>\n",
       "    <tr>\n",
       "      <th>1</th>\n",
       "      <td>0400000US02</td>\n",
       "      <td>02</td>\n",
       "      <td>Alaska</td>\n",
       "      <td></td>\n",
       "      <td>570640.950</td>\n",
       "      <td>MULTIPOLYGON (((-166.10574 53.98861, -166.0752...</td>\n",
       "    </tr>\n",
       "    <tr>\n",
       "      <th>2</th>\n",
       "      <td>0400000US04</td>\n",
       "      <td>04</td>\n",
       "      <td>Arizona</td>\n",
       "      <td></td>\n",
       "      <td>113594.084</td>\n",
       "      <td>POLYGON ((-112.53859 37.00067, -112.53454 37.0...</td>\n",
       "    </tr>\n",
       "    <tr>\n",
       "      <th>3</th>\n",
       "      <td>0400000US05</td>\n",
       "      <td>05</td>\n",
       "      <td>Arkansas</td>\n",
       "      <td></td>\n",
       "      <td>52035.477</td>\n",
       "      <td>POLYGON ((-94.04296 33.01922, -94.04304 33.079...</td>\n",
       "    </tr>\n",
       "    <tr>\n",
       "      <th>4</th>\n",
       "      <td>0400000US06</td>\n",
       "      <td>06</td>\n",
       "      <td>California</td>\n",
       "      <td></td>\n",
       "      <td>155779.220</td>\n",
       "      <td>MULTIPOLYGON (((-122.42144 37.86997, -122.4213...</td>\n",
       "    </tr>\n",
       "  </tbody>\n",
       "</table>\n",
       "</div>"
      ],
      "text/plain": [
       "        GEO_ID STATE        NAME LSAD  CENSUSAREA  \\\n",
       "0  0400000US01    01     Alabama        50645.326   \n",
       "1  0400000US02    02      Alaska       570640.950   \n",
       "2  0400000US04    04     Arizona       113594.084   \n",
       "3  0400000US05    05    Arkansas        52035.477   \n",
       "4  0400000US06    06  California       155779.220   \n",
       "\n",
       "                                            geometry  \n",
       "0  MULTIPOLYGON (((-88.12466 30.28364, -88.08681 ...  \n",
       "1  MULTIPOLYGON (((-166.10574 53.98861, -166.0752...  \n",
       "2  POLYGON ((-112.53859 37.00067, -112.53454 37.0...  \n",
       "3  POLYGON ((-94.04296 33.01922, -94.04304 33.079...  \n",
       "4  MULTIPOLYGON (((-122.42144 37.86997, -122.4213...  "
      ]
     },
     "execution_count": 56,
     "metadata": {},
     "output_type": "execute_result"
    }
   ],
   "source": [
    "states_gdf.head()"
   ]
  },
  {
   "cell_type": "markdown",
   "metadata": {},
   "source": [
    "### Limit to Lower48"
   ]
  },
  {
   "cell_type": "code",
   "execution_count": 57,
   "metadata": {},
   "outputs": [],
   "source": [
    "idx = states_gdf['NAME'].isin(['Alaska','Puerto Rico','Hawaii'])\n",
    "states_gdf = states_gdf[~idx]"
   ]
  },
  {
   "cell_type": "code",
   "execution_count": 58,
   "metadata": {},
   "outputs": [
    {
     "data": {
      "application/vnd.jupyter.widget-view+json": {
       "model_id": "e7e45d2141c94cf0b6831f271b5068ee",
       "version_major": 2,
       "version_minor": 0
      },
      "text/plain": [
       "Canvas(toolbar=Toolbar(toolitems=[('Home', 'Reset original view', 'home', 'home'), ('Back', 'Back to previous …"
      ]
     },
     "metadata": {},
     "output_type": "display_data"
    }
   ],
   "source": [
    "ax = glas_gdf.plot('glas_z', markersize=1, cmap='inferno', legend=True)\n",
    "states_gdf.plot(ax=ax, facecolor='none', edgecolor='0.5', linewidth=0.5);"
   ]
  },
  {
   "cell_type": "markdown",
   "metadata": {},
   "source": [
    "# RGI glacier polygons\n",
    "\n",
    "Let's grab some glacier outline poygons from the Randolph Glacier Inventory (RGI) v6.0: https://www.glims.org/RGI/"
   ]
  },
  {
   "cell_type": "code",
   "execution_count": 59,
   "metadata": {},
   "outputs": [],
   "source": [
    "#Fetch the zip file for Region 02 (Western North America)\n",
    "rgi_zip_fn = '02_rgi60_WesternCanadaUS.zip'\n",
    "\n",
    "if not os.path.exists(rgi_zip_fn):\n",
    "    url = 'https://www.glims.org/RGI/rgi60_files/' + rgi_zip_fn\n",
    "    myfile = requests.get(url)\n",
    "    open(rgi_zip_fn, 'wb').write(myfile.content)"
   ]
  },
  {
   "cell_type": "code",
   "execution_count": 60,
   "metadata": {},
   "outputs": [],
   "source": [
    "#Unzip the file\n",
    "with zipfile.ZipFile(rgi_zip_fn, 'r') as zip_ref:\n",
    "    zip_ref.extractall('rgi')"
   ]
  },
  {
   "cell_type": "code",
   "execution_count": 61,
   "metadata": {},
   "outputs": [],
   "source": [
    "#Specify the shapefile filename\n",
    "rgi_fn = 'rgi/02_rgi60_WesternCanadaUS.shp'"
   ]
  },
  {
   "cell_type": "markdown",
   "metadata": {},
   "source": [
    "## Load RGI shapefile using Geopandas\n",
    "* Very easy with `read_file()` meethod"
   ]
  },
  {
   "cell_type": "code",
   "execution_count": 62,
   "metadata": {},
   "outputs": [
    {
     "data": {
      "text/html": [
       "<div>\n",
       "<style scoped>\n",
       "    .dataframe tbody tr th:only-of-type {\n",
       "        vertical-align: middle;\n",
       "    }\n",
       "\n",
       "    .dataframe tbody tr th {\n",
       "        vertical-align: top;\n",
       "    }\n",
       "\n",
       "    .dataframe thead th {\n",
       "        text-align: right;\n",
       "    }\n",
       "</style>\n",
       "<table border=\"1\" class=\"dataframe\">\n",
       "  <thead>\n",
       "    <tr style=\"text-align: right;\">\n",
       "      <th></th>\n",
       "      <th>RGIId</th>\n",
       "      <th>GLIMSId</th>\n",
       "      <th>BgnDate</th>\n",
       "      <th>EndDate</th>\n",
       "      <th>CenLon</th>\n",
       "      <th>CenLat</th>\n",
       "      <th>O1Region</th>\n",
       "      <th>O2Region</th>\n",
       "      <th>Area</th>\n",
       "      <th>Zmin</th>\n",
       "      <th>...</th>\n",
       "      <th>Aspect</th>\n",
       "      <th>Lmax</th>\n",
       "      <th>Status</th>\n",
       "      <th>Connect</th>\n",
       "      <th>Form</th>\n",
       "      <th>TermType</th>\n",
       "      <th>Surging</th>\n",
       "      <th>Linkages</th>\n",
       "      <th>Name</th>\n",
       "      <th>geometry</th>\n",
       "    </tr>\n",
       "  </thead>\n",
       "  <tbody>\n",
       "    <tr>\n",
       "      <th>0</th>\n",
       "      <td>RGI60-02.00001</td>\n",
       "      <td>G238765E49002N</td>\n",
       "      <td>20049999</td>\n",
       "      <td>20069999</td>\n",
       "      <td>-121.235</td>\n",
       "      <td>49.0019</td>\n",
       "      <td>2</td>\n",
       "      <td>4</td>\n",
       "      <td>0.073</td>\n",
       "      <td>1938</td>\n",
       "      <td>...</td>\n",
       "      <td>345</td>\n",
       "      <td>304</td>\n",
       "      <td>0</td>\n",
       "      <td>0</td>\n",
       "      <td>0</td>\n",
       "      <td>0</td>\n",
       "      <td>0</td>\n",
       "      <td>9</td>\n",
       "      <td>None</td>\n",
       "      <td>POLYGON ((-121.23718 49.00120, -121.23707 49.0...</td>\n",
       "    </tr>\n",
       "    <tr>\n",
       "      <th>1</th>\n",
       "      <td>RGI60-02.00002</td>\n",
       "      <td>G238410E49162N</td>\n",
       "      <td>20049999</td>\n",
       "      <td>20069999</td>\n",
       "      <td>-121.590</td>\n",
       "      <td>49.1617</td>\n",
       "      <td>2</td>\n",
       "      <td>4</td>\n",
       "      <td>0.262</td>\n",
       "      <td>1726</td>\n",
       "      <td>...</td>\n",
       "      <td>6</td>\n",
       "      <td>817</td>\n",
       "      <td>0</td>\n",
       "      <td>0</td>\n",
       "      <td>0</td>\n",
       "      <td>0</td>\n",
       "      <td>0</td>\n",
       "      <td>9</td>\n",
       "      <td>None</td>\n",
       "      <td>POLYGON ((-121.59118 49.15868, -121.59118 49.1...</td>\n",
       "    </tr>\n",
       "    <tr>\n",
       "      <th>2</th>\n",
       "      <td>RGI60-02.00003</td>\n",
       "      <td>G238791E49163N</td>\n",
       "      <td>20049999</td>\n",
       "      <td>20069999</td>\n",
       "      <td>-121.209</td>\n",
       "      <td>49.1627</td>\n",
       "      <td>2</td>\n",
       "      <td>4</td>\n",
       "      <td>0.307</td>\n",
       "      <td>2002</td>\n",
       "      <td>...</td>\n",
       "      <td>100</td>\n",
       "      <td>478</td>\n",
       "      <td>0</td>\n",
       "      <td>0</td>\n",
       "      <td>0</td>\n",
       "      <td>0</td>\n",
       "      <td>0</td>\n",
       "      <td>9</td>\n",
       "      <td>None</td>\n",
       "      <td>POLYGON ((-121.20751 49.16608, -121.20669 49.1...</td>\n",
       "    </tr>\n",
       "    <tr>\n",
       "      <th>3</th>\n",
       "      <td>RGI60-02.00004</td>\n",
       "      <td>G238399E49166N</td>\n",
       "      <td>20049999</td>\n",
       "      <td>20069999</td>\n",
       "      <td>-121.601</td>\n",
       "      <td>49.1657</td>\n",
       "      <td>2</td>\n",
       "      <td>4</td>\n",
       "      <td>0.184</td>\n",
       "      <td>1563</td>\n",
       "      <td>...</td>\n",
       "      <td>15</td>\n",
       "      <td>376</td>\n",
       "      <td>0</td>\n",
       "      <td>0</td>\n",
       "      <td>0</td>\n",
       "      <td>0</td>\n",
       "      <td>0</td>\n",
       "      <td>9</td>\n",
       "      <td>None</td>\n",
       "      <td>POLYGON ((-121.59654 49.16729, -121.59700 49.1...</td>\n",
       "    </tr>\n",
       "    <tr>\n",
       "      <th>4</th>\n",
       "      <td>RGI60-02.00005</td>\n",
       "      <td>G238389E49167N</td>\n",
       "      <td>20049999</td>\n",
       "      <td>20069999</td>\n",
       "      <td>-121.611</td>\n",
       "      <td>49.1666</td>\n",
       "      <td>2</td>\n",
       "      <td>4</td>\n",
       "      <td>0.274</td>\n",
       "      <td>1668</td>\n",
       "      <td>...</td>\n",
       "      <td>50</td>\n",
       "      <td>676</td>\n",
       "      <td>0</td>\n",
       "      <td>0</td>\n",
       "      <td>0</td>\n",
       "      <td>0</td>\n",
       "      <td>0</td>\n",
       "      <td>9</td>\n",
       "      <td>None</td>\n",
       "      <td>POLYGON ((-121.60800 49.16802, -121.60803 49.1...</td>\n",
       "    </tr>\n",
       "  </tbody>\n",
       "</table>\n",
       "<p>5 rows × 23 columns</p>\n",
       "</div>"
      ],
      "text/plain": [
       "            RGIId         GLIMSId   BgnDate   EndDate   CenLon   CenLat  \\\n",
       "0  RGI60-02.00001  G238765E49002N  20049999  20069999 -121.235  49.0019   \n",
       "1  RGI60-02.00002  G238410E49162N  20049999  20069999 -121.590  49.1617   \n",
       "2  RGI60-02.00003  G238791E49163N  20049999  20069999 -121.209  49.1627   \n",
       "3  RGI60-02.00004  G238399E49166N  20049999  20069999 -121.601  49.1657   \n",
       "4  RGI60-02.00005  G238389E49167N  20049999  20069999 -121.611  49.1666   \n",
       "\n",
       "  O1Region O2Region   Area  Zmin  ...  Aspect  Lmax  Status  Connect  Form  \\\n",
       "0        2        4  0.073  1938  ...     345   304       0        0     0   \n",
       "1        2        4  0.262  1726  ...       6   817       0        0     0   \n",
       "2        2        4  0.307  2002  ...     100   478       0        0     0   \n",
       "3        2        4  0.184  1563  ...      15   376       0        0     0   \n",
       "4        2        4  0.274  1668  ...      50   676       0        0     0   \n",
       "\n",
       "   TermType  Surging  Linkages  Name  \\\n",
       "0         0        0         9  None   \n",
       "1         0        0         9  None   \n",
       "2         0        0         9  None   \n",
       "3         0        0         9  None   \n",
       "4         0        0         9  None   \n",
       "\n",
       "                                            geometry  \n",
       "0  POLYGON ((-121.23718 49.00120, -121.23707 49.0...  \n",
       "1  POLYGON ((-121.59118 49.15868, -121.59118 49.1...  \n",
       "2  POLYGON ((-121.20751 49.16608, -121.20669 49.1...  \n",
       "3  POLYGON ((-121.59654 49.16729, -121.59700 49.1...  \n",
       "4  POLYGON ((-121.60800 49.16802, -121.60803 49.1...  \n",
       "\n",
       "[5 rows x 23 columns]"
      ]
     },
     "execution_count": 62,
     "metadata": {},
     "output_type": "execute_result"
    }
   ],
   "source": [
    "rgi_gdf = gpd.read_file(rgi_fn)\n",
    "rgi_gdf.head()"
   ]
  },
  {
   "cell_type": "markdown",
   "metadata": {},
   "source": [
    "That's it!"
   ]
  },
  {
   "cell_type": "code",
   "execution_count": 63,
   "metadata": {},
   "outputs": [],
   "source": [
    "#By default a new integer index is created.  Can use the RGI ID as our index\n",
    "#rgi_gdf = rgi_gdf.set_index('RGIId')"
   ]
  },
  {
   "cell_type": "markdown",
   "metadata": {},
   "source": [
    "## Inspect the RGI GeoDataFrame\n",
    "Note the geometry type is POLYGON"
   ]
  },
  {
   "cell_type": "code",
   "execution_count": 64,
   "metadata": {},
   "outputs": [
    {
     "data": {
      "text/html": [
       "<div>\n",
       "<style scoped>\n",
       "    .dataframe tbody tr th:only-of-type {\n",
       "        vertical-align: middle;\n",
       "    }\n",
       "\n",
       "    .dataframe tbody tr th {\n",
       "        vertical-align: top;\n",
       "    }\n",
       "\n",
       "    .dataframe thead th {\n",
       "        text-align: right;\n",
       "    }\n",
       "</style>\n",
       "<table border=\"1\" class=\"dataframe\">\n",
       "  <thead>\n",
       "    <tr style=\"text-align: right;\">\n",
       "      <th></th>\n",
       "      <th>RGIId</th>\n",
       "      <th>GLIMSId</th>\n",
       "      <th>BgnDate</th>\n",
       "      <th>EndDate</th>\n",
       "      <th>CenLon</th>\n",
       "      <th>CenLat</th>\n",
       "      <th>O1Region</th>\n",
       "      <th>O2Region</th>\n",
       "      <th>Area</th>\n",
       "      <th>Zmin</th>\n",
       "      <th>...</th>\n",
       "      <th>Aspect</th>\n",
       "      <th>Lmax</th>\n",
       "      <th>Status</th>\n",
       "      <th>Connect</th>\n",
       "      <th>Form</th>\n",
       "      <th>TermType</th>\n",
       "      <th>Surging</th>\n",
       "      <th>Linkages</th>\n",
       "      <th>Name</th>\n",
       "      <th>geometry</th>\n",
       "    </tr>\n",
       "  </thead>\n",
       "  <tbody>\n",
       "    <tr>\n",
       "      <th>0</th>\n",
       "      <td>RGI60-02.00001</td>\n",
       "      <td>G238765E49002N</td>\n",
       "      <td>20049999</td>\n",
       "      <td>20069999</td>\n",
       "      <td>-121.235</td>\n",
       "      <td>49.0019</td>\n",
       "      <td>2</td>\n",
       "      <td>4</td>\n",
       "      <td>0.073</td>\n",
       "      <td>1938</td>\n",
       "      <td>...</td>\n",
       "      <td>345</td>\n",
       "      <td>304</td>\n",
       "      <td>0</td>\n",
       "      <td>0</td>\n",
       "      <td>0</td>\n",
       "      <td>0</td>\n",
       "      <td>0</td>\n",
       "      <td>9</td>\n",
       "      <td>None</td>\n",
       "      <td>POLYGON ((-121.23718 49.00120, -121.23707 49.0...</td>\n",
       "    </tr>\n",
       "    <tr>\n",
       "      <th>1</th>\n",
       "      <td>RGI60-02.00002</td>\n",
       "      <td>G238410E49162N</td>\n",
       "      <td>20049999</td>\n",
       "      <td>20069999</td>\n",
       "      <td>-121.590</td>\n",
       "      <td>49.1617</td>\n",
       "      <td>2</td>\n",
       "      <td>4</td>\n",
       "      <td>0.262</td>\n",
       "      <td>1726</td>\n",
       "      <td>...</td>\n",
       "      <td>6</td>\n",
       "      <td>817</td>\n",
       "      <td>0</td>\n",
       "      <td>0</td>\n",
       "      <td>0</td>\n",
       "      <td>0</td>\n",
       "      <td>0</td>\n",
       "      <td>9</td>\n",
       "      <td>None</td>\n",
       "      <td>POLYGON ((-121.59118 49.15868, -121.59118 49.1...</td>\n",
       "    </tr>\n",
       "    <tr>\n",
       "      <th>2</th>\n",
       "      <td>RGI60-02.00003</td>\n",
       "      <td>G238791E49163N</td>\n",
       "      <td>20049999</td>\n",
       "      <td>20069999</td>\n",
       "      <td>-121.209</td>\n",
       "      <td>49.1627</td>\n",
       "      <td>2</td>\n",
       "      <td>4</td>\n",
       "      <td>0.307</td>\n",
       "      <td>2002</td>\n",
       "      <td>...</td>\n",
       "      <td>100</td>\n",
       "      <td>478</td>\n",
       "      <td>0</td>\n",
       "      <td>0</td>\n",
       "      <td>0</td>\n",
       "      <td>0</td>\n",
       "      <td>0</td>\n",
       "      <td>9</td>\n",
       "      <td>None</td>\n",
       "      <td>POLYGON ((-121.20751 49.16608, -121.20669 49.1...</td>\n",
       "    </tr>\n",
       "    <tr>\n",
       "      <th>3</th>\n",
       "      <td>RGI60-02.00004</td>\n",
       "      <td>G238399E49166N</td>\n",
       "      <td>20049999</td>\n",
       "      <td>20069999</td>\n",
       "      <td>-121.601</td>\n",
       "      <td>49.1657</td>\n",
       "      <td>2</td>\n",
       "      <td>4</td>\n",
       "      <td>0.184</td>\n",
       "      <td>1563</td>\n",
       "      <td>...</td>\n",
       "      <td>15</td>\n",
       "      <td>376</td>\n",
       "      <td>0</td>\n",
       "      <td>0</td>\n",
       "      <td>0</td>\n",
       "      <td>0</td>\n",
       "      <td>0</td>\n",
       "      <td>9</td>\n",
       "      <td>None</td>\n",
       "      <td>POLYGON ((-121.59654 49.16729, -121.59700 49.1...</td>\n",
       "    </tr>\n",
       "    <tr>\n",
       "      <th>4</th>\n",
       "      <td>RGI60-02.00005</td>\n",
       "      <td>G238389E49167N</td>\n",
       "      <td>20049999</td>\n",
       "      <td>20069999</td>\n",
       "      <td>-121.611</td>\n",
       "      <td>49.1666</td>\n",
       "      <td>2</td>\n",
       "      <td>4</td>\n",
       "      <td>0.274</td>\n",
       "      <td>1668</td>\n",
       "      <td>...</td>\n",
       "      <td>50</td>\n",
       "      <td>676</td>\n",
       "      <td>0</td>\n",
       "      <td>0</td>\n",
       "      <td>0</td>\n",
       "      <td>0</td>\n",
       "      <td>0</td>\n",
       "      <td>9</td>\n",
       "      <td>None</td>\n",
       "      <td>POLYGON ((-121.60800 49.16802, -121.60803 49.1...</td>\n",
       "    </tr>\n",
       "  </tbody>\n",
       "</table>\n",
       "<p>5 rows × 23 columns</p>\n",
       "</div>"
      ],
      "text/plain": [
       "            RGIId         GLIMSId   BgnDate   EndDate   CenLon   CenLat  \\\n",
       "0  RGI60-02.00001  G238765E49002N  20049999  20069999 -121.235  49.0019   \n",
       "1  RGI60-02.00002  G238410E49162N  20049999  20069999 -121.590  49.1617   \n",
       "2  RGI60-02.00003  G238791E49163N  20049999  20069999 -121.209  49.1627   \n",
       "3  RGI60-02.00004  G238399E49166N  20049999  20069999 -121.601  49.1657   \n",
       "4  RGI60-02.00005  G238389E49167N  20049999  20069999 -121.611  49.1666   \n",
       "\n",
       "  O1Region O2Region   Area  Zmin  ...  Aspect  Lmax  Status  Connect  Form  \\\n",
       "0        2        4  0.073  1938  ...     345   304       0        0     0   \n",
       "1        2        4  0.262  1726  ...       6   817       0        0     0   \n",
       "2        2        4  0.307  2002  ...     100   478       0        0     0   \n",
       "3        2        4  0.184  1563  ...      15   376       0        0     0   \n",
       "4        2        4  0.274  1668  ...      50   676       0        0     0   \n",
       "\n",
       "   TermType  Surging  Linkages  Name  \\\n",
       "0         0        0         9  None   \n",
       "1         0        0         9  None   \n",
       "2         0        0         9  None   \n",
       "3         0        0         9  None   \n",
       "4         0        0         9  None   \n",
       "\n",
       "                                            geometry  \n",
       "0  POLYGON ((-121.23718 49.00120, -121.23707 49.0...  \n",
       "1  POLYGON ((-121.59118 49.15868, -121.59118 49.1...  \n",
       "2  POLYGON ((-121.20751 49.16608, -121.20669 49.1...  \n",
       "3  POLYGON ((-121.59654 49.16729, -121.59700 49.1...  \n",
       "4  POLYGON ((-121.60800 49.16802, -121.60803 49.1...  \n",
       "\n",
       "[5 rows x 23 columns]"
      ]
     },
     "execution_count": 64,
     "metadata": {},
     "output_type": "execute_result"
    }
   ],
   "source": [
    "rgi_gdf.head()"
   ]
  },
  {
   "cell_type": "markdown",
   "metadata": {},
   "source": [
    "## Create a quick plot"
   ]
  },
  {
   "cell_type": "code",
   "execution_count": 65,
   "metadata": {},
   "outputs": [
    {
     "data": {
      "application/vnd.jupyter.widget-view+json": {
       "model_id": "c21e5be45b6c4d51a5a9f579de7802c6",
       "version_major": 2,
       "version_minor": 0
      },
      "text/plain": [
       "Canvas(toolbar=Toolbar(toolitems=[('Home', 'Reset original view', 'home', 'home'), ('Back', 'Back to previous …"
      ]
     },
     "metadata": {},
     "output_type": "display_data"
    }
   ],
   "source": [
    "rgi_gdf.plot();"
   ]
  },
  {
   "cell_type": "markdown",
   "metadata": {},
   "source": [
    "### Update our quick plot of RGI polygons"
   ]
  },
  {
   "cell_type": "code",
   "execution_count": 66,
   "metadata": {},
   "outputs": [
    {
     "data": {
      "application/vnd.jupyter.widget-view+json": {
       "model_id": "f7590da2b9b440bfbb16971603e5f690",
       "version_major": 2,
       "version_minor": 0
      },
      "text/plain": [
       "Canvas(toolbar=Toolbar(toolitems=[('Home', 'Reset original view', 'home', 'home'), ('Back', 'Back to previous …"
      ]
     },
     "metadata": {},
     "output_type": "display_data"
    }
   ],
   "source": [
    "world = gpd.read_file(gpd.datasets.get_path('naturalearth_lowres'))\n",
    "ax = world.plot(alpha=0.2)\n",
    "states_gdf.plot(ax=ax, facecolor='none', edgecolor='0.5', linewidth=0.5)\n",
    "rgi_gdf.plot(ax=ax, edgecolor='k', linewidth=0.5);"
   ]
  },
  {
   "cell_type": "markdown",
   "metadata": {},
   "source": [
    "## Clip RGI polygons to CONUS\n",
    "GeoPandas makes spatial selection easy.  \n",
    "\n",
    "We'll have two options: 1) using a bounding box, and 2) using an arbitrary polygon."
   ]
  },
  {
   "cell_type": "markdown",
   "metadata": {},
   "source": [
    "### 1. Bounding box"
   ]
  },
  {
   "cell_type": "code",
   "execution_count": 67,
   "metadata": {},
   "outputs": [
    {
     "data": {
      "text/plain": [
       "array([-124.482406,   34.999455, -104.052336,   48.999727])"
      ]
     },
     "execution_count": 67,
     "metadata": {},
     "output_type": "execute_result"
    }
   ],
   "source": [
    "glas_gdf.total_bounds"
   ]
  },
  {
   "cell_type": "markdown",
   "metadata": {},
   "source": [
    "#### Define min/max variables for each dimension"
   ]
  },
  {
   "cell_type": "code",
   "execution_count": 68,
   "metadata": {},
   "outputs": [],
   "source": [
    "xmin, ymin, xmax, ymax = glas_gdf.total_bounds"
   ]
  },
  {
   "cell_type": "markdown",
   "metadata": {},
   "source": [
    "#### Create new GeoDataFrame from output of simple spatial filter with GeoPandas `cx` function\n",
    "* https://geopandas.org/indexing.html"
   ]
  },
  {
   "cell_type": "code",
   "execution_count": 69,
   "metadata": {},
   "outputs": [],
   "source": [
    "rgi_gdf_conus = rgi_gdf.cx[xmin:xmax, ymin:ymax]"
   ]
  },
  {
   "cell_type": "markdown",
   "metadata": {},
   "source": [
    "#### Quick plot to verify"
   ]
  },
  {
   "cell_type": "code",
   "execution_count": 70,
   "metadata": {},
   "outputs": [
    {
     "data": {
      "application/vnd.jupyter.widget-view+json": {
       "model_id": "648603c588594384845515385d0acecc",
       "version_major": 2,
       "version_minor": 0
      },
      "text/plain": [
       "Canvas(toolbar=Toolbar(toolitems=[('Home', 'Reset original view', 'home', 'home'), ('Back', 'Back to previous …"
      ]
     },
     "metadata": {},
     "output_type": "display_data"
    }
   ],
   "source": [
    "rgi_gdf_conus.plot(edgecolor='k', linewidth=0.5);"
   ]
  },
  {
   "cell_type": "markdown",
   "metadata": {},
   "source": [
    "### 2. Clip points to arbitrary Polygon geometry\n",
    "\n",
    "Let's define a Polygon around our area of interest (the GLAS points) \n",
    "\n",
    "To do this, we'll first take the union of our ~65K GLAS points, and then compute the convex hull\n",
    "\n",
    "This will return a Polygon geometry object, which renders nicely in the Jupyter notebook"
   ]
  },
  {
   "cell_type": "code",
   "execution_count": 71,
   "metadata": {},
   "outputs": [],
   "source": [
    "glas_gdf_chull = glas_gdf.unary_union.convex_hull"
   ]
  },
  {
   "cell_type": "code",
   "execution_count": 72,
   "metadata": {},
   "outputs": [
    {
     "data": {
      "text/plain": [
       "shapely.geometry.polygon.Polygon"
      ]
     },
     "execution_count": 72,
     "metadata": {},
     "output_type": "execute_result"
    }
   ],
   "source": [
    "#Check the type\n",
    "type(glas_gdf_chull)"
   ]
  },
  {
   "cell_type": "markdown",
   "metadata": {},
   "source": [
    "#### Preview geometry\n",
    "Note that geometry objects (points, lines, polygons, etc.) will render directly in the Jupyter notebook!  Great for quick previews."
   ]
  },
  {
   "cell_type": "code",
   "execution_count": 73,
   "metadata": {},
   "outputs": [
    {
     "data": {
      "image/svg+xml": [
       "<svg xmlns=\"http://www.w3.org/2000/svg\" xmlns:xlink=\"http://www.w3.org/1999/xlink\" width=\"100.0\" height=\"100.0\" viewBox=\"-125.29960880000002 34.18225219999999 22.064475600000023 15.63467760000001\" preserveAspectRatio=\"xMinYMin meet\"><g transform=\"matrix(1,0,0,-1,0,83.99918199999999)\"><path fill-rule=\"evenodd\" fill=\"#66cc99\" stroke=\"#555555\" stroke-width=\"0.44128951200000044\" opacity=\"0.6\" d=\"M -119.459819,34.999455 L -119.87231200000001,35.00575 L -120.896355,36.024209 L -123.523499,39.117069 L -124.36082900000001,40.338738 L -124.36338400000001,40.343677 L -124.367958,40.381397 L -124.37769499999999,40.489467 L -124.48240600000001,47.674555 L -124.47997,48.329878 L -123.05421499999999,48.975885999999996 L -122.790044,48.982369 L -121.554057,48.998647999999996 L -121.475035,48.999427000000004 L -121.18181200000001,48.999727 L -120.17959599999999,48.999334000000005 L -113.776866,48.99425 L -112.675973,48.981798 L -111.90608999999999,48.937306 L -109.003477,47.889021 L -106.171209,45.958121000000006 L -105.526468,44.987974 L -105.217304,44.450540000000004 L -104.118225,41.927228 L -104.052336,39.281164000000004 L -104.19483100000001,38.043192 L -105.255683,37.027087 L -105.25720700000001,37.025655 L -107.21336699999999,36.002261 L -117.009879,35.031163 L -117.38448700000001,35.00265 L -119.459819,34.999455 z\" /></g></svg>"
      ],
      "text/plain": [
       "<shapely.geometry.polygon.Polygon at 0x7fe8600d2650>"
      ]
     },
     "execution_count": 73,
     "metadata": {},
     "output_type": "execute_result"
    }
   ],
   "source": [
    "glas_gdf_chull"
   ]
  },
  {
   "cell_type": "markdown",
   "metadata": {},
   "source": [
    "#### Compute intersection between all RGI polygons and the convex hull\n",
    "Use the GeoDataFrame `intersects()` function.  \n",
    "This will return a Boolean DataSeries, True if points intersect the polygon, False if they do not"
   ]
  },
  {
   "cell_type": "code",
   "execution_count": 74,
   "metadata": {},
   "outputs": [],
   "source": [
    "rgi_gdf_idx = rgi_gdf.intersects(glas_gdf_chull)"
   ]
  },
  {
   "cell_type": "code",
   "execution_count": 75,
   "metadata": {},
   "outputs": [
    {
     "data": {
      "text/plain": [
       "0    False\n",
       "1    False\n",
       "2    False\n",
       "3    False\n",
       "4    False\n",
       "dtype: bool"
      ]
     },
     "execution_count": 75,
     "metadata": {},
     "output_type": "execute_result"
    }
   ],
   "source": [
    "rgi_gdf_idx.head()"
   ]
  },
  {
   "cell_type": "markdown",
   "metadata": {},
   "source": [
    "#### Extract records with True for the intersection"
   ]
  },
  {
   "cell_type": "code",
   "execution_count": 76,
   "metadata": {},
   "outputs": [
    {
     "name": "stdout",
     "output_type": "stream",
     "text": [
      "Number of RGI polygons before: 18855\n",
      "Number of RGI polygons after: 5149\n"
     ]
    }
   ],
   "source": [
    "print(\"Number of RGI polygons before:\",rgi_gdf.shape[0])\n",
    "rgi_gdf_conus = rgi_gdf[rgi_gdf_idx]\n",
    "print(\"Number of RGI polygons after:\", rgi_gdf_conus.shape[0])"
   ]
  },
  {
   "cell_type": "markdown",
   "metadata": {},
   "source": [
    "#### Quick plot to verify\n",
    "Note latitude range"
   ]
  },
  {
   "cell_type": "code",
   "execution_count": 77,
   "metadata": {},
   "outputs": [
    {
     "data": {
      "application/vnd.jupyter.widget-view+json": {
       "model_id": "e4faea8e9ee243b78508cb2e63e007df",
       "version_major": 2,
       "version_minor": 0
      },
      "text/plain": [
       "Canvas(toolbar=Toolbar(toolitems=[('Home', 'Reset original view', 'home', 'home'), ('Back', 'Back to previous …"
      ]
     },
     "metadata": {},
     "output_type": "display_data"
    }
   ],
   "source": [
    "rgi_gdf_conus.plot(edgecolor='k', linewidth=0.5);"
   ]
  },
  {
   "cell_type": "markdown",
   "metadata": {},
   "source": [
    "# Part 4: Reprojection and Coordinate Systems"
   ]
  },
  {
   "cell_type": "markdown",
   "metadata": {},
   "source": [
    "All of the above examples used standard geodetic lat/lon coordinate system (EPSG:4326).  This is fine for global analyses and basic visualization.  But remember that the width of a degree of longitude varies with latitude (~111 km near equator, ~0 m near pole), so our plots have scaling and aspect ratio issues.\n",
    "\n",
    "We need to choose a map projection that is appropriate for our data. This decision is important for visualization, but is also critical for precise quantitative analysis. For example, if you want to compute area or volume change, you should use an equal-area projection. If you want to calculate distances between two points, you should use an equidistant projection.\n",
    "\n",
    "https://www.axismaps.com/guide/general/map-projections/\n",
    "\n",
    "Sadly, there is no \"perfect\" projection. You, as the mapmaker or data analyst, are responsible for choosing a projection with the right characteristics for your purposes. Let's explore a bit further, and we'll revisit some general guidelines later."
   ]
  },
  {
   "cell_type": "markdown",
   "metadata": {},
   "source": [
    "## Use GeoPandas to reproject your GeoDataFrame\n",
    "* Use the very convenient `to_crs()` method to reproject: https://geopandas.org/projections.html\n",
    "* Start by reprojecting the points to a Universal Transverse Mercator (UTM), Zone 10N (EPSG:32610)\n",
    "* Store the output as a new GeoDataFrame\n",
    "* Do a quick `head()` and note the new values in the `geometry` column"
   ]
  },
  {
   "cell_type": "code",
   "execution_count": 78,
   "metadata": {},
   "outputs": [],
   "source": [
    "utm_crs = 'EPSG:32611'\n",
    "glas_gdf_utm = glas_gdf.to_crs(utm_crs)"
   ]
  },
  {
   "cell_type": "code",
   "execution_count": 79,
   "metadata": {},
   "outputs": [
    {
     "data": {
      "text/html": [
       "<div>\n",
       "<style scoped>\n",
       "    .dataframe tbody tr th:only-of-type {\n",
       "        vertical-align: middle;\n",
       "    }\n",
       "\n",
       "    .dataframe tbody tr th {\n",
       "        vertical-align: top;\n",
       "    }\n",
       "\n",
       "    .dataframe thead th {\n",
       "        text-align: right;\n",
       "    }\n",
       "</style>\n",
       "<table border=\"1\" class=\"dataframe\">\n",
       "  <thead>\n",
       "    <tr style=\"text-align: right;\">\n",
       "      <th></th>\n",
       "      <th>decyear</th>\n",
       "      <th>ordinal</th>\n",
       "      <th>lat</th>\n",
       "      <th>lon</th>\n",
       "      <th>glas_z</th>\n",
       "      <th>dem_z</th>\n",
       "      <th>dem_z_std</th>\n",
       "      <th>lulc</th>\n",
       "      <th>glas_srtm_dh</th>\n",
       "      <th>glas_srtm_dt</th>\n",
       "      <th>glas_srtm_dhdt</th>\n",
       "      <th>geometry</th>\n",
       "    </tr>\n",
       "  </thead>\n",
       "  <tbody>\n",
       "    <tr>\n",
       "      <th>0</th>\n",
       "      <td>2003.139571</td>\n",
       "      <td>731266.943345</td>\n",
       "      <td>44.157897</td>\n",
       "      <td>-105.356562</td>\n",
       "      <td>1398.51</td>\n",
       "      <td>1400.52</td>\n",
       "      <td>0.33</td>\n",
       "      <td>31</td>\n",
       "      <td>-2.01</td>\n",
       "      <td>3.027571</td>\n",
       "      <td>-0.663899</td>\n",
       "      <td>POINT (1431183.070 4955789.787)</td>\n",
       "    </tr>\n",
       "    <tr>\n",
       "      <th>1</th>\n",
       "      <td>2003.139571</td>\n",
       "      <td>731266.943346</td>\n",
       "      <td>44.150175</td>\n",
       "      <td>-105.358116</td>\n",
       "      <td>1387.11</td>\n",
       "      <td>1384.64</td>\n",
       "      <td>0.43</td>\n",
       "      <td>31</td>\n",
       "      <td>2.47</td>\n",
       "      <td>3.027571</td>\n",
       "      <td>0.815836</td>\n",
       "      <td>POINT (1431181.915 4954913.882)</td>\n",
       "    </tr>\n",
       "    <tr>\n",
       "      <th>2</th>\n",
       "      <td>2003.139571</td>\n",
       "      <td>731266.943347</td>\n",
       "      <td>44.148632</td>\n",
       "      <td>-105.358427</td>\n",
       "      <td>1392.83</td>\n",
       "      <td>1383.49</td>\n",
       "      <td>0.28</td>\n",
       "      <td>31</td>\n",
       "      <td>9.34</td>\n",
       "      <td>3.027571</td>\n",
       "      <td>3.084982</td>\n",
       "      <td>POINT (1431181.639 4954738.855)</td>\n",
       "    </tr>\n",
       "    <tr>\n",
       "      <th>3</th>\n",
       "      <td>2003.139571</td>\n",
       "      <td>731266.943347</td>\n",
       "      <td>44.147087</td>\n",
       "      <td>-105.358738</td>\n",
       "      <td>1384.24</td>\n",
       "      <td>1382.85</td>\n",
       "      <td>0.84</td>\n",
       "      <td>31</td>\n",
       "      <td>1.39</td>\n",
       "      <td>3.027571</td>\n",
       "      <td>0.459114</td>\n",
       "      <td>POINT (1431181.394 4954563.604)</td>\n",
       "    </tr>\n",
       "    <tr>\n",
       "      <th>4</th>\n",
       "      <td>2003.139571</td>\n",
       "      <td>731266.943347</td>\n",
       "      <td>44.145542</td>\n",
       "      <td>-105.359048</td>\n",
       "      <td>1369.21</td>\n",
       "      <td>1380.24</td>\n",
       "      <td>1.73</td>\n",
       "      <td>31</td>\n",
       "      <td>-11.03</td>\n",
       "      <td>3.027571</td>\n",
       "      <td>-3.643185</td>\n",
       "      <td>POINT (1431181.226 4954388.366)</td>\n",
       "    </tr>\n",
       "  </tbody>\n",
       "</table>\n",
       "</div>"
      ],
      "text/plain": [
       "       decyear        ordinal        lat         lon   glas_z    dem_z  \\\n",
       "0  2003.139571  731266.943345  44.157897 -105.356562  1398.51  1400.52   \n",
       "1  2003.139571  731266.943346  44.150175 -105.358116  1387.11  1384.64   \n",
       "2  2003.139571  731266.943347  44.148632 -105.358427  1392.83  1383.49   \n",
       "3  2003.139571  731266.943347  44.147087 -105.358738  1384.24  1382.85   \n",
       "4  2003.139571  731266.943347  44.145542 -105.359048  1369.21  1380.24   \n",
       "\n",
       "   dem_z_std  lulc  glas_srtm_dh  glas_srtm_dt  glas_srtm_dhdt  \\\n",
       "0       0.33    31         -2.01      3.027571       -0.663899   \n",
       "1       0.43    31          2.47      3.027571        0.815836   \n",
       "2       0.28    31          9.34      3.027571        3.084982   \n",
       "3       0.84    31          1.39      3.027571        0.459114   \n",
       "4       1.73    31        -11.03      3.027571       -3.643185   \n",
       "\n",
       "                          geometry  \n",
       "0  POINT (1431183.070 4955789.787)  \n",
       "1  POINT (1431181.915 4954913.882)  \n",
       "2  POINT (1431181.639 4954738.855)  \n",
       "3  POINT (1431181.394 4954563.604)  \n",
       "4  POINT (1431181.226 4954388.366)  "
      ]
     },
     "execution_count": 79,
     "metadata": {},
     "output_type": "execute_result"
    }
   ],
   "source": [
    "glas_gdf_utm.head()"
   ]
  },
  {
   "cell_type": "markdown",
   "metadata": {},
   "source": [
    "## Create a new plot of the reprojected points\n",
    "* Note the new coordinate system origin (0,0), units, and aspect ratio"
   ]
  },
  {
   "cell_type": "code",
   "execution_count": 80,
   "metadata": {},
   "outputs": [
    {
     "data": {
      "application/vnd.jupyter.widget-view+json": {
       "model_id": "bab47db87dee4567828f053c9b0f2ef0",
       "version_major": 2,
       "version_minor": 0
      },
      "text/plain": [
       "Canvas(toolbar=Toolbar(toolitems=[('Home', 'Reset original view', 'home', 'home'), ('Back', 'Back to previous …"
      ]
     },
     "metadata": {},
     "output_type": "display_data"
    }
   ],
   "source": [
    "ax = glas_gdf_utm.plot(column='glas_z', cmap='inferno', markersize=1, legend=True)"
   ]
  },
  {
   "cell_type": "markdown",
   "metadata": {},
   "source": [
    "## Excellent, but what did we just do?\n",
    "\n",
    "Under the hood, GeoPandas used the `pyproj` library (a Python API for PROJ) to transform each point from one coordinate system to another coordinate system.  \n",
    "\n",
    "I guarantee that you've all done this kind of thing before, you may just not remember it or recognize it in this context. See: https://en.wikipedia.org/wiki/List_of_common_coordinate_transformations\n",
    "\n",
    "In 2D, transforming (x,y) coordinates between different projections (e.g., WGS84 vs. UTM) on the same reference ellipsoid is pretty straightforward.  Things start to get more complicated when you include different ellipsoid models, horizontal/vertical datums, etc.  Oh, also the Earth's surface is not static - plate tectonics make everything more complicated, as time becomes important, and transformations must include a \"kinematic\" component.  \n",
    "\n",
    "Fortunately, the `PROJ` library (https://proj.org/about.html) has generalized much of the complicated math for geodetic coordinate transformations.  It's been under development since the 1980s, and our understanding of the Earth's shape and plate motions has changed dramatically in that time period.  So, still pretty complicated, and there are different levels of support/sophistication in the tools/libraries that use `PROJ`.\n",
    "\n",
    "We aren't going to get into the details here, but feel free to take a look at the Transformations section here to get a sense of how this is actually accomplished: https://proj.org/operations/index.html"
   ]
  },
  {
   "cell_type": "markdown",
   "metadata": {},
   "source": [
    "## Let's define a custom projection for the Western U.S.\n",
    "\n",
    "The UTM projection we used above is not the best choice for our data, which actually span 4 UTM zones:\n",
    "https://en.wikipedia.org/wiki/Universal_Transverse_Mercator_coordinate_system#/media/File:Utm-zones-USA.svg. \n",
    "\n",
    "We used Zone 11N, which means that our map will have limited distortion within that zone centered on -110°W.  But distortion will increase beyond the width of the -114° to -108°W zone definition.\n",
    "\n",
    "Let's instead use a custom Albers Equal Area (AEA) projection to minimize distoration over the full spatial extent of our GLAS points\n",
    "\n",
    "To do this, we'll define a PROJ string (https://proj.org/usage/quickstart.html?highlight=definition), which can be interpreted by most Python geopackages (like `pyproj`).\n",
    "\n",
    "The Albers Equal Area projection requires two standard parallels: https://proj.org/operations/projections/aea.html.  Here, we will also specify the center latitude and center longitude for the coordinate system origin."
   ]
  },
  {
   "cell_type": "markdown",
   "metadata": {},
   "source": [
    "* Define a custom Albers Equal Area proj string `'+proj=aea...'`\n",
    "    * https://en.wikipedia.org/wiki/Albers_projection\n",
    "    * PROJ reference, with example: https://proj.org/operations/projections/aea.html\n",
    "    * Here is another sample proj string example for an Albers Equal Area projection of the U.S. (note that this uses GRS80 ellipsoid and NAD83 datum): http://spatialreference.org/ref/esri/102003/proj4/\n",
    "        * For your string, please use WGS84 ellipsoid (see the proj doc for aea in the above link)\n",
    "* Use the center longitude and center latitude you calculated earlier\n",
    "* Define the two standard parallels (lines of latitude) based on the range of your points\n",
    "    * Scale is true along these parallels, and distortion increases as you move away from these two parallels\n",
    "    * One approach would be to use min and max latitude from the `total_bounds` extent computed earlier\n",
    "        * This is fine, but note that this could lead to additional distortion near your center latitude\n",
    "        * Extra Credit: figure out how to place them slightly inside your min and max latitude to minimize distortion across the entire latitude range\n",
    "* Use Python string formatting to dynamically create your proj string (don't just hardcode your values, but substitute variables in the string)\n",
    "* Print the final proj string"
   ]
  },
  {
   "cell_type": "markdown",
   "metadata": {},
   "source": [
    "## Get bounding box (extent) and center (lon, lat) of GLAS points\n",
    "* See GeoPandas API reference. In this case, you want the total_bounds attribute: http://geopandas.org/reference.html#geopandas.GeoSeries.total_bounds\n",
    "* Center can be calculated from the min/max extent values in each dimension"
   ]
  },
  {
   "cell_type": "code",
   "execution_count": 81,
   "metadata": {},
   "outputs": [
    {
     "data": {
      "text/plain": [
       "array([-124.482406,   34.999455, -104.052336,   48.999727])"
      ]
     },
     "execution_count": 81,
     "metadata": {},
     "output_type": "execute_result"
    }
   ],
   "source": [
    "glas_extent = glas_gdf.total_bounds\n",
    "glas_extent"
   ]
  },
  {
   "cell_type": "code",
   "execution_count": 82,
   "metadata": {},
   "outputs": [
    {
     "data": {
      "text/plain": [
       "array([-114.267371,   41.999591])"
      ]
     },
     "execution_count": 82,
     "metadata": {},
     "output_type": "execute_result"
    }
   ],
   "source": [
    "glas_center = glas_extent.reshape((2,2)).mean(axis=0)\n",
    "glas_center"
   ]
  },
  {
   "cell_type": "markdown",
   "metadata": {},
   "source": [
    "## Create the PROJ string"
   ]
  },
  {
   "cell_type": "code",
   "execution_count": 83,
   "metadata": {},
   "outputs": [],
   "source": [
    "clon = glas_center[0]\n",
    "clat = glas_center[1]\n",
    "#Standard parallels at min/max values\n",
    "#p1 = glas_extent[1]\n",
    "#p2 = glas_extent[3]\n",
    "#Standard parallels within the point extent\n",
    "dp = (glas_extent[3] - glas_extent[1])*0.67\n",
    "p1 = clat - dp/2.\n",
    "p2 = clat + dp/2."
   ]
  },
  {
   "cell_type": "code",
   "execution_count": 84,
   "metadata": {},
   "outputs": [
    {
     "data": {
      "text/plain": [
       "'+proj=aea +lat_1=37.31 +lat_2=46.69 +lat_0=42.00 +lon_0=-114.27'"
      ]
     },
     "execution_count": 84,
     "metadata": {},
     "output_type": "execute_result"
    }
   ],
   "source": [
    "proj_str_aea = '+proj=aea +lat_1={:.2f} +lat_2={:.2f} +lat_0={:.2f} +lon_0={:.2f}'.format(p1, p2, clat, clon)\n",
    "proj_str_aea"
   ]
  },
  {
   "cell_type": "markdown",
   "metadata": {},
   "source": [
    "## Reproject the GLAS points to the custom projection"
   ]
  },
  {
   "cell_type": "code",
   "execution_count": 85,
   "metadata": {},
   "outputs": [],
   "source": [
    "glas_gdf_aea = glas_gdf.to_crs(proj_str_aea)"
   ]
  },
  {
   "cell_type": "code",
   "execution_count": 86,
   "metadata": {},
   "outputs": [
    {
     "data": {
      "text/html": [
       "<div>\n",
       "<style scoped>\n",
       "    .dataframe tbody tr th:only-of-type {\n",
       "        vertical-align: middle;\n",
       "    }\n",
       "\n",
       "    .dataframe tbody tr th {\n",
       "        vertical-align: top;\n",
       "    }\n",
       "\n",
       "    .dataframe thead th {\n",
       "        text-align: right;\n",
       "    }\n",
       "</style>\n",
       "<table border=\"1\" class=\"dataframe\">\n",
       "  <thead>\n",
       "    <tr style=\"text-align: right;\">\n",
       "      <th></th>\n",
       "      <th>decyear</th>\n",
       "      <th>ordinal</th>\n",
       "      <th>lat</th>\n",
       "      <th>lon</th>\n",
       "      <th>glas_z</th>\n",
       "      <th>dem_z</th>\n",
       "      <th>dem_z_std</th>\n",
       "      <th>lulc</th>\n",
       "      <th>glas_srtm_dh</th>\n",
       "      <th>glas_srtm_dt</th>\n",
       "      <th>glas_srtm_dhdt</th>\n",
       "      <th>geometry</th>\n",
       "    </tr>\n",
       "  </thead>\n",
       "  <tbody>\n",
       "    <tr>\n",
       "      <th>0</th>\n",
       "      <td>2003.139571</td>\n",
       "      <td>731266.943345</td>\n",
       "      <td>44.157897</td>\n",
       "      <td>-105.356562</td>\n",
       "      <td>1398.51</td>\n",
       "      <td>1400.52</td>\n",
       "      <td>0.33</td>\n",
       "      <td>31</td>\n",
       "      <td>-2.01</td>\n",
       "      <td>3.027571</td>\n",
       "      <td>-0.663899</td>\n",
       "      <td>POINT (709799.202 277341.464)</td>\n",
       "    </tr>\n",
       "    <tr>\n",
       "      <th>1</th>\n",
       "      <td>2003.139571</td>\n",
       "      <td>731266.943346</td>\n",
       "      <td>44.150175</td>\n",
       "      <td>-105.358116</td>\n",
       "      <td>1387.11</td>\n",
       "      <td>1384.64</td>\n",
       "      <td>0.43</td>\n",
       "      <td>31</td>\n",
       "      <td>2.47</td>\n",
       "      <td>3.027571</td>\n",
       "      <td>0.815836</td>\n",
       "      <td>POINT (709764.987 276472.876)</td>\n",
       "    </tr>\n",
       "    <tr>\n",
       "      <th>2</th>\n",
       "      <td>2003.139571</td>\n",
       "      <td>731266.943347</td>\n",
       "      <td>44.148632</td>\n",
       "      <td>-105.358427</td>\n",
       "      <td>1392.83</td>\n",
       "      <td>1383.49</td>\n",
       "      <td>0.28</td>\n",
       "      <td>31</td>\n",
       "      <td>9.34</td>\n",
       "      <td>3.027571</td>\n",
       "      <td>3.084982</td>\n",
       "      <td>POINT (709758.108 276299.312)</td>\n",
       "    </tr>\n",
       "    <tr>\n",
       "      <th>3</th>\n",
       "      <td>2003.139571</td>\n",
       "      <td>731266.943347</td>\n",
       "      <td>44.147087</td>\n",
       "      <td>-105.358738</td>\n",
       "      <td>1384.24</td>\n",
       "      <td>1382.85</td>\n",
       "      <td>0.84</td>\n",
       "      <td>31</td>\n",
       "      <td>1.39</td>\n",
       "      <td>3.027571</td>\n",
       "      <td>0.459114</td>\n",
       "      <td>POINT (709751.251 276125.525)</td>\n",
       "    </tr>\n",
       "    <tr>\n",
       "      <th>4</th>\n",
       "      <td>2003.139571</td>\n",
       "      <td>731266.943347</td>\n",
       "      <td>44.145542</td>\n",
       "      <td>-105.359048</td>\n",
       "      <td>1369.21</td>\n",
       "      <td>1380.24</td>\n",
       "      <td>1.73</td>\n",
       "      <td>31</td>\n",
       "      <td>-11.03</td>\n",
       "      <td>3.027571</td>\n",
       "      <td>-3.643185</td>\n",
       "      <td>POINT (709744.472 275951.747)</td>\n",
       "    </tr>\n",
       "  </tbody>\n",
       "</table>\n",
       "</div>"
      ],
      "text/plain": [
       "       decyear        ordinal        lat         lon   glas_z    dem_z  \\\n",
       "0  2003.139571  731266.943345  44.157897 -105.356562  1398.51  1400.52   \n",
       "1  2003.139571  731266.943346  44.150175 -105.358116  1387.11  1384.64   \n",
       "2  2003.139571  731266.943347  44.148632 -105.358427  1392.83  1383.49   \n",
       "3  2003.139571  731266.943347  44.147087 -105.358738  1384.24  1382.85   \n",
       "4  2003.139571  731266.943347  44.145542 -105.359048  1369.21  1380.24   \n",
       "\n",
       "   dem_z_std  lulc  glas_srtm_dh  glas_srtm_dt  glas_srtm_dhdt  \\\n",
       "0       0.33    31         -2.01      3.027571       -0.663899   \n",
       "1       0.43    31          2.47      3.027571        0.815836   \n",
       "2       0.28    31          9.34      3.027571        3.084982   \n",
       "3       0.84    31          1.39      3.027571        0.459114   \n",
       "4       1.73    31        -11.03      3.027571       -3.643185   \n",
       "\n",
       "                        geometry  \n",
       "0  POINT (709799.202 277341.464)  \n",
       "1  POINT (709764.987 276472.876)  \n",
       "2  POINT (709758.108 276299.312)  \n",
       "3  POINT (709751.251 276125.525)  \n",
       "4  POINT (709744.472 275951.747)  "
      ]
     },
     "execution_count": 86,
     "metadata": {},
     "output_type": "execute_result"
    }
   ],
   "source": [
    "glas_gdf_aea.head()"
   ]
  },
  {
   "cell_type": "code",
   "execution_count": 87,
   "metadata": {},
   "outputs": [
    {
     "data": {
      "text/plain": [
       "array([-853172.2034737 , -772261.08660232,  881581.97159951,\n",
       "        808966.82113798])"
      ]
     },
     "execution_count": 87,
     "metadata": {},
     "output_type": "execute_result"
    }
   ],
   "source": [
    "bbox = glas_gdf_aea.total_bounds\n",
    "bbox"
   ]
  },
  {
   "cell_type": "markdown",
   "metadata": {},
   "source": [
    "## Create scatter plots for each of the three projections (WGS84, UTM, and custom AEA)"
   ]
  },
  {
   "cell_type": "code",
   "execution_count": 88,
   "metadata": {},
   "outputs": [
    {
     "data": {
      "application/vnd.jupyter.widget-view+json": {
       "model_id": "ec15652b80ea4af8a8324421eb734ffd",
       "version_major": 2,
       "version_minor": 0
      },
      "text/plain": [
       "Canvas(toolbar=Toolbar(toolitems=[('Home', 'Reset original view', 'home', 'home'), ('Back', 'Back to previous …"
      ]
     },
     "metadata": {},
     "output_type": "display_data"
    }
   ],
   "source": [
    "f, axa = plt.subplots(1,3, figsize=(10,2.5))\n",
    "glas_gdf.plot(ax=axa[0], column='glas_z', cmap='inferno', markersize=1, legend=True)\n",
    "axa[0].set_title('WGS84')\n",
    "axa[0].grid()\n",
    "glas_gdf_utm.plot(ax=axa[1], column='glas_z', cmap='inferno', markersize=1, legend=True)\n",
    "axa[1].set_title(utm_crs)\n",
    "axa[1].grid()\n",
    "glas_gdf_aea.plot(ax=axa[2], column='glas_z', cmap='inferno', markersize=1, legend=True)\n",
    "axa[2].set_title('Albers Equal-area')\n",
    "axa[2].grid()\n",
    "plt.tight_layout()"
   ]
  },
  {
   "cell_type": "markdown",
   "metadata": {},
   "source": [
    "## Umm, they kind of look the same.  Why are we wasting time on this?\n",
    "\n",
    "* Note the location of the origin for each coordinate system\n",
    "    * The (0,0) should be near the center of your points for the AEA projection\n",
    "    * Where's the origin for the UTM projection?\n",
    "* Note how azimuth and distances are distorted around edges of the plots"
   ]
  },
  {
   "cell_type": "markdown",
   "metadata": {},
   "source": [
    "# Part 5: Spatial Aggregation"
   ]
  },
  {
   "cell_type": "markdown",
   "metadata": {},
   "source": [
    "## Hexbin plots\n",
    "Hexbin plots are nice option to visualize the spatial distribution of binned point density or other metric (e.g., median elevation) on a regular grid.  Later in the week, we'll learn about other interpolation and gridding options.\n",
    "\n",
    "Hexagons are preferable over a standard square/rectangular grid: https://pro.arcgis.com/en/pro-app/tool-reference/spatial-statistics/h-whyhexagons.htm\n",
    "\n",
    "Also, see Sarah Battersby's publication on the topic (and appreciate one of the better journal article titles I've seen): https://doi.org/10.1080/15230406.2016.1180263\n",
    "\n",
    "Here are some resources on generating hexbins using Python and matplotlib:\n",
    "* https://matplotlib.org/api/_as_gen/matplotlib.pyplot.hexbin.html\n",
    "* http://darribas.org/gds15/content/labs/lab_09.html\n",
    "\n",
    "Note: an equal-area projection is also a good idea for a hexbin plot."
   ]
  },
  {
   "cell_type": "code",
   "execution_count": 89,
   "metadata": {},
   "outputs": [],
   "source": [
    "nbins = 40"
   ]
  },
  {
   "cell_type": "code",
   "execution_count": 90,
   "metadata": {},
   "outputs": [],
   "source": [
    "#To calculate number of bins dynamically with specified bin spacing in meters\n",
    "#bin_width = 27000 #meters\n",
    "#nbins_x = int(np.ceil(np.abs(bbox[2] - bbox[0])/bin_width))\n",
    "#nbins_y = int(np.ceil(np.abs(bbox[3] - bbox[1])/bin_width))\n",
    "#print(nbins_x, nbins_y)\n",
    "#nbins = nbins_x"
   ]
  },
  {
   "cell_type": "code",
   "execution_count": 91,
   "metadata": {},
   "outputs": [
    {
     "data": {
      "application/vnd.jupyter.widget-view+json": {
       "model_id": "e544b3e36cfe479783478e6f5282377f",
       "version_major": 2,
       "version_minor": 0
      },
      "text/plain": [
       "Canvas(toolbar=Toolbar(toolitems=[('Home', 'Reset original view', 'home', 'home'), ('Back', 'Back to previous …"
      ]
     },
     "metadata": {},
     "output_type": "display_data"
    }
   ],
   "source": [
    "f,ax = plt.subplots(figsize=(8,6))\n",
    "hb = ax.hexbin(glas_gdf_aea.geometry.x, glas_gdf_aea.geometry.y, gridsize=nbins, cmap='inferno', bins='log', alpha=0.6, mincnt=1)\n",
    "plt.colorbar(hb, label='Point Count')\n",
    "states_gdf.to_crs(proj_str_aea).plot(ax=ax, facecolor='none', edgecolor='black');\n",
    "#Limit plot extent to GLAS point bounds (note: ax.autoscale(False) doesn't work here)\n",
    "ax.set_xlim(bbox[[0,2]]);\n",
    "ax.set_ylim(bbox[[1,3]]);\n",
    "ax.set_title('GLAS Bin Point Count');"
   ]
  },
  {
   "cell_type": "code",
   "execution_count": 92,
   "metadata": {},
   "outputs": [
    {
     "data": {
      "application/vnd.jupyter.widget-view+json": {
       "model_id": "545c6fb208a8447588d4f1bfc0b6c1f8",
       "version_major": 2,
       "version_minor": 0
      },
      "text/plain": [
       "Canvas(toolbar=Toolbar(toolitems=[('Home', 'Reset original view', 'home', 'home'), ('Back', 'Back to previous …"
      ]
     },
     "metadata": {},
     "output_type": "display_data"
    }
   ],
   "source": [
    "f,ax = plt.subplots(figsize=(8,6))\n",
    "hb = ax.hexbin(glas_gdf_aea.geometry.x, glas_gdf_aea.geometry.y, C=glas_gdf_aea['glas_z'], \\\n",
    "               reduce_C_function=np.median, gridsize=nbins, cmap='inferno', alpha=0.6)\n",
    "plt.colorbar(hb, ax=ax, label='Elevation (m HAE)')\n",
    "states_gdf.to_crs(proj_str_aea).plot(ax=ax, facecolor='none', edgecolor='black');\n",
    "ax.set_xlim(bbox[[0,2]]);\n",
    "ax.set_ylim(bbox[[1,3]]);\n",
    "ax.set_title('GLAS Bin Median Elevation');"
   ]
  },
  {
   "cell_type": "code",
   "execution_count": 93,
   "metadata": {},
   "outputs": [
    {
     "data": {
      "application/vnd.jupyter.widget-view+json": {
       "model_id": "ece6caaa3c3444aa9f0b01923f46a491",
       "version_major": 2,
       "version_minor": 0
      },
      "text/plain": [
       "Canvas(toolbar=Toolbar(toolitems=[('Home', 'Reset original view', 'home', 'home'), ('Back', 'Back to previous …"
      ]
     },
     "metadata": {},
     "output_type": "display_data"
    }
   ],
   "source": [
    "f,ax = plt.subplots(figsize=(8,6))\n",
    "hb = ax.hexbin(glas_gdf_aea.geometry.x, glas_gdf_aea.geometry.y, C=glas_gdf_aea['glas_srtm_dhdt'], \\\n",
    "               reduce_C_function=np.median, gridsize=nbins, cmap='RdBu', alpha=0.6, vmin=-3, vmax=3)\n",
    "plt.colorbar(hb, ax=ax, label='Elevation Change (m/yr)')\n",
    "states_gdf.to_crs(proj_str_aea).plot(ax=ax, facecolor='none', edgecolor='black');\n",
    "ax.set_xlim(bbox[[0,2]]);\n",
    "ax.set_ylim(bbox[[1,3]]);\n",
    "ax.set_title('GLAS Bin Median Elevation');"
   ]
  },
  {
   "cell_type": "markdown",
   "metadata": {},
   "source": [
    "## Merge GLAS points with RGI polygons\n",
    "Let's see if we can answer the following question:\n",
    "\n",
    "*Can we identify CONUS glacier surface elevation change that occurred between SRTM (2000) and GLAS (2003-2009) data collection?*"
   ]
  },
  {
   "cell_type": "markdown",
   "metadata": {},
   "source": [
    "Earlier we computed some statistics for the full CONUS GLAS sample and hex bins.  Now let's analyze the GLAS points that intersect each RGI glacier polygon. \n",
    "\n",
    "One approach would be to loop through each glacier polygon, and do an intersection operation with all points.  But this is inefficient, and doesn't scale well.  It is much more efficient to do a spatial join between the points and the polygons, then groupby and aggregate to compute the relevant statistics for all points that intersect each glacier polygon.\n",
    "\n",
    "You may have learned how to perform a join or spatial join in a GIS course.  So, do we need to open ArcMap or QGIS here?  Do we need a full-fledged spatial database like PostGIS?  No!  GeoPandas has you covered.\n",
    "\n",
    "* Start by reviewing the Spatial Join documentation here: http://geopandas.org/mergingdata.html\n",
    "* Use the geopandas `sjoin` method: http://geopandas.org/reference/geopandas.sjoin.html"
   ]
  },
  {
   "cell_type": "markdown",
   "metadata": {},
   "source": [
    "## First, we need to make sure all inputs have the same projection\n",
    "* Reproject the RGI polygons to match our point CRS (custom Albers Equal-area)"
   ]
  },
  {
   "cell_type": "code",
   "execution_count": 94,
   "metadata": {},
   "outputs": [],
   "source": [
    "rgi_gdf_conus_aea = rgi_gdf_conus.to_crs(glas_gdf_aea.crs)\n",
    "states_gdf_aea = states_gdf.to_crs(glas_gdf_aea.crs)"
   ]
  },
  {
   "cell_type": "markdown",
   "metadata": {},
   "source": [
    "### Optional: isolate relevant columns to simplify our output"
   ]
  },
  {
   "cell_type": "code",
   "execution_count": 95,
   "metadata": {},
   "outputs": [
    {
     "data": {
      "text/plain": [
       "Index(['decyear', 'ordinal', 'lat', 'lon', 'glas_z', 'dem_z', 'dem_z_std',\n",
       "       'lulc', 'glas_srtm_dh', 'glas_srtm_dt', 'glas_srtm_dhdt', 'geometry'],\n",
       "      dtype='object')"
      ]
     },
     "execution_count": 95,
     "metadata": {},
     "output_type": "execute_result"
    }
   ],
   "source": [
    "glas_gdf_aea.columns"
   ]
  },
  {
   "cell_type": "code",
   "execution_count": 96,
   "metadata": {},
   "outputs": [
    {
     "data": {
      "text/plain": [
       "Index(['RGIId', 'GLIMSId', 'BgnDate', 'EndDate', 'CenLon', 'CenLat',\n",
       "       'O1Region', 'O2Region', 'Area', 'Zmin', 'Zmax', 'Zmed', 'Slope',\n",
       "       'Aspect', 'Lmax', 'Status', 'Connect', 'Form', 'TermType', 'Surging',\n",
       "       'Linkages', 'Name', 'geometry'],\n",
       "      dtype='object')"
      ]
     },
     "execution_count": 96,
     "metadata": {},
     "output_type": "execute_result"
    }
   ],
   "source": [
    "rgi_gdf_conus_aea.columns"
   ]
  },
  {
   "cell_type": "code",
   "execution_count": 97,
   "metadata": {},
   "outputs": [],
   "source": [
    "glas_col = ['glas_z', 'glas_srtm_dhdt', 'geometry']\n",
    "rgi_col = ['RGIId', 'Area', 'Name', 'geometry']\n",
    "\n",
    "glas_gdf_aea_lite = glas_gdf_aea[glas_col]\n",
    "rgi_gdf_conus_aea_lite = rgi_gdf_conus_aea[rgi_col]"
   ]
  },
  {
   "cell_type": "markdown",
   "metadata": {},
   "source": [
    "## Now try a spatial join between these two \n",
    "* Use the GLAS points as the \"left\" GeoDataFrame and the RGI polygons as the \"right\" GeoDataFrame\n",
    "* Start by using default options (`op='intersects', how='inner'`)\n",
    "* Note the output geometry type and columns"
   ]
  },
  {
   "cell_type": "code",
   "execution_count": 98,
   "metadata": {},
   "outputs": [
    {
     "data": {
      "text/html": [
       "<div>\n",
       "<style scoped>\n",
       "    .dataframe tbody tr th:only-of-type {\n",
       "        vertical-align: middle;\n",
       "    }\n",
       "\n",
       "    .dataframe tbody tr th {\n",
       "        vertical-align: top;\n",
       "    }\n",
       "\n",
       "    .dataframe thead th {\n",
       "        text-align: right;\n",
       "    }\n",
       "</style>\n",
       "<table border=\"1\" class=\"dataframe\">\n",
       "  <thead>\n",
       "    <tr style=\"text-align: right;\">\n",
       "      <th></th>\n",
       "      <th>glas_z</th>\n",
       "      <th>glas_srtm_dhdt</th>\n",
       "      <th>geometry</th>\n",
       "      <th>index_right</th>\n",
       "      <th>RGIId</th>\n",
       "      <th>Area</th>\n",
       "      <th>Name</th>\n",
       "    </tr>\n",
       "  </thead>\n",
       "  <tbody>\n",
       "    <tr>\n",
       "      <th>1032</th>\n",
       "      <td>1798.45</td>\n",
       "      <td>2.359970</td>\n",
       "      <td>POINT (-536290.697 765027.730)</td>\n",
       "      <td>17368</td>\n",
       "      <td>RGI60-02.17369</td>\n",
       "      <td>2.819</td>\n",
       "      <td>Noisy Creek Glacier</td>\n",
       "    </tr>\n",
       "    <tr>\n",
       "      <th>5393</th>\n",
       "      <td>1826.79</td>\n",
       "      <td>-1.452545</td>\n",
       "      <td>POINT (-535829.928 764700.764)</td>\n",
       "      <td>17368</td>\n",
       "      <td>RGI60-02.17369</td>\n",
       "      <td>2.819</td>\n",
       "      <td>Noisy Creek Glacier</td>\n",
       "    </tr>\n",
       "    <tr>\n",
       "      <th>5394</th>\n",
       "      <td>1795.05</td>\n",
       "      <td>-0.093358</td>\n",
       "      <td>POINT (-535841.258 764872.820)</td>\n",
       "      <td>17368</td>\n",
       "      <td>RGI60-02.17369</td>\n",
       "      <td>2.819</td>\n",
       "      <td>Noisy Creek Glacier</td>\n",
       "    </tr>\n",
       "    <tr>\n",
       "      <th>5395</th>\n",
       "      <td>1768.91</td>\n",
       "      <td>0.194954</td>\n",
       "      <td>POINT (-535852.818 765044.784)</td>\n",
       "      <td>17368</td>\n",
       "      <td>RGI60-02.17369</td>\n",
       "      <td>2.819</td>\n",
       "      <td>Noisy Creek Glacier</td>\n",
       "    </tr>\n",
       "    <tr>\n",
       "      <th>5396</th>\n",
       "      <td>1745.11</td>\n",
       "      <td>-0.118071</td>\n",
       "      <td>POINT (-535864.504 765216.980)</td>\n",
       "      <td>17368</td>\n",
       "      <td>RGI60-02.17369</td>\n",
       "      <td>2.819</td>\n",
       "      <td>Noisy Creek Glacier</td>\n",
       "    </tr>\n",
       "    <tr>\n",
       "      <th>...</th>\n",
       "      <td>...</td>\n",
       "      <td>...</td>\n",
       "      <td>...</td>\n",
       "      <td>...</td>\n",
       "      <td>...</td>\n",
       "      <td>...</td>\n",
       "      <td>...</td>\n",
       "    </tr>\n",
       "    <tr>\n",
       "      <th>61066</th>\n",
       "      <td>3549.78</td>\n",
       "      <td>-0.806986</td>\n",
       "      <td>POINT (-441710.217 -459198.891)</td>\n",
       "      <td>15427</td>\n",
       "      <td>RGI60-02.15428</td>\n",
       "      <td>0.107</td>\n",
       "      <td>CA</td>\n",
       "    </tr>\n",
       "    <tr>\n",
       "      <th>63678</th>\n",
       "      <td>3537.09</td>\n",
       "      <td>-0.484384</td>\n",
       "      <td>POINT (-441728.079 -459143.781)</td>\n",
       "      <td>15427</td>\n",
       "      <td>RGI60-02.15428</td>\n",
       "      <td>0.107</td>\n",
       "      <td>CA</td>\n",
       "    </tr>\n",
       "    <tr>\n",
       "      <th>61070</th>\n",
       "      <td>3506.14</td>\n",
       "      <td>0.040860</td>\n",
       "      <td>POINT (-441774.049 -458507.438)</td>\n",
       "      <td>15419</td>\n",
       "      <td>RGI60-02.15420</td>\n",
       "      <td>0.043</td>\n",
       "      <td>CA</td>\n",
       "    </tr>\n",
       "    <tr>\n",
       "      <th>61100</th>\n",
       "      <td>3297.62</td>\n",
       "      <td>-1.074846</td>\n",
       "      <td>POINT (-443844.517 -433539.374)</td>\n",
       "      <td>15640</td>\n",
       "      <td>RGI60-02.15641</td>\n",
       "      <td>0.056</td>\n",
       "      <td>CA</td>\n",
       "    </tr>\n",
       "    <tr>\n",
       "      <th>62842</th>\n",
       "      <td>3343.40</td>\n",
       "      <td>0.407374</td>\n",
       "      <td>POINT (354923.447 228360.767)</td>\n",
       "      <td>16191</td>\n",
       "      <td>RGI60-02.16192</td>\n",
       "      <td>0.022</td>\n",
       "      <td>WY</td>\n",
       "    </tr>\n",
       "  </tbody>\n",
       "</table>\n",
       "<p>822 rows × 7 columns</p>\n",
       "</div>"
      ],
      "text/plain": [
       "        glas_z  glas_srtm_dhdt                         geometry  index_right  \\\n",
       "1032   1798.45        2.359970   POINT (-536290.697 765027.730)        17368   \n",
       "5393   1826.79       -1.452545   POINT (-535829.928 764700.764)        17368   \n",
       "5394   1795.05       -0.093358   POINT (-535841.258 764872.820)        17368   \n",
       "5395   1768.91        0.194954   POINT (-535852.818 765044.784)        17368   \n",
       "5396   1745.11       -0.118071   POINT (-535864.504 765216.980)        17368   \n",
       "...        ...             ...                              ...          ...   \n",
       "61066  3549.78       -0.806986  POINT (-441710.217 -459198.891)        15427   \n",
       "63678  3537.09       -0.484384  POINT (-441728.079 -459143.781)        15427   \n",
       "61070  3506.14        0.040860  POINT (-441774.049 -458507.438)        15419   \n",
       "61100  3297.62       -1.074846  POINT (-443844.517 -433539.374)        15640   \n",
       "62842  3343.40        0.407374    POINT (354923.447 228360.767)        16191   \n",
       "\n",
       "                RGIId   Area                 Name  \n",
       "1032   RGI60-02.17369  2.819  Noisy Creek Glacier  \n",
       "5393   RGI60-02.17369  2.819  Noisy Creek Glacier  \n",
       "5394   RGI60-02.17369  2.819  Noisy Creek Glacier  \n",
       "5395   RGI60-02.17369  2.819  Noisy Creek Glacier  \n",
       "5396   RGI60-02.17369  2.819  Noisy Creek Glacier  \n",
       "...               ...    ...                  ...  \n",
       "61066  RGI60-02.15428  0.107                   CA  \n",
       "63678  RGI60-02.15428  0.107                   CA  \n",
       "61070  RGI60-02.15420  0.043                   CA  \n",
       "61100  RGI60-02.15641  0.056                   CA  \n",
       "62842  RGI60-02.16192  0.022                   WY  \n",
       "\n",
       "[822 rows x 7 columns]"
      ]
     },
     "execution_count": 98,
     "metadata": {},
     "output_type": "execute_result"
    }
   ],
   "source": [
    "glas_gdf_aea_rgi = gpd.sjoin(glas_gdf_aea_lite, rgi_gdf_conus_aea_lite)\n",
    "glas_gdf_aea_rgi"
   ]
  },
  {
   "cell_type": "markdown",
   "metadata": {},
   "source": [
    "## Check number of records"
   ]
  },
  {
   "cell_type": "code",
   "execution_count": 99,
   "metadata": {},
   "outputs": [
    {
     "name": "stdout",
     "output_type": "stream",
     "text": [
      "Number of RGI polygons before: 5149\n",
      "Number of GLAS points before: 65236\n",
      "Number of GLAS points that intersect RGI polygons: 822\n"
     ]
    }
   ],
   "source": [
    "print(\"Number of RGI polygons before:\", rgi_gdf_conus_aea.shape[0])\n",
    "print(\"Number of GLAS points before:\", glas_gdf_aea.shape[0])\n",
    "print(\"Number of GLAS points that intersect RGI polygons:\", glas_gdf_aea_rgi.shape[0])"
   ]
  },
  {
   "cell_type": "markdown",
   "metadata": {},
   "source": [
    "## Check number of GLAS points per RGI polygon"
   ]
  },
  {
   "cell_type": "code",
   "execution_count": 100,
   "metadata": {},
   "outputs": [
    {
     "data": {
      "text/plain": [
       "RGI60-02.14588    49\n",
       "RGI60-02.13805    45\n",
       "RGI60-02.17727    43\n",
       "RGI60-02.14005    33\n",
       "RGI60-02.14103    30\n",
       "                  ..\n",
       "RGI60-02.13780     1\n",
       "RGI60-02.17035     1\n",
       "RGI60-02.14050     1\n",
       "RGI60-02.15491     1\n",
       "RGI60-02.15833     1\n",
       "Name: RGIId, Length: 185, dtype: int64"
      ]
     },
     "execution_count": 100,
     "metadata": {},
     "output_type": "execute_result"
    }
   ],
   "source": [
    "glas_gdf_aea_rgi['RGIId'].value_counts()"
   ]
  },
  {
   "cell_type": "markdown",
   "metadata": {},
   "source": [
    "## Which glacier has the greatest number of points?\n",
    "\n",
    "Some notes on indexing and selecting from Pandas DataFrame: http://pandas.pydata.org/pandas-docs/stable/user_guide/indexing.html\n",
    "\n",
    "https://www.shanelynn.ie/select-pandas-dataframe-rows-and-columns-using-iloc-loc-and-ix/\n",
    "\n",
    "Here we'll use the `loc` function to pull out the record for the RGIId key with the highest point count."
   ]
  },
  {
   "cell_type": "code",
   "execution_count": 101,
   "metadata": {},
   "outputs": [
    {
     "name": "stdout",
     "output_type": "stream",
     "text": [
      "RGI60-02.14588\n"
     ]
    }
   ],
   "source": [
    "label = glas_gdf_aea_rgi['RGIId'].value_counts().index[0]\n",
    "print(label)"
   ]
  },
  {
   "cell_type": "code",
   "execution_count": 102,
   "metadata": {},
   "outputs": [
    {
     "data": {
      "text/plain": [
       "RGIId                                          RGI60-02.14588\n",
       "GLIMSId                                        G237815E46186N\n",
       "BgnDate                                              19809999\n",
       "EndDate                                              -9999999\n",
       "CenLon                                               -122.185\n",
       "CenLat                                                46.1858\n",
       "O1Region                                                    2\n",
       "O2Region                                                    4\n",
       "Area                                                    0.327\n",
       "Zmin                                                     1990\n",
       "Zmax                                                     2484\n",
       "Zmed                                                     2261\n",
       "Slope                                                    25.9\n",
       "Aspect                                                    157\n",
       "Lmax                                                     1088\n",
       "Status                                                      0\n",
       "Connect                                                     0\n",
       "Form                                                        0\n",
       "TermType                                                    0\n",
       "Surging                                                     0\n",
       "Linkages                                                    9\n",
       "Name                                         Swift Glacier WA\n",
       "geometry    POLYGON ((-609637.2321523846 494657.9701951775...\n",
       "Name: 14587, dtype: object"
      ]
     },
     "execution_count": 102,
     "metadata": {},
     "output_type": "execute_result"
    }
   ],
   "source": [
    "rgi_maxcount = rgi_gdf_conus_aea[rgi_gdf_conus_aea['RGIId'] == label].iloc[0]\n",
    "rgi_maxcount"
   ]
  },
  {
   "cell_type": "code",
   "execution_count": 103,
   "metadata": {},
   "outputs": [
    {
     "data": {
      "image/svg+xml": [
       "<svg xmlns=\"http://www.w3.org/2000/svg\" xmlns:xlink=\"http://www.w3.org/1999/xlink\" width=\"300\" height=\"300\" viewBox=\"-610080.2866292003 493772.3315497151 582.536549336277 1134.4040567764896\" preserveAspectRatio=\"xMinYMin meet\"><g transform=\"matrix(1,0,0,-1,0,988679.0671562066)\"><path fill-rule=\"evenodd\" fill=\"#66cc99\" stroke=\"#555555\" stroke-width=\"7.562693711843264\" opacity=\"0.6\" d=\"M -609637.2321523846,494657.9701951775 L -609635.4418541203,494651.27831593604 L -609632.2846097893,494633.5135555587 L -609623.3137617885,494553.0593087468 L -609619.2896060338,494523.7328733816 L -609617.8069405869,494511.7966208398 L -609610.5567657789,494476.1608921352 L -609604.1620929941,494426.6262169574 L -609603.1571417702,494380.52073268127 L -609599.6034702994,494331.27804948215 L -609598.5984535532,494285.1723004035 L -609599.0549556952,494224.8411474052 L -609594.916756672,494181.28852723056 L -609595.5834873653,494146.85528760165 L -609593.9939733127,494106.4397056389 L -609577.3224793433,494073.0997415014 L -609564.3690511384,494031.5164204288 L -609557.4492590473,494021.74048726406 L -609554.812131957,494015.97981547564 L -609545.6127390899,493969.5905112046 L -609542.831980888,493940.0436225275 L -609539.7650449298,493918.714484461 L -609541.0136719594,493896.80084406125 L -609545.297591624,493875.078031557 L -609551.1239189791,493857.4632480772 L -609556.0646539077,493848.0108683348 L -609559.8979880755,493841.2377951505 L -609570.9937733217,493831.3371901292 L -609582.8622632539,493823.30638235284 L -609593.2683890533,493818.5255678719 L -609601.6640756462,493816.38512546994 L -609611.8866926918,493814.3465147809 L -609629.646074074,493818.04193475825 L -609639.1293928301,493822.0790235783 L -609670.9742606829,493846.68025269714 L -609709.7913644724,493867.7700994492 L -609721.1107644571,493875.9201820045 L -609736.26103732,493886.46847821167 L -609752.5336568017,493902.31490975636 L -609764.4108119964,493915.6665526315 L -609772.1153830668,493927.54902791436 L -609780.3987422332,493944.322148933 L -609787.6742305191,493962.275549554 L -609798.2420188143,494015.632243454 L -609804.9998099097,494036.58751906833 L -609815.3091422479,494063.6350747761 L -609825.5289201863,494083.0111719453 L -609838.5803972696,494101.34192423755 L -609853.0549262045,494116.76568265277 L -609883.4896582583,494144.2762956671 L -609908.8671631655,494160.7745068198 L -609914.293034773,494166.3697881034 L -609917.8577509669,494171.8153115733 L -609922.4022550571,494185.2717446407 L -609926.0248219249,494198.97800019773 L -609935.5800897253,494262.3510245528 L -609940.4240795298,494275.8350339261 L -609943.3441836758,494286.15869849833 L -609948.7772642791,494299.97643183166 L -609955.5048656109,494312.6961690672 L -609986.8215456153,494362.00506479875 L -609998.3664544813,494384.55362965044 L -610007.2675009813,494405.36093313695 L -610026.7284976953,494479.82622477977 L -610034.3096422419,494514.910874709 L -610038.2716641346,494536.59114847175 L -610037.0180676926,494558.53788170265 L -610032.965411679,494605.0706129237 L -610032.0747204478,494648.85966034915 L -610027.6902972286,494691.5361770987 L -610015.0750998429,494730.4916649759 L -610005.8855698189,494764.04894902284 L -609999.5370395012,494797.89820743207 L -609992.896131148,494834.5924838561 L -609988.301406516,494851.37106114934 L -609978.316907337,494864.72064142575 L -609956.1735019726,494856.6949181874 L -609922.6661008263,494847.5012373884 L -609880.3433540139,494840.27685150795 L -609831.461762464,494841.00380883476 L -609791.6878059573,494836.9163954701 L -609757.0111881812,494839.1031588466 L -609728.3088435491,494839.02856904344 L -609710.7603651002,494814.2241322916 L -609689.2836022922,494771.76514483005 L -609672.3197165794,494741.27052453964 L -609657.904510046,494713.9129351803 L -609646.0380394518,494689.6923626804 L -609642.4022339828,494669.1927630663 L -609637.2321523846,494657.9701951775 z\" /></g></svg>"
      ],
      "text/plain": [
       "<shapely.geometry.polygon.Polygon at 0x7fe8534802d0>"
      ]
     },
     "execution_count": 103,
     "metadata": {},
     "output_type": "execute_result"
    }
   ],
   "source": [
    "rgi_maxcount.geometry"
   ]
  },
  {
   "cell_type": "markdown",
   "metadata": {},
   "source": [
    "## ipyleaflet plot\n",
    "\n",
    "OK, great, but where is this glacier?  Let's plot on an interactive ipyleaflet map.\n",
    "\n",
    "Note that leaflet uses tiled basemaps: https://en.wikipedia.org/wiki/Tiled_web_map \n",
    "\n",
    "Default projection is Web Mercator (EPSG:3857): https://en.wikipedia.org/wiki/Web_Mercator_projection.  This works well for lower latitudes, but not the polar regions.\n",
    "\n",
    "FYI, `folium` provides similar functionality outside of the iPython/Jupyter stack: https://python-visualization.github.io/folium/"
   ]
  },
  {
   "cell_type": "code",
   "execution_count": 104,
   "metadata": {},
   "outputs": [],
   "source": [
    "from ipyleaflet import Map, Marker, basemaps"
   ]
  },
  {
   "cell_type": "code",
   "execution_count": 105,
   "metadata": {},
   "outputs": [
    {
     "data": {
      "text/plain": [
       "dict_keys(['OpenStreetMap', 'OpenTopoMap', 'Hydda', 'Esri', 'HikeBike', 'MtbMap', 'CartoDB', 'NASAGIBS', 'Strava', 'Stamen'])"
      ]
     },
     "execution_count": 105,
     "metadata": {},
     "output_type": "execute_result"
    }
   ],
   "source": [
    "#Look at all of the basemap options!\n",
    "basemaps.keys()"
   ]
  },
  {
   "cell_type": "code",
   "execution_count": 106,
   "metadata": {},
   "outputs": [
    {
     "data": {
      "application/vnd.jupyter.widget-view+json": {
       "model_id": "84ba4dc468e54bec9123543ad59fa3e2",
       "version_major": 2,
       "version_minor": 0
      },
      "text/plain": [
       "Map(center=[46.18581, -122.18532], controls=(ZoomControl(options=['position', 'zoom_in_text', 'zoom_in_title',…"
      ]
     },
     "metadata": {},
     "output_type": "display_data"
    }
   ],
   "source": [
    "center = (rgi_maxcount['CenLat'], rgi_maxcount['CenLon'])\n",
    "basemap = basemaps.Stamen.Terrain\n",
    "m = Map(center=center, zoom=12, basemap=basemap)\n",
    "#label=rgi_gdf_conus_aea.loc[label]['Name']\n",
    "marker = Marker(location=center, draggable=True)\n",
    "m.add_layer(marker);\n",
    "display(m)"
   ]
  },
  {
   "cell_type": "markdown",
   "metadata": {},
   "source": [
    "## Plot points and RGI polygons, Zoom in on WA state"
   ]
  },
  {
   "cell_type": "code",
   "execution_count": 107,
   "metadata": {},
   "outputs": [],
   "source": [
    "wa_state = states_gdf_aea.loc[states_gdf_aea['NAME'] == 'Washington']\n",
    "#wa_geom = wa_state.iloc[0].geometry"
   ]
  },
  {
   "cell_type": "code",
   "execution_count": 108,
   "metadata": {},
   "outputs": [],
   "source": [
    "wa_bbox = wa_state.total_bounds"
   ]
  },
  {
   "cell_type": "code",
   "execution_count": 109,
   "metadata": {},
   "outputs": [
    {
     "data": {
      "application/vnd.jupyter.widget-view+json": {
       "model_id": "4dcada0fecae46bab7fcdd0692f12b7a",
       "version_major": 2,
       "version_minor": 0
      },
      "text/plain": [
       "Canvas(toolbar=Toolbar(toolitems=[('Home', 'Reset original view', 'home', 'home'), ('Back', 'Back to previous …"
      ]
     },
     "metadata": {},
     "output_type": "display_data"
    }
   ],
   "source": [
    "clim = (-3.0, 3.0)\n",
    "ax=states_gdf_aea.plot(facecolor='none', edgecolor='black', linewidth=0.5);\n",
    "rgi_gdf_conus_aea.plot(ax=ax, edgecolor='k', lw=0.5, alpha=0.1);\n",
    "glas_gdf_aea.plot(ax=ax, column='glas_srtm_dhdt', cmap='RdBu', markersize=1, legend=True, vmin=clim[0], vmax=clim[1])\n",
    "ax.set_xlim(wa_bbox[[0,2]]);\n",
    "ax.set_ylim(wa_bbox[[1,3]]);"
   ]
  },
  {
   "cell_type": "markdown",
   "metadata": {},
   "source": [
    "## Groupby and Aggregate\n",
    "\n",
    "OK, so we know that our sampling isn't great and our dh/dt values are noisy.  But we're here to learn some core concepts and tools, so let's compute some statistics for each glacier anyway.  Hopefully you'll see the value of these operations, and be able to reproduce in the future.\n",
    "\n",
    "We can use the Pandas Groupby functionality to group GLAS points for each RGI polygon, and then aggregate using different functions (e.g., mean, std) for different attributes (e.g., 'glas_z', 'glas_srtm_dhdt').\n",
    "\n",
    "This concept can feel a bit abstract at first, but it is very powerful.  \n",
    "\n",
    "https://pandas.pydata.org/pandas-docs/stable/user_guide/groupby.html"
   ]
  },
  {
   "cell_type": "code",
   "execution_count": 110,
   "metadata": {},
   "outputs": [
    {
     "data": {
      "text/html": [
       "<div>\n",
       "<style scoped>\n",
       "    .dataframe tbody tr th:only-of-type {\n",
       "        vertical-align: middle;\n",
       "    }\n",
       "\n",
       "    .dataframe tbody tr th {\n",
       "        vertical-align: top;\n",
       "    }\n",
       "\n",
       "    .dataframe thead th {\n",
       "        text-align: right;\n",
       "    }\n",
       "</style>\n",
       "<table border=\"1\" class=\"dataframe\">\n",
       "  <thead>\n",
       "    <tr style=\"text-align: right;\">\n",
       "      <th></th>\n",
       "      <th>glas_z</th>\n",
       "      <th>glas_srtm_dhdt</th>\n",
       "      <th>geometry</th>\n",
       "      <th>index_right</th>\n",
       "      <th>RGIId</th>\n",
       "      <th>Area</th>\n",
       "      <th>Name</th>\n",
       "    </tr>\n",
       "  </thead>\n",
       "  <tbody>\n",
       "    <tr>\n",
       "      <th>1032</th>\n",
       "      <td>1798.45</td>\n",
       "      <td>2.359970</td>\n",
       "      <td>POINT (-536290.697 765027.730)</td>\n",
       "      <td>17368</td>\n",
       "      <td>RGI60-02.17369</td>\n",
       "      <td>2.819</td>\n",
       "      <td>Noisy Creek Glacier</td>\n",
       "    </tr>\n",
       "    <tr>\n",
       "      <th>5393</th>\n",
       "      <td>1826.79</td>\n",
       "      <td>-1.452545</td>\n",
       "      <td>POINT (-535829.928 764700.764)</td>\n",
       "      <td>17368</td>\n",
       "      <td>RGI60-02.17369</td>\n",
       "      <td>2.819</td>\n",
       "      <td>Noisy Creek Glacier</td>\n",
       "    </tr>\n",
       "    <tr>\n",
       "      <th>5394</th>\n",
       "      <td>1795.05</td>\n",
       "      <td>-0.093358</td>\n",
       "      <td>POINT (-535841.258 764872.820)</td>\n",
       "      <td>17368</td>\n",
       "      <td>RGI60-02.17369</td>\n",
       "      <td>2.819</td>\n",
       "      <td>Noisy Creek Glacier</td>\n",
       "    </tr>\n",
       "    <tr>\n",
       "      <th>5395</th>\n",
       "      <td>1768.91</td>\n",
       "      <td>0.194954</td>\n",
       "      <td>POINT (-535852.818 765044.784)</td>\n",
       "      <td>17368</td>\n",
       "      <td>RGI60-02.17369</td>\n",
       "      <td>2.819</td>\n",
       "      <td>Noisy Creek Glacier</td>\n",
       "    </tr>\n",
       "    <tr>\n",
       "      <th>5396</th>\n",
       "      <td>1745.11</td>\n",
       "      <td>-0.118071</td>\n",
       "      <td>POINT (-535864.504 765216.980)</td>\n",
       "      <td>17368</td>\n",
       "      <td>RGI60-02.17369</td>\n",
       "      <td>2.819</td>\n",
       "      <td>Noisy Creek Glacier</td>\n",
       "    </tr>\n",
       "  </tbody>\n",
       "</table>\n",
       "</div>"
      ],
      "text/plain": [
       "       glas_z  glas_srtm_dhdt                        geometry  index_right  \\\n",
       "1032  1798.45        2.359970  POINT (-536290.697 765027.730)        17368   \n",
       "5393  1826.79       -1.452545  POINT (-535829.928 764700.764)        17368   \n",
       "5394  1795.05       -0.093358  POINT (-535841.258 764872.820)        17368   \n",
       "5395  1768.91        0.194954  POINT (-535852.818 765044.784)        17368   \n",
       "5396  1745.11       -0.118071  POINT (-535864.504 765216.980)        17368   \n",
       "\n",
       "               RGIId   Area                 Name  \n",
       "1032  RGI60-02.17369  2.819  Noisy Creek Glacier  \n",
       "5393  RGI60-02.17369  2.819  Noisy Creek Glacier  \n",
       "5394  RGI60-02.17369  2.819  Noisy Creek Glacier  \n",
       "5395  RGI60-02.17369  2.819  Noisy Creek Glacier  \n",
       "5396  RGI60-02.17369  2.819  Noisy Creek Glacier  "
      ]
     },
     "execution_count": 110,
     "metadata": {},
     "output_type": "execute_result"
    }
   ],
   "source": [
    "glas_gdf_aea_rgi.head()"
   ]
  },
  {
   "cell_type": "code",
   "execution_count": 111,
   "metadata": {},
   "outputs": [
    {
     "data": {
      "text/plain": [
       "<pandas.core.groupby.generic.DataFrameGroupBy object at 0x7fe852e44290>"
      ]
     },
     "execution_count": 111,
     "metadata": {},
     "output_type": "execute_result"
    }
   ],
   "source": [
    "glas_gdf_aea_rgi.groupby('RGIId')"
   ]
  },
  {
   "cell_type": "markdown",
   "metadata": {},
   "source": [
    "Hmmm.  Nothing happened.  Ah, we need a function to perform the aggregation over the grouped data!  How about taking the mean?"
   ]
  },
  {
   "cell_type": "code",
   "execution_count": 112,
   "metadata": {},
   "outputs": [
    {
     "data": {
      "text/html": [
       "<div>\n",
       "<style scoped>\n",
       "    .dataframe tbody tr th:only-of-type {\n",
       "        vertical-align: middle;\n",
       "    }\n",
       "\n",
       "    .dataframe tbody tr th {\n",
       "        vertical-align: top;\n",
       "    }\n",
       "\n",
       "    .dataframe thead th {\n",
       "        text-align: right;\n",
       "    }\n",
       "</style>\n",
       "<table border=\"1\" class=\"dataframe\">\n",
       "  <thead>\n",
       "    <tr style=\"text-align: right;\">\n",
       "      <th></th>\n",
       "      <th>glas_z</th>\n",
       "      <th>glas_srtm_dhdt</th>\n",
       "      <th>index_right</th>\n",
       "      <th>Area</th>\n",
       "    </tr>\n",
       "    <tr>\n",
       "      <th>RGIId</th>\n",
       "      <th></th>\n",
       "      <th></th>\n",
       "      <th></th>\n",
       "      <th></th>\n",
       "    </tr>\n",
       "  </thead>\n",
       "  <tbody>\n",
       "    <tr>\n",
       "      <th>RGI60-02.13741</th>\n",
       "      <td>2367.762500</td>\n",
       "      <td>0.313717</td>\n",
       "      <td>13740</td>\n",
       "      <td>0.808</td>\n",
       "    </tr>\n",
       "    <tr>\n",
       "      <th>RGI60-02.13756</th>\n",
       "      <td>2334.240000</td>\n",
       "      <td>0.780945</td>\n",
       "      <td>13755</td>\n",
       "      <td>0.074</td>\n",
       "    </tr>\n",
       "    <tr>\n",
       "      <th>RGI60-02.13761</th>\n",
       "      <td>2577.600000</td>\n",
       "      <td>1.482302</td>\n",
       "      <td>13760</td>\n",
       "      <td>0.104</td>\n",
       "    </tr>\n",
       "    <tr>\n",
       "      <th>RGI60-02.13769</th>\n",
       "      <td>2710.566667</td>\n",
       "      <td>-0.500506</td>\n",
       "      <td>13768</td>\n",
       "      <td>0.051</td>\n",
       "    </tr>\n",
       "    <tr>\n",
       "      <th>RGI60-02.13770</th>\n",
       "      <td>2453.932500</td>\n",
       "      <td>0.282499</td>\n",
       "      <td>13769</td>\n",
       "      <td>0.144</td>\n",
       "    </tr>\n",
       "  </tbody>\n",
       "</table>\n",
       "</div>"
      ],
      "text/plain": [
       "                     glas_z  glas_srtm_dhdt  index_right   Area\n",
       "RGIId                                                          \n",
       "RGI60-02.13741  2367.762500        0.313717        13740  0.808\n",
       "RGI60-02.13756  2334.240000        0.780945        13755  0.074\n",
       "RGI60-02.13761  2577.600000        1.482302        13760  0.104\n",
       "RGI60-02.13769  2710.566667       -0.500506        13768  0.051\n",
       "RGI60-02.13770  2453.932500        0.282499        13769  0.144"
      ]
     },
     "execution_count": 112,
     "metadata": {},
     "output_type": "execute_result"
    }
   ],
   "source": [
    "glas_gdf_aea_rgi.groupby('RGIId').mean().head()"
   ]
  },
  {
   "cell_type": "markdown",
   "metadata": {},
   "source": [
    "## Define a more sophisticated aggregation function\n",
    "\n",
    "A dictionary of fields and functions can be used to compute a set of summary statistics for relevant columns"
   ]
  },
  {
   "cell_type": "code",
   "execution_count": 113,
   "metadata": {},
   "outputs": [],
   "source": [
    "agg_func = {'Name':'first',\n",
    "            'Area':'first', \n",
    "            'glas_z':['mean', 'median', 'std', nmad],\n",
    "            'glas_srtm_dhdt':['count','mean', 'median', 'std', nmad]}"
   ]
  },
  {
   "cell_type": "code",
   "execution_count": 114,
   "metadata": {},
   "outputs": [],
   "source": [
    "glas_gdf_aea_rgi_agg = glas_gdf_aea_rgi.groupby('RGIId').agg(agg_func)"
   ]
  },
  {
   "cell_type": "code",
   "execution_count": 115,
   "metadata": {},
   "outputs": [
    {
     "data": {
      "text/html": [
       "<div>\n",
       "<style scoped>\n",
       "    .dataframe tbody tr th:only-of-type {\n",
       "        vertical-align: middle;\n",
       "    }\n",
       "\n",
       "    .dataframe tbody tr th {\n",
       "        vertical-align: top;\n",
       "    }\n",
       "\n",
       "    .dataframe thead tr th {\n",
       "        text-align: left;\n",
       "    }\n",
       "\n",
       "    .dataframe thead tr:last-of-type th {\n",
       "        text-align: right;\n",
       "    }\n",
       "</style>\n",
       "<table border=\"1\" class=\"dataframe\">\n",
       "  <thead>\n",
       "    <tr>\n",
       "      <th></th>\n",
       "      <th>Name</th>\n",
       "      <th>Area</th>\n",
       "      <th colspan=\"4\" halign=\"left\">glas_z</th>\n",
       "      <th colspan=\"5\" halign=\"left\">glas_srtm_dhdt</th>\n",
       "    </tr>\n",
       "    <tr>\n",
       "      <th></th>\n",
       "      <th>first</th>\n",
       "      <th>first</th>\n",
       "      <th>mean</th>\n",
       "      <th>median</th>\n",
       "      <th>std</th>\n",
       "      <th>nmad</th>\n",
       "      <th>count</th>\n",
       "      <th>mean</th>\n",
       "      <th>median</th>\n",
       "      <th>std</th>\n",
       "      <th>nmad</th>\n",
       "    </tr>\n",
       "    <tr>\n",
       "      <th>RGIId</th>\n",
       "      <th></th>\n",
       "      <th></th>\n",
       "      <th></th>\n",
       "      <th></th>\n",
       "      <th></th>\n",
       "      <th></th>\n",
       "      <th></th>\n",
       "      <th></th>\n",
       "      <th></th>\n",
       "      <th></th>\n",
       "      <th></th>\n",
       "    </tr>\n",
       "  </thead>\n",
       "  <tbody>\n",
       "    <tr>\n",
       "      <th>RGI60-02.13741</th>\n",
       "      <td>Hayden Glacier OR</td>\n",
       "      <td>0.808</td>\n",
       "      <td>2367.762500</td>\n",
       "      <td>2351.530</td>\n",
       "      <td>44.709595</td>\n",
       "      <td>42.698880</td>\n",
       "      <td>12</td>\n",
       "      <td>0.313717</td>\n",
       "      <td>0.521908</td>\n",
       "      <td>0.712847</td>\n",
       "      <td>0.581288</td>\n",
       "    </tr>\n",
       "    <tr>\n",
       "      <th>RGI60-02.13756</th>\n",
       "      <td>OR</td>\n",
       "      <td>0.074</td>\n",
       "      <td>2334.240000</td>\n",
       "      <td>2309.530</td>\n",
       "      <td>40.594923</td>\n",
       "      <td>12.201798</td>\n",
       "      <td>7</td>\n",
       "      <td>0.780945</td>\n",
       "      <td>0.488872</td>\n",
       "      <td>1.156264</td>\n",
       "      <td>0.711884</td>\n",
       "    </tr>\n",
       "    <tr>\n",
       "      <th>RGI60-02.13761</th>\n",
       "      <td>Thayer Glacier OR</td>\n",
       "      <td>0.104</td>\n",
       "      <td>2577.600000</td>\n",
       "      <td>2577.600</td>\n",
       "      <td>NaN</td>\n",
       "      <td>0.000000</td>\n",
       "      <td>1</td>\n",
       "      <td>1.482302</td>\n",
       "      <td>1.482302</td>\n",
       "      <td>NaN</td>\n",
       "      <td>0.000000</td>\n",
       "    </tr>\n",
       "    <tr>\n",
       "      <th>RGI60-02.13769</th>\n",
       "      <td>Villard Glacier OR</td>\n",
       "      <td>0.051</td>\n",
       "      <td>2710.566667</td>\n",
       "      <td>2689.840</td>\n",
       "      <td>54.160927</td>\n",
       "      <td>29.666826</td>\n",
       "      <td>3</td>\n",
       "      <td>-0.500506</td>\n",
       "      <td>-0.549968</td>\n",
       "      <td>0.293306</td>\n",
       "      <td>0.320194</td>\n",
       "    </tr>\n",
       "    <tr>\n",
       "      <th>RGI60-02.13770</th>\n",
       "      <td>Linn Glacier OR</td>\n",
       "      <td>0.144</td>\n",
       "      <td>2453.932500</td>\n",
       "      <td>2394.325</td>\n",
       "      <td>172.569776</td>\n",
       "      <td>78.310932</td>\n",
       "      <td>4</td>\n",
       "      <td>0.282499</td>\n",
       "      <td>0.585407</td>\n",
       "      <td>0.806818</td>\n",
       "      <td>0.339207</td>\n",
       "    </tr>\n",
       "  </tbody>\n",
       "</table>\n",
       "</div>"
      ],
      "text/plain": [
       "                              Name   Area       glas_z                        \\\n",
       "                             first  first         mean    median         std   \n",
       "RGIId                                                                          \n",
       "RGI60-02.13741   Hayden Glacier OR  0.808  2367.762500  2351.530   44.709595   \n",
       "RGI60-02.13756                  OR  0.074  2334.240000  2309.530   40.594923   \n",
       "RGI60-02.13761   Thayer Glacier OR  0.104  2577.600000  2577.600         NaN   \n",
       "RGI60-02.13769  Villard Glacier OR  0.051  2710.566667  2689.840   54.160927   \n",
       "RGI60-02.13770     Linn Glacier OR  0.144  2453.932500  2394.325  172.569776   \n",
       "\n",
       "                          glas_srtm_dhdt                                \\\n",
       "                     nmad          count      mean    median       std   \n",
       "RGIId                                                                    \n",
       "RGI60-02.13741  42.698880             12  0.313717  0.521908  0.712847   \n",
       "RGI60-02.13756  12.201798              7  0.780945  0.488872  1.156264   \n",
       "RGI60-02.13761   0.000000              1  1.482302  1.482302       NaN   \n",
       "RGI60-02.13769  29.666826              3 -0.500506 -0.549968  0.293306   \n",
       "RGI60-02.13770  78.310932              4  0.282499  0.585407  0.806818   \n",
       "\n",
       "                          \n",
       "                    nmad  \n",
       "RGIId                     \n",
       "RGI60-02.13741  0.581288  \n",
       "RGI60-02.13756  0.711884  \n",
       "RGI60-02.13761  0.000000  \n",
       "RGI60-02.13769  0.320194  \n",
       "RGI60-02.13770  0.339207  "
      ]
     },
     "execution_count": 115,
     "metadata": {},
     "output_type": "execute_result"
    }
   ],
   "source": [
    "glas_gdf_aea_rgi_agg.head()"
   ]
  },
  {
   "cell_type": "code",
   "execution_count": 116,
   "metadata": {},
   "outputs": [],
   "source": [
    "# We don't need the multi-index here\n",
    "glas_gdf_aea_rgi_agg.columns = ['_'.join(col).rstrip('_') for col in glas_gdf_aea_rgi_agg.columns.values]"
   ]
  },
  {
   "cell_type": "code",
   "execution_count": 117,
   "metadata": {},
   "outputs": [
    {
     "data": {
      "text/html": [
       "<div>\n",
       "<style scoped>\n",
       "    .dataframe tbody tr th:only-of-type {\n",
       "        vertical-align: middle;\n",
       "    }\n",
       "\n",
       "    .dataframe tbody tr th {\n",
       "        vertical-align: top;\n",
       "    }\n",
       "\n",
       "    .dataframe thead th {\n",
       "        text-align: right;\n",
       "    }\n",
       "</style>\n",
       "<table border=\"1\" class=\"dataframe\">\n",
       "  <thead>\n",
       "    <tr style=\"text-align: right;\">\n",
       "      <th></th>\n",
       "      <th>Name_first</th>\n",
       "      <th>Area_first</th>\n",
       "      <th>glas_z_mean</th>\n",
       "      <th>glas_z_median</th>\n",
       "      <th>glas_z_std</th>\n",
       "      <th>glas_z_nmad</th>\n",
       "      <th>glas_srtm_dhdt_count</th>\n",
       "      <th>glas_srtm_dhdt_mean</th>\n",
       "      <th>glas_srtm_dhdt_median</th>\n",
       "      <th>glas_srtm_dhdt_std</th>\n",
       "      <th>glas_srtm_dhdt_nmad</th>\n",
       "    </tr>\n",
       "    <tr>\n",
       "      <th>RGIId</th>\n",
       "      <th></th>\n",
       "      <th></th>\n",
       "      <th></th>\n",
       "      <th></th>\n",
       "      <th></th>\n",
       "      <th></th>\n",
       "      <th></th>\n",
       "      <th></th>\n",
       "      <th></th>\n",
       "      <th></th>\n",
       "      <th></th>\n",
       "    </tr>\n",
       "  </thead>\n",
       "  <tbody>\n",
       "    <tr>\n",
       "      <th>RGI60-02.13741</th>\n",
       "      <td>Hayden Glacier OR</td>\n",
       "      <td>0.808</td>\n",
       "      <td>2367.762500</td>\n",
       "      <td>2351.530</td>\n",
       "      <td>44.709595</td>\n",
       "      <td>42.698880</td>\n",
       "      <td>12</td>\n",
       "      <td>0.313717</td>\n",
       "      <td>0.521908</td>\n",
       "      <td>0.712847</td>\n",
       "      <td>0.581288</td>\n",
       "    </tr>\n",
       "    <tr>\n",
       "      <th>RGI60-02.13756</th>\n",
       "      <td>OR</td>\n",
       "      <td>0.074</td>\n",
       "      <td>2334.240000</td>\n",
       "      <td>2309.530</td>\n",
       "      <td>40.594923</td>\n",
       "      <td>12.201798</td>\n",
       "      <td>7</td>\n",
       "      <td>0.780945</td>\n",
       "      <td>0.488872</td>\n",
       "      <td>1.156264</td>\n",
       "      <td>0.711884</td>\n",
       "    </tr>\n",
       "    <tr>\n",
       "      <th>RGI60-02.13761</th>\n",
       "      <td>Thayer Glacier OR</td>\n",
       "      <td>0.104</td>\n",
       "      <td>2577.600000</td>\n",
       "      <td>2577.600</td>\n",
       "      <td>NaN</td>\n",
       "      <td>0.000000</td>\n",
       "      <td>1</td>\n",
       "      <td>1.482302</td>\n",
       "      <td>1.482302</td>\n",
       "      <td>NaN</td>\n",
       "      <td>0.000000</td>\n",
       "    </tr>\n",
       "    <tr>\n",
       "      <th>RGI60-02.13769</th>\n",
       "      <td>Villard Glacier OR</td>\n",
       "      <td>0.051</td>\n",
       "      <td>2710.566667</td>\n",
       "      <td>2689.840</td>\n",
       "      <td>54.160927</td>\n",
       "      <td>29.666826</td>\n",
       "      <td>3</td>\n",
       "      <td>-0.500506</td>\n",
       "      <td>-0.549968</td>\n",
       "      <td>0.293306</td>\n",
       "      <td>0.320194</td>\n",
       "    </tr>\n",
       "    <tr>\n",
       "      <th>RGI60-02.13770</th>\n",
       "      <td>Linn Glacier OR</td>\n",
       "      <td>0.144</td>\n",
       "      <td>2453.932500</td>\n",
       "      <td>2394.325</td>\n",
       "      <td>172.569776</td>\n",
       "      <td>78.310932</td>\n",
       "      <td>4</td>\n",
       "      <td>0.282499</td>\n",
       "      <td>0.585407</td>\n",
       "      <td>0.806818</td>\n",
       "      <td>0.339207</td>\n",
       "    </tr>\n",
       "  </tbody>\n",
       "</table>\n",
       "</div>"
      ],
      "text/plain": [
       "                        Name_first  Area_first  glas_z_mean  glas_z_median  \\\n",
       "RGIId                                                                        \n",
       "RGI60-02.13741   Hayden Glacier OR       0.808  2367.762500       2351.530   \n",
       "RGI60-02.13756                  OR       0.074  2334.240000       2309.530   \n",
       "RGI60-02.13761   Thayer Glacier OR       0.104  2577.600000       2577.600   \n",
       "RGI60-02.13769  Villard Glacier OR       0.051  2710.566667       2689.840   \n",
       "RGI60-02.13770     Linn Glacier OR       0.144  2453.932500       2394.325   \n",
       "\n",
       "                glas_z_std  glas_z_nmad  glas_srtm_dhdt_count  \\\n",
       "RGIId                                                           \n",
       "RGI60-02.13741   44.709595    42.698880                    12   \n",
       "RGI60-02.13756   40.594923    12.201798                     7   \n",
       "RGI60-02.13761         NaN     0.000000                     1   \n",
       "RGI60-02.13769   54.160927    29.666826                     3   \n",
       "RGI60-02.13770  172.569776    78.310932                     4   \n",
       "\n",
       "                glas_srtm_dhdt_mean  glas_srtm_dhdt_median  \\\n",
       "RGIId                                                        \n",
       "RGI60-02.13741             0.313717               0.521908   \n",
       "RGI60-02.13756             0.780945               0.488872   \n",
       "RGI60-02.13761             1.482302               1.482302   \n",
       "RGI60-02.13769            -0.500506              -0.549968   \n",
       "RGI60-02.13770             0.282499               0.585407   \n",
       "\n",
       "                glas_srtm_dhdt_std  glas_srtm_dhdt_nmad  \n",
       "RGIId                                                    \n",
       "RGI60-02.13741            0.712847             0.581288  \n",
       "RGI60-02.13756            1.156264             0.711884  \n",
       "RGI60-02.13761                 NaN             0.000000  \n",
       "RGI60-02.13769            0.293306             0.320194  \n",
       "RGI60-02.13770            0.806818             0.339207  "
      ]
     },
     "execution_count": 117,
     "metadata": {},
     "output_type": "execute_result"
    }
   ],
   "source": [
    "glas_gdf_aea_rgi_agg.head()"
   ]
  },
  {
   "cell_type": "code",
   "execution_count": 118,
   "metadata": {},
   "outputs": [],
   "source": [
    "glas_gdf_aea_rgi_agg['glas_pt_density'] = glas_gdf_aea_rgi_agg['glas_srtm_dhdt_count']/glas_gdf_aea_rgi_agg['Area_first']"
   ]
  },
  {
   "cell_type": "markdown",
   "metadata": {},
   "source": [
    "## Wait a minute, what happened to our RGI polygon geometry?\n",
    "\n",
    "This was a casualty of our initial spatial join, as we preserved the Point geometry for each GLAS record, not the RGI geometry.\n",
    "\n",
    "Let's create a new GeoDataFrame, adding the original RGI geometry to the aggregated statistics.\n",
    "\n",
    "Since both DataFrames have the same Index (RGIId), Pandas will automatically join with corresponding records."
   ]
  },
  {
   "cell_type": "code",
   "execution_count": 119,
   "metadata": {},
   "outputs": [
    {
     "data": {
      "text/html": [
       "<div>\n",
       "<style scoped>\n",
       "    .dataframe tbody tr th:only-of-type {\n",
       "        vertical-align: middle;\n",
       "    }\n",
       "\n",
       "    .dataframe tbody tr th {\n",
       "        vertical-align: top;\n",
       "    }\n",
       "\n",
       "    .dataframe thead th {\n",
       "        text-align: right;\n",
       "    }\n",
       "</style>\n",
       "<table border=\"1\" class=\"dataframe\">\n",
       "  <thead>\n",
       "    <tr style=\"text-align: right;\">\n",
       "      <th></th>\n",
       "      <th>RGIId</th>\n",
       "      <th>GLIMSId</th>\n",
       "      <th>BgnDate</th>\n",
       "      <th>EndDate</th>\n",
       "      <th>CenLon</th>\n",
       "      <th>CenLat</th>\n",
       "      <th>O1Region</th>\n",
       "      <th>O2Region</th>\n",
       "      <th>Area</th>\n",
       "      <th>Zmin</th>\n",
       "      <th>...</th>\n",
       "      <th>Aspect</th>\n",
       "      <th>Lmax</th>\n",
       "      <th>Status</th>\n",
       "      <th>Connect</th>\n",
       "      <th>Form</th>\n",
       "      <th>TermType</th>\n",
       "      <th>Surging</th>\n",
       "      <th>Linkages</th>\n",
       "      <th>Name</th>\n",
       "      <th>geometry</th>\n",
       "    </tr>\n",
       "  </thead>\n",
       "  <tbody>\n",
       "    <tr>\n",
       "      <th>13699</th>\n",
       "      <td>RGI60-02.13700</td>\n",
       "      <td>G254355E40030N</td>\n",
       "      <td>19539999</td>\n",
       "      <td>-9999999</td>\n",
       "      <td>-105.645100</td>\n",
       "      <td>40.030410</td>\n",
       "      <td>2</td>\n",
       "      <td>5</td>\n",
       "      <td>0.072</td>\n",
       "      <td>3736</td>\n",
       "      <td>...</td>\n",
       "      <td>109</td>\n",
       "      <td>334</td>\n",
       "      <td>0</td>\n",
       "      <td>0</td>\n",
       "      <td>0</td>\n",
       "      <td>0</td>\n",
       "      <td>0</td>\n",
       "      <td>1</td>\n",
       "      <td>Henderson Glacier CO</td>\n",
       "      <td>POLYGON ((733183.856 -182439.954, 733180.014 -...</td>\n",
       "    </tr>\n",
       "    <tr>\n",
       "      <th>13700</th>\n",
       "      <td>RGI60-02.13701</td>\n",
       "      <td>G254352E40023N</td>\n",
       "      <td>19539999</td>\n",
       "      <td>-9999999</td>\n",
       "      <td>-105.647800</td>\n",
       "      <td>40.023280</td>\n",
       "      <td>2</td>\n",
       "      <td>5</td>\n",
       "      <td>0.244</td>\n",
       "      <td>3694</td>\n",
       "      <td>...</td>\n",
       "      <td>95</td>\n",
       "      <td>622</td>\n",
       "      <td>0</td>\n",
       "      <td>0</td>\n",
       "      <td>0</td>\n",
       "      <td>0</td>\n",
       "      <td>0</td>\n",
       "      <td>1</td>\n",
       "      <td>Arapaho Glacier CO</td>\n",
       "      <td>POLYGON ((733108.951 -183368.199, 733109.574 -...</td>\n",
       "    </tr>\n",
       "    <tr>\n",
       "      <th>13701</th>\n",
       "      <td>RGI60-02.13702</td>\n",
       "      <td>G254358E40049N</td>\n",
       "      <td>19539999</td>\n",
       "      <td>-9999999</td>\n",
       "      <td>-105.641690</td>\n",
       "      <td>40.049200</td>\n",
       "      <td>2</td>\n",
       "      <td>5</td>\n",
       "      <td>0.053</td>\n",
       "      <td>3800</td>\n",
       "      <td>...</td>\n",
       "      <td>27</td>\n",
       "      <td>180</td>\n",
       "      <td>0</td>\n",
       "      <td>0</td>\n",
       "      <td>0</td>\n",
       "      <td>0</td>\n",
       "      <td>0</td>\n",
       "      <td>1</td>\n",
       "      <td>Arikaree Glacier CO</td>\n",
       "      <td>POLYGON ((733034.552 -180342.957, 733033.152 -...</td>\n",
       "    </tr>\n",
       "    <tr>\n",
       "      <th>13702</th>\n",
       "      <td>RGI60-02.13703</td>\n",
       "      <td>G254343E40060N</td>\n",
       "      <td>19539999</td>\n",
       "      <td>-9999999</td>\n",
       "      <td>-105.657160</td>\n",
       "      <td>40.060080</td>\n",
       "      <td>2</td>\n",
       "      <td>5</td>\n",
       "      <td>0.097</td>\n",
       "      <td>3482</td>\n",
       "      <td>...</td>\n",
       "      <td>8</td>\n",
       "      <td>566</td>\n",
       "      <td>0</td>\n",
       "      <td>0</td>\n",
       "      <td>0</td>\n",
       "      <td>0</td>\n",
       "      <td>0</td>\n",
       "      <td>1</td>\n",
       "      <td>Fair Glacier CO</td>\n",
       "      <td>POLYGON ((731622.179 -179141.004, 731625.723 -...</td>\n",
       "    </tr>\n",
       "    <tr>\n",
       "      <th>13703</th>\n",
       "      <td>RGI60-02.13704</td>\n",
       "      <td>G254335E40065N</td>\n",
       "      <td>19539999</td>\n",
       "      <td>-9999999</td>\n",
       "      <td>-105.665500</td>\n",
       "      <td>40.065250</td>\n",
       "      <td>2</td>\n",
       "      <td>5</td>\n",
       "      <td>0.061</td>\n",
       "      <td>3523</td>\n",
       "      <td>...</td>\n",
       "      <td>5</td>\n",
       "      <td>325</td>\n",
       "      <td>0</td>\n",
       "      <td>0</td>\n",
       "      <td>0</td>\n",
       "      <td>0</td>\n",
       "      <td>0</td>\n",
       "      <td>9</td>\n",
       "      <td>Peck Glacier CO</td>\n",
       "      <td>POLYGON ((730885.006 -178746.016, 730892.426 -...</td>\n",
       "    </tr>\n",
       "    <tr>\n",
       "      <th>...</th>\n",
       "      <td>...</td>\n",
       "      <td>...</td>\n",
       "      <td>...</td>\n",
       "      <td>...</td>\n",
       "      <td>...</td>\n",
       "      <td>...</td>\n",
       "      <td>...</td>\n",
       "      <td>...</td>\n",
       "      <td>...</td>\n",
       "      <td>...</td>\n",
       "      <td>...</td>\n",
       "      <td>...</td>\n",
       "      <td>...</td>\n",
       "      <td>...</td>\n",
       "      <td>...</td>\n",
       "      <td>...</td>\n",
       "      <td>...</td>\n",
       "      <td>...</td>\n",
       "      <td>...</td>\n",
       "      <td>...</td>\n",
       "      <td>...</td>\n",
       "    </tr>\n",
       "    <tr>\n",
       "      <th>18850</th>\n",
       "      <td>RGI60-02.18851</td>\n",
       "      <td>G254352E40255N</td>\n",
       "      <td>20019999</td>\n",
       "      <td>-9999999</td>\n",
       "      <td>-105.648020</td>\n",
       "      <td>40.254766</td>\n",
       "      <td>2</td>\n",
       "      <td>5</td>\n",
       "      <td>0.030</td>\n",
       "      <td>3638</td>\n",
       "      <td>...</td>\n",
       "      <td>31</td>\n",
       "      <td>215</td>\n",
       "      <td>0</td>\n",
       "      <td>0</td>\n",
       "      <td>0</td>\n",
       "      <td>0</td>\n",
       "      <td>0</td>\n",
       "      <td>9</td>\n",
       "      <td>CO</td>\n",
       "      <td>POLYGON ((730306.787 -157826.838, 730305.795 -...</td>\n",
       "    </tr>\n",
       "    <tr>\n",
       "      <th>18851</th>\n",
       "      <td>RGI60-02.18852</td>\n",
       "      <td>G254364E40250N</td>\n",
       "      <td>20019999</td>\n",
       "      <td>-9999999</td>\n",
       "      <td>-105.636244</td>\n",
       "      <td>40.250242</td>\n",
       "      <td>2</td>\n",
       "      <td>5</td>\n",
       "      <td>0.013</td>\n",
       "      <td>3645</td>\n",
       "      <td>...</td>\n",
       "      <td>30</td>\n",
       "      <td>56</td>\n",
       "      <td>0</td>\n",
       "      <td>0</td>\n",
       "      <td>0</td>\n",
       "      <td>0</td>\n",
       "      <td>0</td>\n",
       "      <td>9</td>\n",
       "      <td>CO</td>\n",
       "      <td>POLYGON ((731317.636 -158195.820, 731316.645 -...</td>\n",
       "    </tr>\n",
       "    <tr>\n",
       "      <th>18852</th>\n",
       "      <td>RGI60-02.18853</td>\n",
       "      <td>G254382E40258N</td>\n",
       "      <td>20019999</td>\n",
       "      <td>-9999999</td>\n",
       "      <td>-105.618080</td>\n",
       "      <td>40.258485</td>\n",
       "      <td>2</td>\n",
       "      <td>5</td>\n",
       "      <td>0.012</td>\n",
       "      <td>4002</td>\n",
       "      <td>...</td>\n",
       "      <td>17</td>\n",
       "      <td>127</td>\n",
       "      <td>0</td>\n",
       "      <td>0</td>\n",
       "      <td>0</td>\n",
       "      <td>0</td>\n",
       "      <td>0</td>\n",
       "      <td>9</td>\n",
       "      <td>The Dove CO</td>\n",
       "      <td>POLYGON ((732736.772 -157130.519, 732736.880 -...</td>\n",
       "    </tr>\n",
       "    <tr>\n",
       "      <th>18853</th>\n",
       "      <td>RGI60-02.18854</td>\n",
       "      <td>G254389E40256N</td>\n",
       "      <td>20019999</td>\n",
       "      <td>-9999999</td>\n",
       "      <td>-105.611355</td>\n",
       "      <td>40.256107</td>\n",
       "      <td>2</td>\n",
       "      <td>5</td>\n",
       "      <td>0.031</td>\n",
       "      <td>3722</td>\n",
       "      <td>...</td>\n",
       "      <td>35</td>\n",
       "      <td>190</td>\n",
       "      <td>0</td>\n",
       "      <td>0</td>\n",
       "      <td>0</td>\n",
       "      <td>0</td>\n",
       "      <td>0</td>\n",
       "      <td>9</td>\n",
       "      <td>Mills Glacier CO</td>\n",
       "      <td>POLYGON ((733299.328 -157350.202, 733299.221 -...</td>\n",
       "    </tr>\n",
       "    <tr>\n",
       "      <th>18854</th>\n",
       "      <td>RGI60-02.18855</td>\n",
       "      <td>G254332E40212N</td>\n",
       "      <td>20019999</td>\n",
       "      <td>-9999999</td>\n",
       "      <td>-105.668465</td>\n",
       "      <td>40.211680</td>\n",
       "      <td>2</td>\n",
       "      <td>5</td>\n",
       "      <td>0.054</td>\n",
       "      <td>3619</td>\n",
       "      <td>...</td>\n",
       "      <td>77</td>\n",
       "      <td>202</td>\n",
       "      <td>0</td>\n",
       "      <td>0</td>\n",
       "      <td>0</td>\n",
       "      <td>0</td>\n",
       "      <td>0</td>\n",
       "      <td>9</td>\n",
       "      <td>Moomaw Glacier CO</td>\n",
       "      <td>POLYGON ((729078.451 -162914.921, 729077.459 -...</td>\n",
       "    </tr>\n",
       "  </tbody>\n",
       "</table>\n",
       "<p>5149 rows × 23 columns</p>\n",
       "</div>"
      ],
      "text/plain": [
       "                RGIId         GLIMSId   BgnDate   EndDate      CenLon  \\\n",
       "13699  RGI60-02.13700  G254355E40030N  19539999  -9999999 -105.645100   \n",
       "13700  RGI60-02.13701  G254352E40023N  19539999  -9999999 -105.647800   \n",
       "13701  RGI60-02.13702  G254358E40049N  19539999  -9999999 -105.641690   \n",
       "13702  RGI60-02.13703  G254343E40060N  19539999  -9999999 -105.657160   \n",
       "13703  RGI60-02.13704  G254335E40065N  19539999  -9999999 -105.665500   \n",
       "...               ...             ...       ...       ...         ...   \n",
       "18850  RGI60-02.18851  G254352E40255N  20019999  -9999999 -105.648020   \n",
       "18851  RGI60-02.18852  G254364E40250N  20019999  -9999999 -105.636244   \n",
       "18852  RGI60-02.18853  G254382E40258N  20019999  -9999999 -105.618080   \n",
       "18853  RGI60-02.18854  G254389E40256N  20019999  -9999999 -105.611355   \n",
       "18854  RGI60-02.18855  G254332E40212N  20019999  -9999999 -105.668465   \n",
       "\n",
       "          CenLat O1Region O2Region   Area  Zmin  ...  Aspect  Lmax  Status  \\\n",
       "13699  40.030410        2        5  0.072  3736  ...     109   334       0   \n",
       "13700  40.023280        2        5  0.244  3694  ...      95   622       0   \n",
       "13701  40.049200        2        5  0.053  3800  ...      27   180       0   \n",
       "13702  40.060080        2        5  0.097  3482  ...       8   566       0   \n",
       "13703  40.065250        2        5  0.061  3523  ...       5   325       0   \n",
       "...          ...      ...      ...    ...   ...  ...     ...   ...     ...   \n",
       "18850  40.254766        2        5  0.030  3638  ...      31   215       0   \n",
       "18851  40.250242        2        5  0.013  3645  ...      30    56       0   \n",
       "18852  40.258485        2        5  0.012  4002  ...      17   127       0   \n",
       "18853  40.256107        2        5  0.031  3722  ...      35   190       0   \n",
       "18854  40.211680        2        5  0.054  3619  ...      77   202       0   \n",
       "\n",
       "       Connect  Form  TermType  Surging  Linkages                  Name  \\\n",
       "13699        0     0         0        0         1  Henderson Glacier CO   \n",
       "13700        0     0         0        0         1    Arapaho Glacier CO   \n",
       "13701        0     0         0        0         1   Arikaree Glacier CO   \n",
       "13702        0     0         0        0         1       Fair Glacier CO   \n",
       "13703        0     0         0        0         9       Peck Glacier CO   \n",
       "...        ...   ...       ...      ...       ...                   ...   \n",
       "18850        0     0         0        0         9                    CO   \n",
       "18851        0     0         0        0         9                    CO   \n",
       "18852        0     0         0        0         9           The Dove CO   \n",
       "18853        0     0         0        0         9      Mills Glacier CO   \n",
       "18854        0     0         0        0         9     Moomaw Glacier CO   \n",
       "\n",
       "                                                geometry  \n",
       "13699  POLYGON ((733183.856 -182439.954, 733180.014 -...  \n",
       "13700  POLYGON ((733108.951 -183368.199, 733109.574 -...  \n",
       "13701  POLYGON ((733034.552 -180342.957, 733033.152 -...  \n",
       "13702  POLYGON ((731622.179 -179141.004, 731625.723 -...  \n",
       "13703  POLYGON ((730885.006 -178746.016, 730892.426 -...  \n",
       "...                                                  ...  \n",
       "18850  POLYGON ((730306.787 -157826.838, 730305.795 -...  \n",
       "18851  POLYGON ((731317.636 -158195.820, 731316.645 -...  \n",
       "18852  POLYGON ((732736.772 -157130.519, 732736.880 -...  \n",
       "18853  POLYGON ((733299.328 -157350.202, 733299.221 -...  \n",
       "18854  POLYGON ((729078.451 -162914.921, 729077.459 -...  \n",
       "\n",
       "[5149 rows x 23 columns]"
      ]
     },
     "execution_count": 119,
     "metadata": {},
     "output_type": "execute_result"
    }
   ],
   "source": [
    "rgi_gdf_conus_aea"
   ]
  },
  {
   "cell_type": "code",
   "execution_count": 120,
   "metadata": {},
   "outputs": [
    {
     "data": {
      "text/plain": [
       "13699    POLYGON ((733183.856 -182439.954, 733180.014 -...\n",
       "13700    POLYGON ((733108.951 -183368.199, 733109.574 -...\n",
       "13701    POLYGON ((733034.552 -180342.957, 733033.152 -...\n",
       "13702    POLYGON ((731622.179 -179141.004, 731625.723 -...\n",
       "13703    POLYGON ((730885.006 -178746.016, 730892.426 -...\n",
       "Name: geometry, dtype: geometry"
      ]
     },
     "execution_count": 120,
     "metadata": {},
     "output_type": "execute_result"
    }
   ],
   "source": [
    "rgi_gdf_conus_aea['geometry'].head()"
   ]
  },
  {
   "cell_type": "code",
   "execution_count": 121,
   "metadata": {},
   "outputs": [
    {
     "data": {
      "text/html": [
       "<div>\n",
       "<style scoped>\n",
       "    .dataframe tbody tr th:only-of-type {\n",
       "        vertical-align: middle;\n",
       "    }\n",
       "\n",
       "    .dataframe tbody tr th {\n",
       "        vertical-align: top;\n",
       "    }\n",
       "\n",
       "    .dataframe thead th {\n",
       "        text-align: right;\n",
       "    }\n",
       "</style>\n",
       "<table border=\"1\" class=\"dataframe\">\n",
       "  <thead>\n",
       "    <tr style=\"text-align: right;\">\n",
       "      <th></th>\n",
       "      <th>geometry</th>\n",
       "    </tr>\n",
       "    <tr>\n",
       "      <th>RGIId</th>\n",
       "      <th></th>\n",
       "    </tr>\n",
       "  </thead>\n",
       "  <tbody>\n",
       "    <tr>\n",
       "      <th>RGI60-02.13700</th>\n",
       "      <td>POLYGON ((733183.856 -182439.954, 733180.014 -...</td>\n",
       "    </tr>\n",
       "    <tr>\n",
       "      <th>RGI60-02.13701</th>\n",
       "      <td>POLYGON ((733108.951 -183368.199, 733109.574 -...</td>\n",
       "    </tr>\n",
       "    <tr>\n",
       "      <th>RGI60-02.13702</th>\n",
       "      <td>POLYGON ((733034.552 -180342.957, 733033.152 -...</td>\n",
       "    </tr>\n",
       "    <tr>\n",
       "      <th>RGI60-02.13703</th>\n",
       "      <td>POLYGON ((731622.179 -179141.004, 731625.723 -...</td>\n",
       "    </tr>\n",
       "    <tr>\n",
       "      <th>RGI60-02.13704</th>\n",
       "      <td>POLYGON ((730885.006 -178746.016, 730892.426 -...</td>\n",
       "    </tr>\n",
       "    <tr>\n",
       "      <th>...</th>\n",
       "      <td>...</td>\n",
       "    </tr>\n",
       "    <tr>\n",
       "      <th>RGI60-02.18851</th>\n",
       "      <td>POLYGON ((730306.787 -157826.838, 730305.795 -...</td>\n",
       "    </tr>\n",
       "    <tr>\n",
       "      <th>RGI60-02.18852</th>\n",
       "      <td>POLYGON ((731317.636 -158195.820, 731316.645 -...</td>\n",
       "    </tr>\n",
       "    <tr>\n",
       "      <th>RGI60-02.18853</th>\n",
       "      <td>POLYGON ((732736.772 -157130.519, 732736.880 -...</td>\n",
       "    </tr>\n",
       "    <tr>\n",
       "      <th>RGI60-02.18854</th>\n",
       "      <td>POLYGON ((733299.328 -157350.202, 733299.221 -...</td>\n",
       "    </tr>\n",
       "    <tr>\n",
       "      <th>RGI60-02.18855</th>\n",
       "      <td>POLYGON ((729078.451 -162914.921, 729077.459 -...</td>\n",
       "    </tr>\n",
       "  </tbody>\n",
       "</table>\n",
       "<p>5149 rows × 1 columns</p>\n",
       "</div>"
      ],
      "text/plain": [
       "                                                         geometry\n",
       "RGIId                                                            \n",
       "RGI60-02.13700  POLYGON ((733183.856 -182439.954, 733180.014 -...\n",
       "RGI60-02.13701  POLYGON ((733108.951 -183368.199, 733109.574 -...\n",
       "RGI60-02.13702  POLYGON ((733034.552 -180342.957, 733033.152 -...\n",
       "RGI60-02.13703  POLYGON ((731622.179 -179141.004, 731625.723 -...\n",
       "RGI60-02.13704  POLYGON ((730885.006 -178746.016, 730892.426 -...\n",
       "...                                                           ...\n",
       "RGI60-02.18851  POLYGON ((730306.787 -157826.838, 730305.795 -...\n",
       "RGI60-02.18852  POLYGON ((731317.636 -158195.820, 731316.645 -...\n",
       "RGI60-02.18853  POLYGON ((732736.772 -157130.519, 732736.880 -...\n",
       "RGI60-02.18854  POLYGON ((733299.328 -157350.202, 733299.221 -...\n",
       "RGI60-02.18855  POLYGON ((729078.451 -162914.921, 729077.459 -...\n",
       "\n",
       "[5149 rows x 1 columns]"
      ]
     },
     "execution_count": 121,
     "metadata": {},
     "output_type": "execute_result"
    }
   ],
   "source": [
    "rgi_gdf_conus_aea[['RGIId','geometry']].set_index('RGIId')"
   ]
  },
  {
   "cell_type": "code",
   "execution_count": 122,
   "metadata": {},
   "outputs": [],
   "source": [
    "#A bit of a hack to join on RGIId \n",
    "glas_gdf_aea_rgi_agg_gdf = gpd.GeoDataFrame(glas_gdf_aea_rgi_agg, geometry=rgi_gdf_conus_aea[['RGIId','geometry']].set_index('RGIId')['geometry'])"
   ]
  },
  {
   "cell_type": "code",
   "execution_count": 123,
   "metadata": {},
   "outputs": [
    {
     "data": {
      "text/html": [
       "<div>\n",
       "<style scoped>\n",
       "    .dataframe tbody tr th:only-of-type {\n",
       "        vertical-align: middle;\n",
       "    }\n",
       "\n",
       "    .dataframe tbody tr th {\n",
       "        vertical-align: top;\n",
       "    }\n",
       "\n",
       "    .dataframe thead th {\n",
       "        text-align: right;\n",
       "    }\n",
       "</style>\n",
       "<table border=\"1\" class=\"dataframe\">\n",
       "  <thead>\n",
       "    <tr style=\"text-align: right;\">\n",
       "      <th></th>\n",
       "      <th>Name_first</th>\n",
       "      <th>Area_first</th>\n",
       "      <th>glas_z_mean</th>\n",
       "      <th>glas_z_median</th>\n",
       "      <th>glas_z_std</th>\n",
       "      <th>glas_z_nmad</th>\n",
       "      <th>glas_srtm_dhdt_count</th>\n",
       "      <th>glas_srtm_dhdt_mean</th>\n",
       "      <th>glas_srtm_dhdt_median</th>\n",
       "      <th>glas_srtm_dhdt_std</th>\n",
       "      <th>glas_srtm_dhdt_nmad</th>\n",
       "      <th>glas_pt_density</th>\n",
       "      <th>geometry</th>\n",
       "    </tr>\n",
       "    <tr>\n",
       "      <th>RGIId</th>\n",
       "      <th></th>\n",
       "      <th></th>\n",
       "      <th></th>\n",
       "      <th></th>\n",
       "      <th></th>\n",
       "      <th></th>\n",
       "      <th></th>\n",
       "      <th></th>\n",
       "      <th></th>\n",
       "      <th></th>\n",
       "      <th></th>\n",
       "      <th></th>\n",
       "      <th></th>\n",
       "    </tr>\n",
       "  </thead>\n",
       "  <tbody>\n",
       "    <tr>\n",
       "      <th>RGI60-02.13741</th>\n",
       "      <td>Hayden Glacier OR</td>\n",
       "      <td>0.808</td>\n",
       "      <td>2367.762500</td>\n",
       "      <td>2351.530</td>\n",
       "      <td>44.709595</td>\n",
       "      <td>42.698880</td>\n",
       "      <td>12</td>\n",
       "      <td>0.313717</td>\n",
       "      <td>0.521908</td>\n",
       "      <td>0.712847</td>\n",
       "      <td>0.581288</td>\n",
       "      <td>14.851485</td>\n",
       "      <td>POLYGON ((-598133.617 265564.657, -598185.446 ...</td>\n",
       "    </tr>\n",
       "    <tr>\n",
       "      <th>RGI60-02.13756</th>\n",
       "      <td>OR</td>\n",
       "      <td>0.074</td>\n",
       "      <td>2334.240000</td>\n",
       "      <td>2309.530</td>\n",
       "      <td>40.594923</td>\n",
       "      <td>12.201798</td>\n",
       "      <td>7</td>\n",
       "      <td>0.780945</td>\n",
       "      <td>0.488872</td>\n",
       "      <td>1.156264</td>\n",
       "      <td>0.711884</td>\n",
       "      <td>94.594595</td>\n",
       "      <td>POLYGON ((-597218.162 266082.680, -597213.111 ...</td>\n",
       "    </tr>\n",
       "    <tr>\n",
       "      <th>RGI60-02.13761</th>\n",
       "      <td>Thayer Glacier OR</td>\n",
       "      <td>0.104</td>\n",
       "      <td>2577.600000</td>\n",
       "      <td>2577.600</td>\n",
       "      <td>NaN</td>\n",
       "      <td>0.000000</td>\n",
       "      <td>1</td>\n",
       "      <td>1.482302</td>\n",
       "      <td>1.482302</td>\n",
       "      <td>NaN</td>\n",
       "      <td>0.000000</td>\n",
       "      <td>9.615385</td>\n",
       "      <td>POLYGON ((-596960.080 266987.222, -596972.553 ...</td>\n",
       "    </tr>\n",
       "    <tr>\n",
       "      <th>RGI60-02.13769</th>\n",
       "      <td>Villard Glacier OR</td>\n",
       "      <td>0.051</td>\n",
       "      <td>2710.566667</td>\n",
       "      <td>2689.840</td>\n",
       "      <td>54.160927</td>\n",
       "      <td>29.666826</td>\n",
       "      <td>3</td>\n",
       "      <td>-0.500506</td>\n",
       "      <td>-0.549968</td>\n",
       "      <td>0.293306</td>\n",
       "      <td>0.320194</td>\n",
       "      <td>58.823529</td>\n",
       "      <td>POLYGON ((-597525.689 267742.830, -597539.484 ...</td>\n",
       "    </tr>\n",
       "    <tr>\n",
       "      <th>RGI60-02.13770</th>\n",
       "      <td>Linn Glacier OR</td>\n",
       "      <td>0.144</td>\n",
       "      <td>2453.932500</td>\n",
       "      <td>2394.325</td>\n",
       "      <td>172.569776</td>\n",
       "      <td>78.310932</td>\n",
       "      <td>4</td>\n",
       "      <td>0.282499</td>\n",
       "      <td>0.585407</td>\n",
       "      <td>0.806818</td>\n",
       "      <td>0.339207</td>\n",
       "      <td>27.777778</td>\n",
       "      <td>POLYGON ((-597605.776 268593.766, -597632.421 ...</td>\n",
       "    </tr>\n",
       "  </tbody>\n",
       "</table>\n",
       "</div>"
      ],
      "text/plain": [
       "                        Name_first  Area_first  glas_z_mean  glas_z_median  \\\n",
       "RGIId                                                                        \n",
       "RGI60-02.13741   Hayden Glacier OR       0.808  2367.762500       2351.530   \n",
       "RGI60-02.13756                  OR       0.074  2334.240000       2309.530   \n",
       "RGI60-02.13761   Thayer Glacier OR       0.104  2577.600000       2577.600   \n",
       "RGI60-02.13769  Villard Glacier OR       0.051  2710.566667       2689.840   \n",
       "RGI60-02.13770     Linn Glacier OR       0.144  2453.932500       2394.325   \n",
       "\n",
       "                glas_z_std  glas_z_nmad  glas_srtm_dhdt_count  \\\n",
       "RGIId                                                           \n",
       "RGI60-02.13741   44.709595    42.698880                    12   \n",
       "RGI60-02.13756   40.594923    12.201798                     7   \n",
       "RGI60-02.13761         NaN     0.000000                     1   \n",
       "RGI60-02.13769   54.160927    29.666826                     3   \n",
       "RGI60-02.13770  172.569776    78.310932                     4   \n",
       "\n",
       "                glas_srtm_dhdt_mean  glas_srtm_dhdt_median  \\\n",
       "RGIId                                                        \n",
       "RGI60-02.13741             0.313717               0.521908   \n",
       "RGI60-02.13756             0.780945               0.488872   \n",
       "RGI60-02.13761             1.482302               1.482302   \n",
       "RGI60-02.13769            -0.500506              -0.549968   \n",
       "RGI60-02.13770             0.282499               0.585407   \n",
       "\n",
       "                glas_srtm_dhdt_std  glas_srtm_dhdt_nmad  glas_pt_density  \\\n",
       "RGIId                                                                      \n",
       "RGI60-02.13741            0.712847             0.581288        14.851485   \n",
       "RGI60-02.13756            1.156264             0.711884        94.594595   \n",
       "RGI60-02.13761                 NaN             0.000000         9.615385   \n",
       "RGI60-02.13769            0.293306             0.320194        58.823529   \n",
       "RGI60-02.13770            0.806818             0.339207        27.777778   \n",
       "\n",
       "                                                         geometry  \n",
       "RGIId                                                              \n",
       "RGI60-02.13741  POLYGON ((-598133.617 265564.657, -598185.446 ...  \n",
       "RGI60-02.13756  POLYGON ((-597218.162 266082.680, -597213.111 ...  \n",
       "RGI60-02.13761  POLYGON ((-596960.080 266987.222, -596972.553 ...  \n",
       "RGI60-02.13769  POLYGON ((-597525.689 267742.830, -597539.484 ...  \n",
       "RGI60-02.13770  POLYGON ((-597605.776 268593.766, -597632.421 ...  "
      ]
     },
     "execution_count": 123,
     "metadata": {},
     "output_type": "execute_result"
    }
   ],
   "source": [
    "glas_gdf_aea_rgi_agg_gdf.head()"
   ]
  },
  {
   "cell_type": "markdown",
   "metadata": {},
   "source": [
    "# Let's make some final maps"
   ]
  },
  {
   "cell_type": "markdown",
   "metadata": {},
   "source": [
    "## Import some other useful mapping packages\n",
    "\n",
    "`matplotlib-scalebar` adds a dynamic scalebar to matplotlib axes\n",
    "\n",
    "`contextily` downloads and statically renders basemap tiles"
   ]
  },
  {
   "cell_type": "code",
   "execution_count": 124,
   "metadata": {},
   "outputs": [],
   "source": [
    "from matplotlib_scalebar.scalebar import ScaleBar\n",
    "import contextily as ctx"
   ]
  },
  {
   "cell_type": "code",
   "execution_count": 125,
   "metadata": {},
   "outputs": [],
   "source": [
    "def add_basemap(ax, crs, url='http://tile.stamen.com/terrain/tileZ/tileX/tileY.png'):\n",
    "    ctx.add_basemap(ax=ax, crs=crs, url=ctx.sources.ST_TERRAIN)\n",
    "    #Create a scalebar object, with scaling factor of 1.0 px, since we're using projected coordinate system with unit 1 m\n",
    "    scalebar = ScaleBar(1.0)\n",
    "    #Add scalebar to axes\n",
    "    ax.add_artist(scalebar)"
   ]
  },
  {
   "cell_type": "code",
   "execution_count": 126,
   "metadata": {},
   "outputs": [
    {
     "data": {
      "application/vnd.jupyter.widget-view+json": {
       "model_id": "39cc433483854a75b962ba77fecc76fa",
       "version_major": 2,
       "version_minor": 0
      },
      "text/plain": [
       "Canvas(toolbar=Toolbar(toolitems=[('Home', 'Reset original view', 'home', 'home'), ('Back', 'Back to previous …"
      ]
     },
     "metadata": {},
     "output_type": "display_data"
    }
   ],
   "source": [
    "import contextily as ctx\n",
    "f, ax = plt.subplots()\n",
    "glas_gdf_aea.plot(ax=ax, column='glas_z', cmap='inferno', markersize=2, legend=True)\n",
    "#Add basemap, specifying crs keyword\n",
    "add_basemap(ax, crs=glas_gdf_aea.crs)"
   ]
  },
  {
   "cell_type": "code",
   "execution_count": 127,
   "metadata": {},
   "outputs": [
    {
     "data": {
      "application/vnd.jupyter.widget-view+json": {
       "model_id": "7ec305a04c8c4907be36583a79775a9d",
       "version_major": 2,
       "version_minor": 0
      },
      "text/plain": [
       "Canvas(toolbar=Toolbar(toolitems=[('Home', 'Reset original view', 'home', 'home'), ('Back', 'Back to previous …"
      ]
     },
     "metadata": {},
     "output_type": "display_data"
    }
   ],
   "source": [
    "clim = (-5.0, 5.0)\n",
    "f, axa = plt.subplots(1,2, figsize=(10,4), sharex=True, sharey=True)\n",
    "\n",
    "rgi_gdf_conus_aea.plot(ax=axa[0], edgecolor='k', facecolor='w', lw=0.5, alpha=0.2);\n",
    "glas_gdf_aea_rgi_agg_gdf.plot(ax=axa[0],column='glas_srtm_dhdt_count', cmap='inferno', edgecolor='k', lw=0.5, legend=True)\n",
    "axa[0].set_title('Number of GLAS shots per RGI Polygon')\n",
    "add_basemap(axa[0], glas_gdf_aea.crs)\n",
    "\n",
    "glas_gdf_aea_rgi_agg_gdf.plot(ax=axa[1],column='glas_srtm_dhdt_median', cmap='RdBu', edgecolor='k', lw=0.5, vmin=clim[0], vmax=clim[1], legend=True)\n",
    "axa[1].set_title('Median SRTM to GLAS dh/dt (m/yr)')\n",
    "glas_gdf_aea_rgi.plot(ax=axa[1],column='glas_srtm_dhdt', cmap='RdBu', markersize=5, edgecolor='0.5', lw=0.5, vmin=clim[0], vmax=clim[1])\n",
    "states_gdf_aea.plot(ax=axa[1], edgecolor='k', facecolor='none', lw=0.5)\n",
    "\n",
    "plt.tight_layout()"
   ]
  },
  {
   "cell_type": "markdown",
   "metadata": {},
   "source": [
    "## Zoom to North Cascades"
   ]
  },
  {
   "cell_type": "markdown",
   "metadata": {},
   "source": [
    "# Can we extract any additional insight from the reduced data?"
   ]
  },
  {
   "cell_type": "markdown",
   "metadata": {},
   "source": [
    "## Point density vs. Glacier Area\n",
    "\n",
    "*Do we see more valid GLAS points over bigger glaciers?*"
   ]
  },
  {
   "cell_type": "code",
   "execution_count": 128,
   "metadata": {},
   "outputs": [
    {
     "data": {
      "application/vnd.jupyter.widget-view+json": {
       "model_id": "b67fe96c33d54f17ad656373277628be",
       "version_major": 2,
       "version_minor": 0
      },
      "text/plain": [
       "Canvas(toolbar=Toolbar(toolitems=[('Home', 'Reset original view', 'home', 'home'), ('Back', 'Back to previous …"
      ]
     },
     "metadata": {},
     "output_type": "display_data"
    }
   ],
   "source": [
    "f, ax = plt.subplots()\n",
    "ax.scatter(glas_gdf_aea_rgi_agg_gdf['Area_first'], glas_gdf_aea_rgi_agg_gdf['glas_srtm_dhdt_count'])\n",
    "ax.set_ylabel('Number of GLAS shots')\n",
    "ax.set_xlabel('Glacier Area (km^2)');"
   ]
  },
  {
   "cell_type": "markdown",
   "metadata": {},
   "source": [
    "## Median dh/dt vs. Glacier Area\n",
    "\n",
    "Do we see less elevation change over bigger glaciers?"
   ]
  },
  {
   "cell_type": "code",
   "execution_count": 129,
   "metadata": {},
   "outputs": [
    {
     "data": {
      "application/vnd.jupyter.widget-view+json": {
       "model_id": "6f5150cf99ea4c5a8bb4534214c1ef93",
       "version_major": 2,
       "version_minor": 0
      },
      "text/plain": [
       "Canvas(toolbar=Toolbar(toolitems=[('Home', 'Reset original view', 'home', 'home'), ('Back', 'Back to previous …"
      ]
     },
     "metadata": {},
     "output_type": "display_data"
    }
   ],
   "source": [
    "f, ax = plt.subplots()\n",
    "ax.scatter(glas_gdf_aea_rgi_agg_gdf['Area_first'], glas_gdf_aea_rgi_agg_gdf['glas_srtm_dhdt_median'])\n",
    "ax.set_xlabel('Glacier Area (km^2)')\n",
    "ax.set_ylabel('Median SRTM - GLAS dh/dt (m/yr)')\n",
    "ax.axhline(0, color='k');"
   ]
  },
  {
   "cell_type": "markdown",
   "metadata": {},
   "source": [
    "## Median dh/dt vs. Glacier Elevation\n",
    "\n",
    "*Do we see greater elevation loss at lower elevations?*"
   ]
  },
  {
   "cell_type": "code",
   "execution_count": 130,
   "metadata": {},
   "outputs": [
    {
     "data": {
      "application/vnd.jupyter.widget-view+json": {
       "model_id": "452f783f3ae8491dbc9f81648b5140a5",
       "version_major": 2,
       "version_minor": 0
      },
      "text/plain": [
       "Canvas(toolbar=Toolbar(toolitems=[('Home', 'Reset original view', 'home', 'home'), ('Back', 'Back to previous …"
      ]
     },
     "metadata": {},
     "output_type": "display_data"
    }
   ],
   "source": [
    "f, ax = plt.subplots()\n",
    "ax.scatter(glas_gdf_aea_rgi_agg_gdf['glas_z_median'], glas_gdf_aea_rgi_agg_gdf['glas_srtm_dhdt_median'])\n",
    "ax.set_xlabel('Median Glacier Elevation (m HAE)')\n",
    "ax.set_ylabel('Median SRTM - GLAS dh/dt (m/yr)')\n",
    "ax.axhline(0, color='k');"
   ]
  },
  {
   "cell_type": "markdown",
   "metadata": {},
   "source": [
    "## Conclusion:\n",
    "\n",
    "N/A"
   ]
  },
  {
   "cell_type": "markdown",
   "metadata": {},
   "source": [
    "# Save the final polygons to a GIS-ready file"
   ]
  },
  {
   "cell_type": "markdown",
   "metadata": {},
   "source": [
    "The workflows in these Notebooks are intended to be fully reproducible, starting with raw data and producing all final output.  But sometimes you want to write out geospatial data for analysis in a GUI-based GIS (QGIS, ArcMap), or to share with colleagues who will use these tools."
   ]
  },
  {
   "cell_type": "markdown",
   "metadata": {},
   "source": [
    "## Check available output formats for geopandas\n",
    "* Use fiona to get a list of available file type drivers for output\n",
    "* Note: the 'r' means fiona/geopandas can read this file type, 'w' means it can write this file type, 'a' means it can append to an existing file.\n",
    "    * https://fiona.readthedocs.io/en/latest/manual.html#writing-vector-data"
   ]
  },
  {
   "cell_type": "code",
   "execution_count": 131,
   "metadata": {},
   "outputs": [
    {
     "data": {
      "text/plain": [
       "{'AeronavFAA': 'r',\n",
       " 'ARCGEN': 'r',\n",
       " 'BNA': 'raw',\n",
       " 'DXF': 'raw',\n",
       " 'CSV': 'raw',\n",
       " 'OpenFileGDB': 'r',\n",
       " 'ESRIJSON': 'r',\n",
       " 'ESRI Shapefile': 'raw',\n",
       " 'GeoJSON': 'rw',\n",
       " 'GeoJSONSeq': 'rw',\n",
       " 'GPKG': 'rw',\n",
       " 'GML': 'raw',\n",
       " 'GPX': 'raw',\n",
       " 'GPSTrackMaker': 'raw',\n",
       " 'Idrisi': 'r',\n",
       " 'MapInfo File': 'raw',\n",
       " 'DGN': 'raw',\n",
       " 'PCIDSK': 'r',\n",
       " 'S57': 'r',\n",
       " 'SEGY': 'r',\n",
       " 'SUA': 'r',\n",
       " 'TopoJSON': 'r'}"
      ]
     },
     "execution_count": 131,
     "metadata": {},
     "output_type": "execute_result"
    }
   ],
   "source": [
    "import fiona\n",
    "fiona.supported_drivers"
   ]
  },
  {
   "cell_type": "markdown",
   "metadata": {},
   "source": [
    "## How to choose a format?\n",
    "* If you've taken a GIS class (or not), you've probably used shapefiles in the past.  Please stop.  The ESRI shapefile is a legacy format, though it is still widely used.\n",
    "* http://switchfromshapefile.org/\n",
    "* Better options these days are Geopackage (GPKG) when spatial index is required, and simple GeoJSON for other cases\n",
    "    * Both should be supported by your GIS (including QGIS, ArcGIS, etc)\n",
    "* Let's use geopackage for this exercise\n",
    "* Can use the Geopandas `to_file()` method to create this file\n",
    "    * Make sure you properly specify filename with extension and the `driver` option\n",
    "    * *Note: Writing out may take a minute, and may produce an intermediate '.gpkg-journal' file*\n",
    "        * Can see this in the file browser or terminal!"
   ]
  },
  {
   "cell_type": "code",
   "execution_count": 132,
   "metadata": {},
   "outputs": [],
   "source": [
    "out_fn='./conus_glas_gdf_aea_rgi_agg.gpkg'\n",
    "glas_gdf_aea_rgi_agg_gdf.to_file(out_fn, driver='GPKG')\n",
    "\n",
    "#out_fn='./conus_glas_gdf_aea_rgi_agg.geojson'\n",
    "#glas_gdf_aea_rgi_agg_gdf.to_file(out_fn, driver='GeoJSON')"
   ]
  },
  {
   "cell_type": "code",
   "execution_count": 133,
   "metadata": {},
   "outputs": [
    {
     "name": "stdout",
     "output_type": "stream",
     "text": [
      "-rw-r--r-- 1 jovyan root 816K Jun 12 05:22 ./conus_glas_gdf_aea_rgi_agg.gpkg\n"
     ]
    }
   ],
   "source": [
    "ls -lh $out_fn"
   ]
  },
  {
   "cell_type": "markdown",
   "metadata": {},
   "source": [
    "## 🎉\n",
    "\n",
    "You can now directly load this gpkg file in any GIS, without defining a coordinate system. You can also load this file directly into geopandas in the future using the `read_file()` method, without having to repeat the processing above.\n",
    "\n",
    "### See for yourself!\n",
    "Try it! Right-click on file in the file browser to the left of the JupyterLab interface, then select Download and pick a location on your local computer (e.g., your Downloads folder). \n",
    "\n",
    "Then open this file in QGIS or ArcGIS on your local machine!"
   ]
  },
  {
   "cell_type": "markdown",
   "metadata": {},
   "source": [
    "# So, what if we actually had a decent GLAS sample of CONUS glaciers?\n",
    "\n",
    "## Estimate glacier mass balance\n",
    "\n",
    "We could estimate mass balance for each glacier polygon using the mean dh/dt, glacier area, and a standard bulk density (e.g., 850 kg/m3 [Huss, 2013]).  Could then use geopandas to perform a secondary aggregation to compile statistics for polygons representing mountain ranges, river basins, etc.\n",
    "\n",
    "With a sparse sample, probably best to derive dh/dt vs. elevation curves, then combine with observed glacier hypsometry to estimate mass balance for glacier polygons.  This can work, but need to be careful about spatial variability."
   ]
  },
  {
   "cell_type": "markdown",
   "metadata": {},
   "source": [
    "# Final thoughts\n",
    "\n",
    "GLAS was not the right tool for small, low-latitude CONUS glaciers.  We kind of knew this would be the case before we started, but hey, it was worth a look, and we learned some basic Python geospatial analysis skills.\n",
    "\n",
    "The concepts and approaches presented here can be applied to larger glaciers or ice caps, especially at higher latitudes.  One could modify to repeat for all RGI regions.\n",
    "\n",
    "We started with an existing csv of culled points here.  One could repeat with a similarly processed subset of ATL06 points using the workflows presented earlier this week.  This will provide a longer time period to evaluate noisy elevation measurements.  Replacing void-filled SRTM with another reference DEM is also needed (e.g., the timestamped USGS NED).\n",
    "\n",
    "Note that the core tools presented here have Dask integration (https://dask.org/) to allow you to chunk and process larger-than-memory datasets with minimal modification to the code."
   ]
  },
  {
   "cell_type": "markdown",
   "metadata": {},
   "source": [
    "## Other visualization packages for large point datasets\n",
    "* Datashader\n",
    "* ipyvolume\n",
    "* hvplot"
   ]
  },
  {
   "cell_type": "markdown",
   "metadata": {},
   "source": [
    "# Appendix A: Distortion in Polar Stereographic Projections"
   ]
  },
  {
   "cell_type": "markdown",
   "metadata": {},
   "source": [
    "\"The [polar stereographic] projection is defined on the entire sphere, except at one point: the projection point. Where it is defined, the mapping is smooth and bijective. It is conformal, meaning that it preserves angles at which curves meet. It is neither isometric nor area-preserving: that is, it preserves neither distances nor the areas of figures.\" [Wikipedia]\n",
    "\n",
    "Many of you are probably using polar stereographic projections, likely the standard EPSG:3031 or EPSG:3413 projections for Antarctica and Greenland, respectively.  These are designed to minimize distortion near the latitude of true scale (71°S for Antarctica and 70°N for Greenland).  This means that area and distance distortion will increase as you move away from this latitude.  So areas or distances measured near the pole will not be equivalent to areas or distances measured on the Antarctic Peninsula.  The difference isn't huge, but is nontrivial (~1-2% for Antarctica I believe).  See https://nsidc.org/data/polar-stereo/ps_grids.html for more details.\n",
    "\n",
    "The figures here might help illustrate: https://en.wikipedia.org/wiki/Stereographic_projection#Properties\n",
    "\n",
    "Let's try to illustrate this nuanced, but often overlooked issue."
   ]
  },
  {
   "cell_type": "markdown",
   "metadata": {},
   "source": [
    "## Tissot's Indicatrix for polar stereographic projection\n",
    "\n",
    "Let's use the classic Tissot's Indicatrix plots to show map distortion.\n",
    "\n",
    "https://en.wikipedia.org/wiki/Tissot%27s_indicatrix"
   ]
  },
  {
   "cell_type": "code",
   "execution_count": 134,
   "metadata": {},
   "outputs": [],
   "source": [
    "import cartopy\n",
    "import cartopy.crs as ccrs\n",
    "\n",
    "#Cartopy implementation of EPSG:3031 and EPSG:3413\n",
    "crs_3031 = ccrs.SouthPolarStereo(true_scale_latitude=-71)\n",
    "crs_3413 = ccrs.NorthPolarStereo(central_longitude=-45, true_scale_latitude=70)\n",
    "\n",
    "#Circle locations\n",
    "lons = range(-180, 180, 30)\n",
    "lats = range(-90, 91, 10)\n",
    "#Radius of circles\n",
    "rad = 400"
   ]
  },
  {
   "cell_type": "code",
   "execution_count": 135,
   "metadata": {},
   "outputs": [
    {
     "data": {
      "application/vnd.jupyter.widget-view+json": {
       "model_id": "f190f7a22f1641e4ad749b182f59a199",
       "version_major": 2,
       "version_minor": 0
      },
      "text/plain": [
       "Canvas(toolbar=Toolbar(toolitems=[('Home', 'Reset original view', 'home', 'home'), ('Back', 'Back to previous …"
      ]
     },
     "metadata": {},
     "output_type": "display_data"
    }
   ],
   "source": [
    "fig = plt.figure(figsize=(10,5))\n",
    "ax1 = plt.subplot(1, 2, 1, projection=crs_3413)\n",
    "ax1.coastlines()\n",
    "ax1.gridlines(ylocs=[70,],color='r')\n",
    "ax1.tissot(facecolor='orange', edgecolor='0.5', alpha=0.4, rad_km=rad, lons=lons, lats=lats)\n",
    "ax1.set_title('EPSG:3413')\n",
    "\n",
    "ax2 = plt.subplot(1, 2, 2, projection=crs_3031)\n",
    "ax2.coastlines()\n",
    "ax2.gridlines(ylocs=[-71,],color='r')\n",
    "ax2.tissot(facecolor='orange', edgecolor='0.5', alpha=0.4, rad_km=rad, lons=lons, lats=lats)\n",
    "ax2.set_title('EPSG:3031')\n",
    "ax2.set_extent([-180, 180, -90, -50], ccrs.PlateCarree())\n",
    "\n",
    "#There is a bug in cartopy extent when central_longitude is not 0\n",
    "#Get extent in projected crs (x0, x1, y0, y1)\n",
    "extent_3413 = ax2.get_extent()\n",
    "ax1.set_extent(extent_3413, crs_3413)\n",
    "plt.tight_layout()"
   ]
  },
  {
   "cell_type": "markdown",
   "metadata": {},
   "source": [
    "## OK, cool plot bro.  But why does this matter?\n",
    "\n",
    "Note the size of the circles in the corners and over the pole, relative to the circles near the latitude of true scale (red line).  While it is unlikely that you'll use this projection to look at mid-latitude regions, you can see the difference in area distortion over the ~20° of latitude between North and South Greenland.\n",
    "\n",
    "Say you generated amazing elevation difference grids for all of the Greenland ice sheet using ICESat and ICESat-2 crossovers, and you used the EPSG:3413 projection.  Say the grids have a posting (grid cell size) of 120 m.  Imagine didividing the above plots into grid cells.  You'll end up with more grid cells over the circles at lower latitudes (e.g., South Greenland) and fewer grid cells over circles at high latitudes (e.g., North Greenland).  \n",
    "\n",
    "Let's put it another way.  You could try to compute volume change of the Greenland ice sheet by summing dh/dt values for all grid cells in each catchment.  Let's assume all grid cells have the same -1.0 m/yr value.  The integrated estimates for the catchments in South Greenland will have more grid cells due to the projection, resulting in larger apparent negative volume change!"
   ]
  },
  {
   "cell_type": "markdown",
   "metadata": {},
   "source": [
    "## Let's compare with an equal-area projection\n",
    "Lambert Azimuthal Equal-Area is not a bad choice for the polar regions"
   ]
  },
  {
   "cell_type": "code",
   "execution_count": 136,
   "metadata": {},
   "outputs": [],
   "source": [
    "#Cartopy implementation of EPSG:3031 and EPSG:3413\n",
    "#crs_slaea = ccrs.LambertAzimuthalEqualArea(central_longitude=0.0, central_latitude=-90.0)\n",
    "crs_nlaea = ccrs.LambertAzimuthalEqualArea(central_longitude=-45.0, central_latitude=90.0)\n",
    "\n",
    "#Specify locations of Tissot's Indicatrix\n",
    "lons = range(-180, 180, 30)\n",
    "lats = range(-90, 91, 10)\n",
    "rad = 400"
   ]
  },
  {
   "cell_type": "code",
   "execution_count": 137,
   "metadata": {},
   "outputs": [],
   "source": [
    "#Add a 100 km grid\n",
    "dx = 100000\n",
    "xgrid = np.arange(extent_3413[0], extent_3413[1]+dx, dx)\n",
    "ygrid = np.arange(extent_3413[2], extent_3413[3]+dx, dx)"
   ]
  },
  {
   "cell_type": "code",
   "execution_count": 138,
   "metadata": {},
   "outputs": [
    {
     "data": {
      "application/vnd.jupyter.widget-view+json": {
       "model_id": "04bb3d1ae4a741fbbef32e2ea666029f",
       "version_major": 2,
       "version_minor": 0
      },
      "text/plain": [
       "Canvas(toolbar=Toolbar(toolitems=[('Home', 'Reset original view', 'home', 'home'), ('Back', 'Back to previous …"
      ]
     },
     "metadata": {},
     "output_type": "display_data"
    }
   ],
   "source": [
    "fig = plt.figure(figsize=(10,5))\n",
    "ax1 = plt.subplot(1, 2, 1, projection=crs_3413)\n",
    "ax1.coastlines()\n",
    "ax1.tissot(facecolor='orange', edgecolor='0.5', alpha=0.4, rad_km=rad, lons=lons, lats=lats)\n",
    "ax1.set_title('EPSG:3413')\n",
    "#ax1.gridlines(crs=ccrs.PlateCarree(), ylocs=lats)\n",
    "ax1.gridlines(crs=crs_3413, xlocs=xgrid, ylocs=ygrid)\n",
    "ax1.gridlines(ylocs=[70,],color='r')\n",
    "\n",
    "ax2 = plt.subplot(1, 2, 2, projection=crs_nlaea)\n",
    "ax2.coastlines()\n",
    "ax2.tissot(facecolor='orange', edgecolor='0.5', alpha=0.4, rad_km=rad, lons=lons, lats=lats)\n",
    "ax2.set_title('Lambert Azimuthal Equal-Area')\n",
    "ax2.set_extent([-180, 180, 50, 90], ccrs.PlateCarree())\n",
    "#ax2.gridlines(crs=ccrs.PlateCarree(), ylocs=lats)\n",
    "ax2.gridlines(crs=crs_nlaea, xlocs=xgrid, ylocs=ygrid)\n",
    "\n",
    "#ax1.set_extent(extent_3413, crs_3413)\n",
    "#ax2.set_extent(extent_3413, crs_3413)\n",
    "\n",
    "gr_extent = [-1.4E6,1.4E6,-3.7E6,-5.3E5]\n",
    "ax1.set_extent(gr_extent, crs_3413)\n",
    "ax2.set_extent(gr_extent, crs_3413)"
   ]
  },
  {
   "cell_type": "markdown",
   "metadata": {},
   "source": [
    "Not the distorted shape of the circles near Southern Greenland, though they should have identical area."
   ]
  },
  {
   "cell_type": "markdown",
   "metadata": {},
   "source": [
    "## Bonus: the \"Flat Earth\" Projection: Azimuthal Equidistant"
   ]
  },
  {
   "cell_type": "markdown",
   "metadata": {},
   "source": [
    "![Azimuthal Equidistant](https://upload.wikimedia.org/wikipedia/commons/2/2f/Flat_earth.png)\n",
    "\n",
    ">An azimuthal equidistant projection of the entire spherical Earth. A rendered picture of the Flat Earth model. The white around the outside of the globe is thought to be an 'Ice Wall', preventing people from falling off the surface of the earth. [Wikipedia]\n",
    "\n",
    "So, those of you who have been to the South Pole, can you help me understand how this works?"
   ]
  },
  {
   "cell_type": "markdown",
   "metadata": {},
   "source": [
    "# Appendix B: Sampling a raster at points\n",
    "\n",
    "This is something that is surprisingly common, but may not be simple to implement.  Let's discuss a few options:\n",
    "1. Simple `rasterio` sampling with integer indices using nearest neighbor\n",
    "2. Statistics extracted for a circular window around each point location\n",
    "3. NumPy/SciPy interpolation routines"
   ]
  },
  {
   "cell_type": "markdown",
   "metadata": {},
   "source": [
    "For this example, we will use a sample 90-m SRTM-GL1 DEM over WA state, but you could repeat with any DEM (e.g., ArcticDEM)"
   ]
  },
  {
   "cell_type": "markdown",
   "metadata": {},
   "source": [
    "## 1. Rasterio sampling"
   ]
  },
  {
   "cell_type": "code",
   "execution_count": 139,
   "metadata": {},
   "outputs": [],
   "source": [
    "import os\n",
    "import rasterio as rio\n",
    "from rasterio import plot"
   ]
  },
  {
   "cell_type": "markdown",
   "metadata": {},
   "source": [
    "### Open the file with rasterio\n",
    "\n",
    "https://rasterio.readthedocs.io/en/stable/"
   ]
  },
  {
   "cell_type": "code",
   "execution_count": 140,
   "metadata": {},
   "outputs": [],
   "source": [
    "srtm_fn = '/srv/shared/SRTM3_wa_mosaic_utm.tif'"
   ]
  },
  {
   "cell_type": "code",
   "execution_count": 141,
   "metadata": {},
   "outputs": [],
   "source": [
    "#This is rasterio Dataset object\n",
    "srtm_src = rio.open(srtm_fn)"
   ]
  },
  {
   "cell_type": "code",
   "execution_count": 142,
   "metadata": {},
   "outputs": [
    {
     "data": {
      "text/plain": [
       "{'driver': 'GTiff', 'dtype': 'int16', 'nodata': -32768.0, 'width': 11298, 'height': 8406, 'count': 1, 'crs': CRS.from_epsg(32610), 'transform': Affine(69.75777310180744, 0.0, 342369.35927004984,\n",
       "       0.0, -69.75777310180744, 5569366.822198175), 'blockxsize': 256, 'blockysize': 256, 'tiled': True, 'compress': 'lzw', 'interleave': 'band'}"
      ]
     },
     "execution_count": 142,
     "metadata": {},
     "output_type": "execute_result"
    }
   ],
   "source": [
    "srtm_src.profile"
   ]
  },
  {
   "cell_type": "code",
   "execution_count": 143,
   "metadata": {},
   "outputs": [
    {
     "data": {
      "text/plain": [
       "CRS.from_epsg(32610)"
      ]
     },
     "execution_count": 143,
     "metadata": {},
     "output_type": "execute_result"
    }
   ],
   "source": [
    "srtm_src.crs"
   ]
  },
  {
   "cell_type": "code",
   "execution_count": 144,
   "metadata": {},
   "outputs": [],
   "source": [
    "srtm_extent = rio.plot.plotting_extent(srtm_src)"
   ]
  },
  {
   "cell_type": "markdown",
   "metadata": {},
   "source": [
    "### Read as a NumPy Masked array"
   ]
  },
  {
   "cell_type": "code",
   "execution_count": 145,
   "metadata": {},
   "outputs": [],
   "source": [
    "srtm = srtm_src.read(1, masked=True)"
   ]
  },
  {
   "cell_type": "code",
   "execution_count": 146,
   "metadata": {},
   "outputs": [
    {
     "data": {
      "text/plain": [
       "masked_array(\n",
       "  data=[[--, --, --, ..., --, --, --],\n",
       "        [--, --, --, ..., --, --, --],\n",
       "        [--, --, --, ..., --, --, --],\n",
       "        ...,\n",
       "        [--, --, --, ..., --, --, --],\n",
       "        [--, --, --, ..., --, --, --],\n",
       "        [--, --, --, ..., --, --, --]],\n",
       "  mask=[[ True,  True,  True, ...,  True,  True,  True],\n",
       "        [ True,  True,  True, ...,  True,  True,  True],\n",
       "        [ True,  True,  True, ...,  True,  True,  True],\n",
       "        ...,\n",
       "        [ True,  True,  True, ...,  True,  True,  True],\n",
       "        [ True,  True,  True, ...,  True,  True,  True],\n",
       "        [ True,  True,  True, ...,  True,  True,  True]],\n",
       "  fill_value=-32768,\n",
       "  dtype=int16)"
      ]
     },
     "execution_count": 146,
     "metadata": {},
     "output_type": "execute_result"
    }
   ],
   "source": [
    "srtm"
   ]
  },
  {
   "cell_type": "markdown",
   "metadata": {},
   "source": [
    "### Create a quick plot"
   ]
  },
  {
   "cell_type": "code",
   "execution_count": 147,
   "metadata": {},
   "outputs": [
    {
     "data": {
      "application/vnd.jupyter.widget-view+json": {
       "model_id": "3fed1bd078f247688dcfd257c691acce",
       "version_major": 2,
       "version_minor": 0
      },
      "text/plain": [
       "Canvas(toolbar=Toolbar(toolitems=[('Home', 'Reset original view', 'home', 'home'), ('Back', 'Back to previous …"
      ]
     },
     "metadata": {},
     "output_type": "display_data"
    }
   ],
   "source": [
    "f, ax = plt.subplots()\n",
    "ax.imshow(srtm, extent=srtm_extent);"
   ]
  },
  {
   "cell_type": "markdown",
   "metadata": {},
   "source": [
    "## Generate shaded relief map\n",
    "* Many ways to do this, but we'll just use the `gdaldem` command line utility for simplicity"
   ]
  },
  {
   "cell_type": "code",
   "execution_count": 148,
   "metadata": {},
   "outputs": [
    {
     "name": "stdout",
     "output_type": "stream",
     "text": [
      "0...10...20...30...40...50...60...70...80...90...100 - done.\n"
     ]
    }
   ],
   "source": [
    "hs_fn = os.path.splitext(srtm_fn)[0]+'_hs.tif'\n",
    "!gdaldem hillshade $srtm_fn $hs_fn"
   ]
  },
  {
   "cell_type": "code",
   "execution_count": 149,
   "metadata": {},
   "outputs": [],
   "source": [
    "srtm_hs_src = rio.open(hs_fn)\n",
    "hs = srtm_hs_src.read(1, masked=True)"
   ]
  },
  {
   "cell_type": "markdown",
   "metadata": {},
   "source": [
    "## Plot color shaded relief map"
   ]
  },
  {
   "cell_type": "code",
   "execution_count": 150,
   "metadata": {},
   "outputs": [
    {
     "data": {
      "application/vnd.jupyter.widget-view+json": {
       "model_id": "bb47cb3147b3475a8eb7fd50eb7d0fcb",
       "version_major": 2,
       "version_minor": 0
      },
      "text/plain": [
       "Canvas(toolbar=Toolbar(toolitems=[('Home', 'Reset original view', 'home', 'home'), ('Back', 'Back to previous …"
      ]
     },
     "metadata": {},
     "output_type": "display_data"
    }
   ],
   "source": [
    "f, ax = plt.subplots()\n",
    "ax.imshow(hs, cmap='gray', extent=rio.plot.plotting_extent(srtm_hs_src))\n",
    "ax.imshow(srtm, extent=srtm_extent, alpha=0.5);"
   ]
  },
  {
   "cell_type": "markdown",
   "metadata": {},
   "source": [
    "### Reproject GLAS points to match raster"
   ]
  },
  {
   "cell_type": "code",
   "execution_count": 151,
   "metadata": {},
   "outputs": [],
   "source": [
    "glas_gdf_srtm = glas_gdf_aea.to_crs(srtm_src.crs)"
   ]
  },
  {
   "cell_type": "markdown",
   "metadata": {},
   "source": [
    "### Prepare the coordinate arrays to pass to rio `sample` function\n",
    "* The `sample` function expects a list of (x,y) tuples: https://rasterio.readthedocs.io/en/latest/api/rasterio.sample.html\n",
    "    * Need to create this from the `geometry` objects in your GeoDataFrame\n",
    "    * You want a list of the form [(x1,y1),(x2,y2),…]\n",
    "* Pass to `sample`\n",
    "* Note that the `sample` function returns a `generator` object, and it doesn't actually evaluate the call!\n",
    "* Can wrap this in a `np.array(list())` to evaluate, or use `np.fromiter()`\n",
    "* This operation may take ~10-20 seconds to complete"
   ]
  },
  {
   "cell_type": "code",
   "execution_count": 152,
   "metadata": {},
   "outputs": [],
   "source": [
    "glas_coord = [(pt.x, pt.y) for pt in glas_gdf_srtm.geometry]\n",
    "#glas_coord = np.vstack((glas_gdf_srtm.geometry.x.values, glas_gdf_srtm.geometry.y.values)).T"
   ]
  },
  {
   "cell_type": "markdown",
   "metadata": {},
   "source": [
    "### Sample with rasterio"
   ]
  },
  {
   "cell_type": "code",
   "execution_count": 153,
   "metadata": {},
   "outputs": [
    {
     "data": {
      "text/plain": [
       "<generator object sample_gen at 0x7fe849306a50>"
      ]
     },
     "execution_count": 153,
     "metadata": {},
     "output_type": "execute_result"
    }
   ],
   "source": [
    "glas_srtm_sample = srtm_src.sample(glas_coord)\n",
    "glas_srtm_sample"
   ]
  },
  {
   "cell_type": "markdown",
   "metadata": {},
   "source": [
    "### This is a generator, so we actually need to evaluate"
   ]
  },
  {
   "cell_type": "code",
   "execution_count": 154,
   "metadata": {},
   "outputs": [
    {
     "data": {
      "text/plain": [
       "array([-32768, -32768, -32768, ..., -32768, -32768, -32768], dtype=int16)"
      ]
     },
     "execution_count": 154,
     "metadata": {},
     "output_type": "execute_result"
    }
   ],
   "source": [
    "glas_srtm_elev = np.fromiter(glas_srtm_sample, dtype=srtm.dtype)\n",
    "glas_srtm_elev"
   ]
  },
  {
   "cell_type": "markdown",
   "metadata": {},
   "source": [
    "### Deal with nodata\n",
    "* Some of our GLAS points are located over areas where we don't have valid DEM pixels\n",
    "* These will be assigned the raster nodata value (-32768 in this case)"
   ]
  },
  {
   "cell_type": "code",
   "execution_count": 172,
   "metadata": {},
   "outputs": [
    {
     "data": {
      "text/plain": [
       "masked_array(data=[--, --, --, ..., --, --, --],\n",
       "             mask=[ True,  True,  True, ...,  True,  True,  True],\n",
       "       fill_value=-32768,\n",
       "            dtype=int16)"
      ]
     },
     "execution_count": 172,
     "metadata": {},
     "output_type": "execute_result"
    }
   ],
   "source": [
    "glas_srtm_elev_ma = np.ma.masked_equal(glas_srtm_elev, srtm_src.nodata)\n",
    "glas_srtm_elev_ma"
   ]
  },
  {
   "cell_type": "markdown",
   "metadata": {},
   "source": [
    "### Add new column to the GeoDataFrame\n",
    "* Set masked values to `np.nan` (which requires a conversion to float)"
   ]
  },
  {
   "cell_type": "code",
   "execution_count": 156,
   "metadata": {},
   "outputs": [],
   "source": [
    "glas_gdf_srtm['srtm_90m_z_rio'] = glas_srtm_elev_ma.astype(float).filled(np.nan)"
   ]
  },
  {
   "cell_type": "code",
   "execution_count": 157,
   "metadata": {},
   "outputs": [
    {
     "data": {
      "text/html": [
       "<div>\n",
       "<style scoped>\n",
       "    .dataframe tbody tr th:only-of-type {\n",
       "        vertical-align: middle;\n",
       "    }\n",
       "\n",
       "    .dataframe tbody tr th {\n",
       "        vertical-align: top;\n",
       "    }\n",
       "\n",
       "    .dataframe thead th {\n",
       "        text-align: right;\n",
       "    }\n",
       "</style>\n",
       "<table border=\"1\" class=\"dataframe\">\n",
       "  <thead>\n",
       "    <tr style=\"text-align: right;\">\n",
       "      <th></th>\n",
       "      <th>decyear</th>\n",
       "      <th>ordinal</th>\n",
       "      <th>lat</th>\n",
       "      <th>lon</th>\n",
       "      <th>glas_z</th>\n",
       "      <th>dem_z</th>\n",
       "      <th>dem_z_std</th>\n",
       "      <th>lulc</th>\n",
       "      <th>glas_srtm_dh</th>\n",
       "      <th>glas_srtm_dt</th>\n",
       "      <th>glas_srtm_dhdt</th>\n",
       "      <th>geometry</th>\n",
       "      <th>srtm_90m_z_rio</th>\n",
       "    </tr>\n",
       "  </thead>\n",
       "  <tbody>\n",
       "    <tr>\n",
       "      <th>471</th>\n",
       "      <td>2003.143756</td>\n",
       "      <td>731268.470840</td>\n",
       "      <td>46.304107</td>\n",
       "      <td>-124.040358</td>\n",
       "      <td>-23.92</td>\n",
       "      <td>-23.73</td>\n",
       "      <td>0.00</td>\n",
       "      <td>31</td>\n",
       "      <td>-0.19</td>\n",
       "      <td>3.031756</td>\n",
       "      <td>-0.062670</td>\n",
       "      <td>POINT (419885.336 5128362.681)</td>\n",
       "      <td>1.0</td>\n",
       "    </tr>\n",
       "    <tr>\n",
       "      <th>483</th>\n",
       "      <td>2003.143756</td>\n",
       "      <td>731268.471078</td>\n",
       "      <td>47.574649</td>\n",
       "      <td>-124.316324</td>\n",
       "      <td>86.25</td>\n",
       "      <td>52.15</td>\n",
       "      <td>6.86</td>\n",
       "      <td>31</td>\n",
       "      <td>34.10</td>\n",
       "      <td>3.031756</td>\n",
       "      <td>11.247606</td>\n",
       "      <td>POINT (401004.504 5269865.469)</td>\n",
       "      <td>94.0</td>\n",
       "    </tr>\n",
       "    <tr>\n",
       "      <th>484</th>\n",
       "      <td>2003.143756</td>\n",
       "      <td>731268.471078</td>\n",
       "      <td>47.576197</td>\n",
       "      <td>-124.316654</td>\n",
       "      <td>114.96</td>\n",
       "      <td>96.83</td>\n",
       "      <td>9.48</td>\n",
       "      <td>31</td>\n",
       "      <td>18.13</td>\n",
       "      <td>3.031756</td>\n",
       "      <td>5.980032</td>\n",
       "      <td>POINT (400982.605 5270037.926)</td>\n",
       "      <td>132.0</td>\n",
       "    </tr>\n",
       "    <tr>\n",
       "      <th>485</th>\n",
       "      <td>2003.143756</td>\n",
       "      <td>731268.471103</td>\n",
       "      <td>47.707542</td>\n",
       "      <td>-124.345717</td>\n",
       "      <td>79.83</td>\n",
       "      <td>73.15</td>\n",
       "      <td>2.38</td>\n",
       "      <td>31</td>\n",
       "      <td>6.68</td>\n",
       "      <td>3.031756</td>\n",
       "      <td>2.203343</td>\n",
       "      <td>POINT (399050.384 5284672.588)</td>\n",
       "      <td>100.0</td>\n",
       "    </tr>\n",
       "    <tr>\n",
       "      <th>486</th>\n",
       "      <td>2003.143756</td>\n",
       "      <td>731268.471103</td>\n",
       "      <td>47.709092</td>\n",
       "      <td>-124.346068</td>\n",
       "      <td>85.99</td>\n",
       "      <td>69.48</td>\n",
       "      <td>4.03</td>\n",
       "      <td>31</td>\n",
       "      <td>16.51</td>\n",
       "      <td>3.031756</td>\n",
       "      <td>5.445688</td>\n",
       "      <td>POINT (399027.048 5284845.308)</td>\n",
       "      <td>104.0</td>\n",
       "    </tr>\n",
       "  </tbody>\n",
       "</table>\n",
       "</div>"
      ],
      "text/plain": [
       "         decyear        ordinal        lat         lon  glas_z  dem_z  \\\n",
       "471  2003.143756  731268.470840  46.304107 -124.040358  -23.92 -23.73   \n",
       "483  2003.143756  731268.471078  47.574649 -124.316324   86.25  52.15   \n",
       "484  2003.143756  731268.471078  47.576197 -124.316654  114.96  96.83   \n",
       "485  2003.143756  731268.471103  47.707542 -124.345717   79.83  73.15   \n",
       "486  2003.143756  731268.471103  47.709092 -124.346068   85.99  69.48   \n",
       "\n",
       "     dem_z_std  lulc  glas_srtm_dh  glas_srtm_dt  glas_srtm_dhdt  \\\n",
       "471       0.00    31         -0.19      3.031756       -0.062670   \n",
       "483       6.86    31         34.10      3.031756       11.247606   \n",
       "484       9.48    31         18.13      3.031756        5.980032   \n",
       "485       2.38    31          6.68      3.031756        2.203343   \n",
       "486       4.03    31         16.51      3.031756        5.445688   \n",
       "\n",
       "                           geometry  srtm_90m_z_rio  \n",
       "471  POINT (419885.336 5128362.681)             1.0  \n",
       "483  POINT (401004.504 5269865.469)            94.0  \n",
       "484  POINT (400982.605 5270037.926)           132.0  \n",
       "485  POINT (399050.384 5284672.588)           100.0  \n",
       "486  POINT (399027.048 5284845.308)           104.0  "
      ]
     },
     "execution_count": 157,
     "metadata": {},
     "output_type": "execute_result"
    }
   ],
   "source": [
    "glas_gdf_srtm.dropna().head()"
   ]
  },
  {
   "cell_type": "code",
   "execution_count": 176,
   "metadata": {},
   "outputs": [
    {
     "data": {
      "application/vnd.jupyter.widget-view+json": {
       "model_id": "bb0f92d900754cae83b447672aec375b",
       "version_major": 2,
       "version_minor": 0
      },
      "text/plain": [
       "Canvas(toolbar=Toolbar(toolitems=[('Home', 'Reset original view', 'home', 'home'), ('Back', 'Back to previous …"
      ]
     },
     "metadata": {},
     "output_type": "display_data"
    }
   ],
   "source": [
    "f, ax = plt.subplots()\n",
    "ax.imshow(hs, cmap='gray', extent=rio.plot.plotting_extent(srtm_hs_src))\n",
    "#ax.imshow(srtm, extent=srtm_extent, alpha=0.5);\n",
    "glas_gdf_srtm.dropna().plot('srtm_90m_z_rio', ax=ax, markersize=1);"
   ]
  },
  {
   "cell_type": "markdown",
   "metadata": {},
   "source": [
    "*Note: the SRTM elevation values are height above the EGM96 geoid*"
   ]
  },
  {
   "cell_type": "markdown",
   "metadata": {},
   "source": [
    "### Notes on sampling coarse rasters or noisy rasters at integer pixel locations\n",
    "* The rasterio approach is efficient, but it uses a nearest neighbor algorithm to extract the elevation value for the grid cell that contains the point, regardless of where the point falls within the grid cell (center vs. corner)\n",
    "* But the DEM grid cells can be big (~90x90 m for the SRTM3 data), so if point is near the corner of a pixel on steep slope, the pixel value might not be representative.\n",
    "* A better approach is to use bilinear or bicubic sampling, to interpolate the elevation value at the point coordinate using pixel values within some neighborhood around the point, (e.g. 2x2 window for bilinear, 4x4 window for cubic)\n",
    "* Other approaches involve computing zonal stats within some radius of the point location (e.g., median elevation of pixels within 300 m of the point, using buffer to create polygons)\n",
    "    * https://www.earthdatascience.org/courses/earth-analytics-python/lidar-remote-sensing-uncertainty/extract-data-from-raster/\n",
    "    * https://pysal.org/scipy2019-intermediate-gds/deterministic/gds2-rasters.html#getting-values-at-cells\n",
    "    * https://github.com/dshean/pygeotools/blob/master/pygeotools/lib/geolib.py#L1019"
   ]
  },
  {
   "cell_type": "markdown",
   "metadata": {},
   "source": [
    "## 2. Local window sample\n",
    "\n",
    "https://github.com/dshean/demcoreg/blob/master/demcoreg/sample_raster_at_pts.py\n",
    "\n",
    "https://github.com/dshean/pygeotools/blob/master/pygeotools/lib/geolib.py#L1019"
   ]
  }
 ],
 "metadata": {
  "kernelspec": {
   "display_name": "Python 3",
   "language": "python",
   "name": "python3"
  },
  "language_info": {
   "codemirror_mode": {
    "name": "ipython",
    "version": 3
   },
   "file_extension": ".py",
   "mimetype": "text/x-python",
   "name": "python",
   "nbconvert_exporter": "python",
   "pygments_lexer": "ipython3",
   "version": "3.7.6"
  }
 },
 "nbformat": 4,
 "nbformat_minor": 4
}
